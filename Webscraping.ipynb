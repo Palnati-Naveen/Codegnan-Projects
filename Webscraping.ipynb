{
 "cells": [
  {
   "cell_type": "code",
   "execution_count": 1,
   "id": "61909177",
   "metadata": {},
   "outputs": [],
   "source": [
    "# Loading required libraries\n",
    "\n",
    "import numpy as np\n",
    "import pandas as pd\n",
    "\n",
    "import requests\n",
    "from bs4 import BeautifulSoup"
   ]
  },
  {
   "cell_type": "code",
   "execution_count": null,
   "id": "5910a9a1-3fda-46ae-a862-b2fbbc3cdbe7",
   "metadata": {},
   "outputs": [],
   "source": []
  },
  {
   "cell_type": "code",
   "execution_count": 6,
   "id": "a2306cee",
   "metadata": {},
   "outputs": [],
   "source": [
    "# Identify the URL\n",
    "\n",
    "URL = 'https://www.flipkart.com/search?q=laptops&as=on&as-show=on&otracker=AS_Query_TrendingAutoSuggest_4_0_na_na_na&otracker1=AS_Query_TrendingAutoSuggest_4_0_na_na_na&as-pos=4&as-type=TRENDING&suggestionId=laptops&requestId=77c22454-660c-4e89-beba-11c6672e021e'"
   ]
  },
  {
   "cell_type": "code",
   "execution_count": 7,
   "id": "f54aed9f",
   "metadata": {},
   "outputs": [],
   "source": [
    "# Loading the WebPage in Memory using requests library\n",
    "\n",
    "page = requests.get(URL)"
   ]
  },
  {
   "cell_type": "code",
   "execution_count": 8,
   "id": "e9cd176e",
   "metadata": {},
   "outputs": [
    {
     "data": {
      "text/plain": [
       "403"
      ]
     },
     "execution_count": 8,
     "metadata": {},
     "output_type": "execute_result"
    }
   ],
   "source": [
    "# Check the Status Code of the Page\n",
    "\n",
    "page.status_code"
   ]
  },
  {
   "cell_type": "code",
   "execution_count": 22,
   "id": "332a68de",
   "metadata": {},
   "outputs": [],
   "source": [
    "# Extracting the HTML Code of the WebPage\n",
    "\n",
    "htmlCode = page.text\n",
    "soup = BeautifulSoup(htmlCode)"
   ]
  },
  {
   "cell_type": "code",
   "execution_count": 23,
   "id": "16cf0aec",
   "metadata": {},
   "outputs": [
    {
     "data": {
      "text/plain": [
       "'<!doctype html><html lang=\"en\"><head><link href=\"https://rukminim2.flixcart.com\" rel=\"preconnect\"/><link rel=\"stylesheet\" href=\"//static-assets-web.flixcart.com/fk-p-linchpin-web/fk-cp-zion/css/atlas.chunk.8dd48d.css\"/><link rel=\"stylesheet\" href=\"//static-assets-web.flixcart.com/fk-p-linchpin-web/fk-cp-zion/css/app_modules.chunk.c48a12.css\"/><link rel=\"stylesheet\" href=\"//static-assets-web.flixcart.com/fk-p-linchpin-web/fk-cp-zion/css/app.chunk.82d9ea.css\"/><meta http-equiv=\"Content-type\" content=\"text/html; charset=utf-8\"/><meta http-equiv=\"X-UA-Compatible\" content=\"IE=Edge\"/><meta property=\"fb:page_id\" content=\"102988293558\"/><meta property=\"fb:admins\" content=\"658873552,624500995,100000233612389\"/><link rel=\"shortcut icon\" href=\"https:///www/promos/new/20150528-140547-favicon-retina.ico\"/><link type=\"application/opensearchdescription+xml\" rel=\"search\" href=\"/osdd.xml?v=2\"/><meta property=\"og:type\" content=\"website\"/><meta name=\"og_site_name\" property=\"og:site_name\" content=\"Flipkart.com\"/><link rel=\"apple-touch-icon\" sizes=\"57x57\" href=\"/apple-touch-icon-57x57.png\"/><link rel=\"apple-touch-icon\" sizes=\"72x72\" href=\"/apple-touch-icon-72x72.png\"/><link rel=\"apple-touch-icon\" sizes=\"114x114\" href=\"/apple-touch-icon-114x114.png\"/><link rel=\"apple-touch-icon\" sizes=\"144x144\" href=\"/apple-touch-icon-144x144.png\"/><link rel=\"apple-touch-icon\" href=\"/apple-touch-icon-57x57.png\"/><meta name=\"twitter:card\" content=\"app\"><meta name=\"twitter:site\" content=\"@flipkart\"><meta name=\"twitter:creator\" content=\"@flipkart\"><meta name=\"twitter:title\" content=\"Laptop- Buy Products Online at Best Price in India - All Categories | Flipkart.com\"><meta name=\"twitter:description\" content=\"Shop for electronics, apparels & more using our Flipkart app Free shipping & COD.\"><meta name=\"twitter:app:country\" content=\"in\"><meta name=\"al:ios:app_name\" content=\"Flipkart\"><meta name=\"al:ios:app_store_id\" content=\"742044692\"><meta name=\"twitter:app:name:iphone\" content=\"Flipkart\"><meta name=\"twitter:app:id:iphone\" content=\"742044692\"><meta name=\"twitter:app:url:iphone\" content=\"http://dl.flipkart.com/dl/home?\"><meta name=\"twitter:app:name:ipad\" content=\"Flipkart\"><meta name=\"twitter:app:id:ipad\" content=\"742044692\"><meta name=\"twitter:app:url:ipad\" content=\"http://dl.flipkart.com/dl/home?\"><meta name=\"twitter:app:name:googleplay\" content=\"Flipkart\"><meta name=\"twitter:app:id:googleplay\" content=\"com.flipkart.android\"><meta name=\"twitter:app:url:googleplay\" content=\"http://dl.flipkart.com/dl/home?\"><style>#container {\\n\\t\\t\\theight: 100%;\\n\\t\\t}</style>  <link rel=\"stylesheet\" href=\"///fk-cp-zion/css/Browse.chunk.93a583.css\"/><title>Laptop- Buy Products Online at Best Price in India - All Categories | Flipkart.com</title><meta name=\"og_title\" property=\"og:title\" content=\"Laptop- Buy Products Online at Best Price in India - All Categories | Flipkart.com\"/><meta name=\"Keywords\" content=\"Laptop\"/> <meta name=\"Description\" content=\"Laptop- Buy Products Online at Best Price in India. India&#x27;s Leading E-commerce Company - Free Home Delivery - All Categories | Flipkart.com\"/><meta property=\"og:description\" content=\"Laptop- Buy Products Online at Best Price in India. India&#x27;s Leading E-commerce Company - Free Home Delivery - All Categories | Flipkart.com\"/>       <meta name=\"msvalidate.01\" content=\"F4EEB3A0AFFDD385992A06E6920C0AC3\"/> <!--[if IE 9 ]>\\n\\t<script nonce=\"17317376633127312378\">\\n\\t\\twindow.browserVersion = \\'IE9\\';\\n\\t\\tdocument.documentElement.className += \\' ie9\\';\\n\\t</script>\\n\\t<![endif]--><!--[if !IE]><!--><script nonce=\"17317376633127312378\">if (/*@cc_on!@*/false) {\\n\\t\\t\\twindow.browserVersion = \\'IE10\\';\\n\\t\\t\\tdocument.documentElement.className += \\' ie10\\';\\n\\t\\t}</script><!--<![endif]-->   <link href=\"https://www.flipkart.com/search?q&#x3D;laptop&amp;sid&#x3D;6bo%2Cb5g&amp;as&#x3D;on&amp;as-show&#x3D;on&amp;otracker&#x3D;AS_QueryStore_OrganicAutoSuggest_1_3_na_na_na&amp;otracker1&#x3D;AS_QueryStore_OrganicAutoSuggest_1_3_na_na_na&amp;as-pos&#x3D;1&amp;as-type&#x3D;RECENT&amp;suggestionId&#x3D;laptop%7CLaptops&amp;requestId&#x3D;f61bf5d7-f7a7-4adb-88bc-0ad126f6e0af&amp;as-searchtext&#x3D;laptop&amp;page&#x3D;2\" id=\"next-page-link-tag\" rel=\"next\"><script nonce=\"17317376633127312378\">!function(){if(\"PerformancePaintTiming\" in window){var e=window.__perf={e:[]};e.o=new PerformanceObserver(function(n){e.e=e.e.concat(n.getEntries())});try{e.o.observe({entryTypes:[\"paint\"]})}catch(e){}}}();\\n\\n\\t\\tif (requestAnimationFrame && performance && performance.mark) {\\n\\t\\t\\trequestAnimationFrame(function () {\\n\\t\\t\\t\\twindow.first_paint = performance.now();\\n\\t\\t\\t\\tperformance.mark(\"first_paint\");\\n\\t\\t\\t});\\n\\t\\t}\\n\\n        // web-vitals polyfill for FID\\n        !function(n,e){var t,o,i,c=[],f={passive:!0,capture:!0},r=new Date,a=\"pointerup\",u=\"pointercancel\";function p(n,c){t||(t=c,o=n,i=new Date,w(e),s())}function s(){o>=0&&o<i-r&&(c.forEach(function(n){n(o,t)}),c=[])}function l(t){if(t.cancelable){var o=(t.timeStamp>1e12?new Date:performance.now())-t.timeStamp;\"pointerdown\"==t.type?function(t,o){function i(){p(t,o),r()}function c(){r()}function r(){e(a,i,f),e(u,c,f)}n(a,i,f),n(u,c,f)}(o,t):p(o,t)}}function w(n){[\"click\",\"mousedown\",\"keydown\",\"touchstart\",\"pointerdown\"].forEach(function(e){n(e,l,f)})}w(n),self.perfMetrics=self.perfMetrics||{},self.perfMetrics.onFirstInputDelay=function(n){c.push(n),s()}}(addEventListener,removeEventListener);</script><script async src=\"https://www.googletagmanager.com/gtag/js?id=AW-594691041\"></script><script nonce=\"17317376633127312378\">window.dataLayer = window.dataLayer || [];\\n\\t\\tfunction gtag(){dataLayer.push(arguments)};\\n\\t\\tgtag(\\'js\\', new Date());</script></head><body><div id=\"container\"><div><div class=\"krHvwW\"><div class=\"J+HqMZ\"><div class=\"LOe-Xr\"></div><div class=\"Ja1j8k\"><div class=\"ngOQ7L\"><div class=\"F9+fd2\"><a href=\"/\"><img width=\"75\" src=\"//static-assets-web.flixcart.com/fk-p-linchpin-web/fk-cp-zion/img/flipkart-plus_8d85f4.png\" alt=\"Flipkart\" title=\"Flipkart\" class=\"W5mR4e\"/></a><a class=\"MwbhDR\" href=\"/plus\">Explore<!-- --> <span class=\"s4NJ5L\">Plus</span><img width=\"10\" src=\"//static-assets-web.flixcart.com/fk-p-linchpin-web/fk-cp-zion/img/plus_aef861.png\"/></a></div></div><div class=\"kRd8Cs\"><form class=\"Hy6F9O header-form-search\" action=\"/search\" method=\"GET\"><div class=\"col-12-12 BnmXvV\"><div class=\"MoPwtI\"><input class=\"zDPmFV\" type=\"text\" title=\"Search for products, brands and more\" name=\"q\" autoComplete=\"off\" placeholder=\"Search for products, brands and more\" value=\"laptop\"/></div><button class=\"MJG8Up\" type=\"submit\"><svg width=\"20\" height=\"20\" viewBox=\"0 0 17 18\" class=\"\" xmlns=\"http://www.w3.org/2000/svg\"><g fill=\"#2874F1\" fill-rule=\"evenodd\"><path class=\"EwE-Fa\" d=\"m11.618 9.897l4.225 4.212c.092.092.101.232.02.313l-1.465 1.46c-.081.081-.221.072-.314-.02l-4.216-4.203\"></path><path class=\"EwE-Fa\" d=\"m6.486 10.901c-2.42 0-4.381-1.956-4.381-4.368 0-2.413 1.961-4.369 4.381-4.369 2.42 0 4.381 1.956 4.381 4.369 0 2.413-1.961 4.368-4.381 4.368m0-10.835c-3.582 0-6.486 2.895-6.486 6.467 0 3.572 2.904 6.467 6.486 6.467 3.582 0 6.486-2.895 6.486-6.467 0-3.572-2.904-6.467-6.486-6.467\"></path></g></svg></button><input type=\"hidden\" name=\"otracker\" value=\"search\"/><input type=\"hidden\" name=\"otracker1\" value=\"search\"/><input type=\"hidden\" name=\"marketplace\" value=\"FLIPKART\"/><input type=\"hidden\" name=\"as-show\" value=\"off\"/><input type=\"hidden\" name=\"as\" value=\"off\"/></div><ul class=\"col-12-12 bbjHWC\"></ul></form></div><div class=\"RbF1Du UB4mMK\"><div class=\"UL9nZx\"><div class=\"tP+nZg _2E9UgX\"><div><a class=\"wsejfv\" href=\"/account/login?ret=/search%3Fq%3Dlaptop%26sid%3D6bo%252Cb5g%26as%3Don%26as-show%3Don%26otracker%3DAS_QueryStore_OrganicAutoSuggest_1_3_na_na_na%26otracker1%3DAS_QueryStore_OrganicAutoSuggest_1_3_na_na_na%26as-pos%3D1%26as-type%3DRECENT%26suggestionId%3Dlaptop%257CLaptops%26requestId%3Df61bf5d7-f7a7-4adb-88bc-0ad126f6e0af%26as-searchtext%3Dlaptop\">Login</a></div></div></div></div><div class=\"RbF1Du\"><a href=\"https://seller.flipkart.com/sell-online/?utm_source=fkwebsite&amp;utm_medium=websitedirect\" class=\"CDJO0-\"><span>Become a Seller</span></a></div><div class=\"RbF1Du\"><div class=\"UL9nZx\"><div class=\"tP+nZg _2E9UgX\"><div><div class=\"_3ZeUN+\"> <!-- -->More<!-- --> </div></div></div><svg width=\"4.7\" height=\"8\" viewBox=\"0 0 16 27\" xmlns=\"http://www.w3.org/2000/svg\" class=\"Wto0b0\"><path d=\"M16 23.207L6.11 13.161 16 3.093 12.955 0 0 13.161l12.955 13.161z\" fill=\"#fff\" class=\"-dC5Le\"></path></svg></div></div><div class=\"RbF1Du\"><div class=\"tP+nZg\"><div class=\"cjMG1q\"><a class=\"_9Wy27C\" href=\"/viewcart?exploreMode=true&amp;preference=FLIPKART\"><svg class=\"GAbRIN\" width=\"14\" height=\"14\" viewBox=\"0 0 16 16\" xmlns=\"http://www.w3.org/2000/svg\"><path class=\"cziJ98\" d=\"M15.32 2.405H4.887C3 2.405 2.46.805 2.46.805L2.257.21C2.208.085 2.083 0 1.946 0H.336C.1 0-.064.24.024.46l.644 1.945L3.11 9.767c.047.137.175.23.32.23h8.418l-.493 1.958H3.768l.002.003c-.017 0-.033-.003-.05-.003-1.06 0-1.92.86-1.92 1.92s.86 1.92 1.92 1.92c.99 0 1.805-.75 1.91-1.712l5.55.076c.12.922.91 1.636 1.867 1.636 1.04 0 1.885-.844 1.885-1.885 0-.866-.584-1.593-1.38-1.814l2.423-8.832c.12-.433-.206-.86-.655-.86\" fill=\"#fff\"></path></svg><span>Cart</span></a></div></div></div></div><div class=\"LOe-Xr\"></div></div><div class=\"DlQjC4\"></div></div><div class=\"_5M58Mb\"></div><div class=\"nt6sNV JxFEK3 _48O0EI\"><div class=\"DOjaWF YJG4Cf\"><div class=\"DOjaWF gdgoEp col-2-12\" style=\"flex:0 0 280px;max-width:280px;padding:0px 10px 0px 0px\"><div class=\"DOjaWF gdgoEp col-12-12\"><div class=\"cPHDOP col-12-12\"><div class=\"_0BvurA\"><section class=\"pgRLLn _2OLUF3\"><div class=\"_3Owiq+\"><div class=\"rgHxCQ\"><span>Filters</span></div></div></section><div class=\"GSeM5C\"><section class=\"Iu4qXa\"><div class=\"WCyB2K\"><span>CATEGORIES</span></div><div><div class=\"esFpML\"><span><svg width=\"10\" height=\"10\" viewBox=\"0 0 16 27\" xmlns=\"http://www.w3.org/2000/svg\" class=\"IZmjtf\"><path d=\"M16 23.207L6.11 13.161 16 3.093 12.955 0 0 13.161l12.955 13.161z\" fill=\"#fff\" class=\"P3pAQJ\"></path></svg></span><a class=\"k17cBJ WyLc0s\" title=\"Computers\" href=\"/computers/pr?sid=6bo&amp;q=laptop&amp;otracker=categorytree\">Computers</a></div></div><div><div class=\"esFpML\"><span><svg width=\"10\" height=\"10\" viewBox=\"0 0 16 27\" xmlns=\"http://www.w3.org/2000/svg\" class=\"IZmjtf\"><path d=\"M16 23.207L6.11 13.161 16 3.093 12.955 0 0 13.161l12.955 13.161z\" fill=\"#fff\" class=\"\"></path></svg></span><a class=\"hEjLuS WyLc0s\" title=\"Laptops\" href=\"/laptops/pr?sid=6bo,b5g&amp;q=laptop&amp;otracker=categorytree\">Laptops</a></div></div></section></div><section class=\"FR+9+z _2OLUF3\"><div class=\"WNK7UT _3Owiq+\"><div class=\"RCE7R3 rgHxCQ\"><span>Price</span></div></div><div class=\"rkYFq7\"><div class=\"gFZVDw\"><div class=\"vVygGr\" style=\"height:0;width:0\"></div><div class=\"vVygGr\" style=\"height:0;width:0\"></div><div class=\"vVygGr\" style=\"height:0;width:0\"></div><div class=\"vVygGr\" style=\"height:0;width:0\"></div><div class=\"vVygGr\" style=\"height:0;width:0\"></div><div class=\"vVygGr\" style=\"height:0;width:0\"></div></div></div><div class=\"-suZGK\"><div class=\"Oyj7AF\"><div class=\"iToJ4v Kaqq1s\"><div class=\"PYKUdo\"></div></div><div class=\"iToJ4v D0puJn\"><div class=\"PYKUdo\"></div></div><div class=\"hZmZbn\"></div><div class=\"hZmZbn AQNm5W\"></div></div><div class=\"C+PahU\"><div class=\"JxsWRk\" style=\"width:undefinedpx\">.</div><div class=\"JxsWRk\" style=\"width:undefinedpx\">.</div><div class=\"JxsWRk\" style=\"width:undefinedpx\">.</div><div class=\"JxsWRk\" style=\"width:undefinedpx\">.</div><div class=\"JxsWRk\" style=\"width:undefinedpx\">.</div><div class=\"JxsWRk\" style=\"width:undefinedpx\">.</div><div class=\"JxsWRk\" style=\"width:0px\">.</div></div></div><div class=\"BXgIa-\"><div class=\"suthUA\"><select class=\"Gn+jFg\"><option value=\"Min\" class=\"_0vP2OD\" selected=\"\">Min</option><option value=\"20000\" class=\"_0vP2OD\">₹20000</option><option value=\"40000\" class=\"_0vP2OD\">₹40000</option><option value=\"50000\" class=\"_0vP2OD\">₹50000</option><option value=\"60000\" class=\"_0vP2OD\">₹60000</option><option value=\"75000\" class=\"_0vP2OD\">₹75000</option></select></div><div class=\"mhoEL5\">to</div><div class=\"tKgS7w\"><select class=\"Gn+jFg\"><option value=\"20000\" class=\"_0vP2OD\">₹20000</option><option value=\"40000\" class=\"_0vP2OD\">₹40000</option><option value=\"50000\" class=\"_0vP2OD\">₹50000</option><option value=\"60000\" class=\"_0vP2OD\">₹60000</option><option value=\"75000\" class=\"_0vP2OD\">₹75000</option><option value=\"Max\" class=\"_0vP2OD\" selected=\"\">₹75000+</option></select></div></div></section><section class=\"-5qqlC _2OLUF3\"><div class=\"FtQCb2 _3Owiq+\"><div class=\"fxf7w6 rgHxCQ\">Brand</div><svg width=\"16\" height=\"27\" viewBox=\"0 0 16 27\" xmlns=\"http://www.w3.org/2000/svg\" class=\"ukzDZP\"><path d=\"M16 23.207L6.11 13.161 16 3.093 12.955 0 0 13.161l12.955 13.161z\" fill=\"#fff\" class=\"SV+H35\"></path></svg></div></section><section class=\"-5qqlC _2OLUF3\"><div class=\"FtQCb2 _3Owiq+\"><div class=\"fxf7w6 rgHxCQ\">Type</div><svg width=\"16\" height=\"27\" viewBox=\"0 0 16 27\" xmlns=\"http://www.w3.org/2000/svg\" class=\"ukzDZP\"><path d=\"M16 23.207L6.11 13.161 16 3.093 12.955 0 0 13.161l12.955 13.161z\" fill=\"#fff\" class=\"SV+H35\"></path></svg></div></section><section class=\"-5qqlC _2OLUF3\"><div class=\"FtQCb2 _3Owiq+\"><div class=\"fxf7w6 rgHxCQ\">Processor</div><svg width=\"16\" height=\"27\" viewBox=\"0 0 16 27\" xmlns=\"http://www.w3.org/2000/svg\" class=\"ukzDZP rZzKt4\"><path d=\"M16 23.207L6.11 13.161 16 3.093 12.955 0 0 13.161l12.955 13.161z\" fill=\"#fff\" class=\"SV+H35\"></path></svg></div><div class=\"SDsN9S\"><div class=\"bs1+1t\"><div class=\"Cj5b5T\"><svg width=\"20\" height=\"20\" viewBox=\"0 0 17 18\" class=\"zmbstL\" xmlns=\"http://www.w3.org/2000/svg\"><g fill=\"#2874F1\" fill-rule=\"evenodd\"><path class=\"JVQyl9\" d=\"m11.618 9.897l4.225 4.212c.092.092.101.232.02.313l-1.465 1.46c-.081.081-.221.072-.314-.02l-4.216-4.203\"></path><path class=\"JVQyl9\" d=\"m6.486 10.901c-2.42 0-4.381-1.956-4.381-4.368 0-2.413 1.961-4.369 4.381-4.369 2.42 0 4.381 1.956 4.381 4.369 0 2.413-1.961 4.368-4.381 4.368m0-10.835c-3.582 0-6.486 2.895-6.486 6.467 0 3.572 2.904 6.467 6.486 6.467 3.582 0 6.486-2.895 6.486-6.467 0-3.572-2.904-6.467-6.486-6.467\"></path></g></svg><input type=\"text\" class=\"XPD6hh\" placeholder=\"Search Processor\" value=\"\"/></div><div class=\"ewzVkT _3DvUAf\" title=\"Core i5\"><div class=\"QCKZip hpLdC3\"><label class=\"tJjCVx _3DvUAf\"><input type=\"checkbox\" class=\"vn9L2C\" readonly=\"\"/><div class=\"XqNaEv\"></div><div class=\"_6i1qKy\">Core i5</div></label></div></div><div class=\"ewzVkT _3DvUAf\" title=\"Core i3\"><div class=\"QCKZip hpLdC3\"><label class=\"tJjCVx _3DvUAf\"><input type=\"checkbox\" class=\"vn9L2C\" readonly=\"\"/><div class=\"XqNaEv\"></div><div class=\"_6i1qKy\">Core i3</div></label></div></div><div class=\"ewzVkT _3DvUAf\" title=\"Core i7\"><div class=\"QCKZip hpLdC3\"><label class=\"tJjCVx _3DvUAf\"><input type=\"checkbox\" class=\"vn9L2C\" readonly=\"\"/><div class=\"XqNaEv\"></div><div class=\"_6i1qKy\">Core i7</div></label></div></div><div class=\"ewzVkT _3DvUAf\" title=\"Ryzen 7 Quad Core\"><div class=\"QCKZip hpLdC3\"><label class=\"tJjCVx _3DvUAf\"><input type=\"checkbox\" class=\"vn9L2C\" readonly=\"\"/><div class=\"XqNaEv\"></div><div class=\"_6i1qKy\">Ryzen 7 Quad Core</div></label></div></div><div class=\"ewzVkT _3DvUAf\" title=\"Ryzen 5 Quad Core\"><div class=\"QCKZip hpLdC3\"><label class=\"tJjCVx _3DvUAf\"><input type=\"checkbox\" class=\"vn9L2C\" readonly=\"\"/><div class=\"XqNaEv\"></div><div class=\"_6i1qKy\">Ryzen 5 Quad Core</div></label></div></div><div class=\"ewzVkT _3DvUAf\" title=\"Core i9\"><div class=\"QCKZip hpLdC3\"><label class=\"tJjCVx _3DvUAf\"><input type=\"checkbox\" class=\"vn9L2C\" readonly=\"\"/><div class=\"XqNaEv\"></div><div class=\"_6i1qKy\">Core i9</div></label></div></div></div><div class=\"e+xvXX KvHRYS\"><span>49 MORE</span></div></div></section><section class=\"-5qqlC _2OLUF3\"><div class=\"FtQCb2 _3Owiq+\"><div class=\"fxf7w6 rgHxCQ\">Processor Generation</div><svg width=\"16\" height=\"27\" viewBox=\"0 0 16 27\" xmlns=\"http://www.w3.org/2000/svg\" class=\"ukzDZP\"><path d=\"M16 23.207L6.11 13.161 16 3.093 12.955 0 0 13.161l12.955 13.161z\" fill=\"#fff\" class=\"SV+H35\"></path></svg></div></section><section class=\"-5qqlC _2OLUF3\"><div class=\"FtQCb2 _3Owiq+\"><div class=\"fxf7w6 rgHxCQ\">RAM Capacity</div><svg width=\"16\" height=\"27\" viewBox=\"0 0 16 27\" xmlns=\"http://www.w3.org/2000/svg\" class=\"ukzDZP\"><path d=\"M16 23.207L6.11 13.161 16 3.093 12.955 0 0 13.161l12.955 13.161z\" fill=\"#fff\" class=\"SV+H35\"></path></svg></div></section><section class=\"-5qqlC _2OLUF3\"><div class=\"FtQCb2 _3Owiq+\"><div class=\"fxf7w6 rgHxCQ\">SSD Capacity</div><svg width=\"16\" height=\"27\" viewBox=\"0 0 16 27\" xmlns=\"http://www.w3.org/2000/svg\" class=\"ukzDZP\"><path d=\"M16 23.207L6.11 13.161 16 3.093 12.955 0 0 13.161l12.955 13.161z\" fill=\"#fff\" class=\"SV+H35\"></path></svg></div></section><section class=\"-5qqlC _2OLUF3\"><div class=\"FtQCb2 _3Owiq+\"><div class=\"fxf7w6 rgHxCQ\">Graphic Processor Series</div><svg width=\"16\" height=\"27\" viewBox=\"0 0 16 27\" xmlns=\"http://www.w3.org/2000/svg\" class=\"ukzDZP\"><path d=\"M16 23.207L6.11 13.161 16 3.093 12.955 0 0 13.161l12.955 13.161z\" fill=\"#fff\" class=\"SV+H35\"></path></svg></div></section><section class=\"-5qqlC _2OLUF3\"><div class=\"FtQCb2 _3Owiq+\"><div class=\"fxf7w6 rgHxCQ\">Screen Size</div><svg width=\"16\" height=\"27\" viewBox=\"0 0 16 27\" xmlns=\"http://www.w3.org/2000/svg\" class=\"ukzDZP\"><path d=\"M16 23.207L6.11 13.161 16 3.093 12.955 0 0 13.161l12.955 13.161z\" fill=\"#fff\" class=\"SV+H35\"></path></svg></div></section><section class=\"-5qqlC _2OLUF3\"><div class=\"FtQCb2 _3Owiq+\"><div class=\"fxf7w6 rgHxCQ\">Operating System</div><svg width=\"16\" height=\"27\" viewBox=\"0 0 16 27\" xmlns=\"http://www.w3.org/2000/svg\" class=\"ukzDZP\"><path d=\"M16 23.207L6.11 13.161 16 3.093 12.955 0 0 13.161l12.955 13.161z\" fill=\"#fff\" class=\"SV+H35\"></path></svg></div></section><section class=\"-5qqlC _2OLUF3\"><div class=\"FtQCb2 _3Owiq+\"><div class=\"fxf7w6 rgHxCQ\">LifeStyle</div><svg width=\"16\" height=\"27\" viewBox=\"0 0 16 27\" xmlns=\"http://www.w3.org/2000/svg\" class=\"ukzDZP\"><path d=\"M16 23.207L6.11 13.161 16 3.093 12.955 0 0 13.161l12.955 13.161z\" fill=\"#fff\" class=\"SV+H35\"></path></svg></div></section><section class=\"-5qqlC _2OLUF3\"><div class=\"FtQCb2 _3Owiq+\"><div class=\"fxf7w6 rgHxCQ\">Weight</div><svg width=\"16\" height=\"27\" viewBox=\"0 0 16 27\" xmlns=\"http://www.w3.org/2000/svg\" class=\"ukzDZP\"><path d=\"M16 23.207L6.11 13.161 16 3.093 12.955 0 0 13.161l12.955 13.161z\" fill=\"#fff\" class=\"SV+H35\"></path></svg></div></section><section class=\"-5qqlC _2OLUF3\"><div class=\"FtQCb2 _3Owiq+\"><div class=\"fxf7w6 rgHxCQ\">Touch Screen</div><svg width=\"16\" height=\"27\" viewBox=\"0 0 16 27\" xmlns=\"http://www.w3.org/2000/svg\" class=\"ukzDZP\"><path d=\"M16 23.207L6.11 13.161 16 3.093 12.955 0 0 13.161l12.955 13.161z\" fill=\"#fff\" class=\"SV+H35\"></path></svg></div></section><section class=\"-5qqlC _2OLUF3\"><div class=\"FtQCb2 _3Owiq+\"><div class=\"fxf7w6 rgHxCQ\">Processor Brand</div><svg width=\"16\" height=\"27\" viewBox=\"0 0 16 27\" xmlns=\"http://www.w3.org/2000/svg\" class=\"ukzDZP\"><path d=\"M16 23.207L6.11 13.161 16 3.093 12.955 0 0 13.161l12.955 13.161z\" fill=\"#fff\" class=\"SV+H35\"></path></svg></div></section><section class=\"-5qqlC _2OLUF3\"><div class=\"FtQCb2 _3Owiq+\"><div class=\"fxf7w6 rgHxCQ\">Usage</div><svg width=\"16\" height=\"27\" viewBox=\"0 0 16 27\" xmlns=\"http://www.w3.org/2000/svg\" class=\"ukzDZP\"><path d=\"M16 23.207L6.11 13.161 16 3.093 12.955 0 0 13.161l12.955 13.161z\" fill=\"#fff\" class=\"SV+H35\"></path></svg></div></section><section class=\"-5qqlC _2OLUF3\"><div class=\"FtQCb2 _3Owiq+\"><div class=\"fxf7w6 rgHxCQ\">Dedicated Graphics Memory</div><svg width=\"16\" height=\"27\" viewBox=\"0 0 16 27\" xmlns=\"http://www.w3.org/2000/svg\" class=\"ukzDZP\"><path d=\"M16 23.207L6.11 13.161 16 3.093 12.955 0 0 13.161l12.955 13.161z\" fill=\"#fff\" class=\"SV+H35\"></path></svg></div></section><section class=\"-5qqlC _2OLUF3\"><div class=\"FtQCb2 _3Owiq+\"><div class=\"fxf7w6 rgHxCQ\">Features</div><svg width=\"16\" height=\"27\" viewBox=\"0 0 16 27\" xmlns=\"http://www.w3.org/2000/svg\" class=\"ukzDZP\"><path d=\"M16 23.207L6.11 13.161 16 3.093 12.955 0 0 13.161l12.955 13.161z\" fill=\"#fff\" class=\"SV+H35\"></path></svg></div></section><section class=\"-5qqlC _2OLUF3\"><div class=\"FtQCb2 _3Owiq+\"><div class=\"fxf7w6 rgHxCQ\">Storage Type</div><svg width=\"16\" height=\"27\" viewBox=\"0 0 16 27\" xmlns=\"http://www.w3.org/2000/svg\" class=\"ukzDZP\"><path d=\"M16 23.207L6.11 13.161 16 3.093 12.955 0 0 13.161l12.955 13.161z\" fill=\"#fff\" class=\"SV+H35\"></path></svg></div></section><section class=\"-5qqlC _2OLUF3\"><div class=\"FtQCb2 _3Owiq+\"><div class=\"fxf7w6 rgHxCQ\">Graphics Memory Type</div><svg width=\"16\" height=\"27\" viewBox=\"0 0 16 27\" xmlns=\"http://www.w3.org/2000/svg\" class=\"ukzDZP\"><path d=\"M16 23.207L6.11 13.161 16 3.093 12.955 0 0 13.161l12.955 13.161z\" fill=\"#fff\" class=\"SV+H35\"></path></svg></div></section><section class=\"-5qqlC _2OLUF3\"><div class=\"FtQCb2 _3Owiq+\"><div class=\"fxf7w6 rgHxCQ\">Graphic Processor Name</div><svg width=\"16\" height=\"27\" viewBox=\"0 0 16 27\" xmlns=\"http://www.w3.org/2000/svg\" class=\"ukzDZP\"><path d=\"M16 23.207L6.11 13.161 16 3.093 12.955 0 0 13.161l12.955 13.161z\" fill=\"#fff\" class=\"SV+H35\"></path></svg></div></section><section class=\"-5qqlC _2OLUF3\"><div class=\"FtQCb2 _3Owiq+\"><div class=\"fxf7w6 rgHxCQ\">Hard Disk Capacity</div><svg width=\"16\" height=\"27\" viewBox=\"0 0 16 27\" xmlns=\"http://www.w3.org/2000/svg\" class=\"ukzDZP\"><path d=\"M16 23.207L6.11 13.161 16 3.093 12.955 0 0 13.161l12.955 13.161z\" fill=\"#fff\" class=\"SV+H35\"></path></svg></div></section><section class=\"-5qqlC _2OLUF3\"><div class=\"FtQCb2 _3Owiq+\"><div class=\"fxf7w6 rgHxCQ\">Ram Type</div><svg width=\"16\" height=\"27\" viewBox=\"0 0 16 27\" xmlns=\"http://www.w3.org/2000/svg\" class=\"ukzDZP\"><path d=\"M16 23.207L6.11 13.161 16 3.093 12.955 0 0 13.161l12.955 13.161z\" fill=\"#fff\" class=\"SV+H35\"></path></svg></div></section><section class=\"-5qqlC _2OLUF3\"><div class=\"FtQCb2 _3Owiq+\"><div class=\"fxf7w6 rgHxCQ\">Availability</div><svg width=\"16\" height=\"27\" viewBox=\"0 0 16 27\" xmlns=\"http://www.w3.org/2000/svg\" class=\"ukzDZP\"><path d=\"M16 23.207L6.11 13.161 16 3.093 12.955 0 0 13.161l12.955 13.161z\" fill=\"#fff\" class=\"SV+H35\"></path></svg></div></section><section class=\"-5qqlC _2OLUF3\"><div class=\"FtQCb2 _3Owiq+\"><div class=\"fxf7w6 rgHxCQ\">Discount</div><svg width=\"16\" height=\"27\" viewBox=\"0 0 16 27\" xmlns=\"http://www.w3.org/2000/svg\" class=\"ukzDZP\"><path d=\"M16 23.207L6.11 13.161 16 3.093 12.955 0 0 13.161l12.955 13.161z\" fill=\"#fff\" class=\"SV+H35\"></path></svg></div></section><section class=\"-5qqlC _2OLUF3\"><div class=\"FtQCb2 _3Owiq+\"><div class=\"fxf7w6 rgHxCQ\">Customer Ratings</div><svg width=\"16\" height=\"27\" viewBox=\"0 0 16 27\" xmlns=\"http://www.w3.org/2000/svg\" class=\"ukzDZP rZzKt4\"><path d=\"M16 23.207L6.11 13.161 16 3.093 12.955 0 0 13.161l12.955 13.161z\" fill=\"#fff\" class=\"SV+H35\"></path></svg></div><div class=\"SDsN9S\"><div class=\"bs1+1t\"><div class=\"ewzVkT _3DvUAf\" title=\"4★ &amp; above\"><div class=\"QCKZip hpLdC3\"><label class=\"tJjCVx _3DvUAf\"><input type=\"checkbox\" class=\"vn9L2C\" readonly=\"\"/><div class=\"XqNaEv\"></div><div class=\"_6i1qKy\">4★ &amp; above</div></label></div></div><div class=\"ewzVkT _3DvUAf\" title=\"3★ &amp; above\"><div class=\"QCKZip hpLdC3\"><label class=\"tJjCVx _3DvUAf\"><input type=\"checkbox\" class=\"vn9L2C\" readonly=\"\"/><div class=\"XqNaEv\"></div><div class=\"_6i1qKy\">3★ &amp; above</div></label></div></div><div class=\"ewzVkT _3DvUAf\" title=\"2★ &amp; above\"><div class=\"QCKZip hpLdC3\"><label class=\"tJjCVx _3DvUAf\"><input type=\"checkbox\" class=\"vn9L2C\" readonly=\"\"/><div class=\"XqNaEv\"></div><div class=\"_6i1qKy\">2★ &amp; above</div></label></div></div><div class=\"ewzVkT _3DvUAf\" title=\"1★ &amp; above\"><div class=\"QCKZip hpLdC3\"><label class=\"tJjCVx _3DvUAf\"><input type=\"checkbox\" class=\"vn9L2C\" readonly=\"\"/><div class=\"XqNaEv\"></div><div class=\"_6i1qKy\">1★ &amp; above</div></label></div></div></div></div></section><section class=\"-5qqlC _2OLUF3\"><div class=\"FtQCb2 _3Owiq+\"><div class=\"fxf7w6 rgHxCQ\">Usage</div><svg width=\"16\" height=\"27\" viewBox=\"0 0 16 27\" xmlns=\"http://www.w3.org/2000/svg\" class=\"ukzDZP\"><path d=\"M16 23.207L6.11 13.161 16 3.093 12.955 0 0 13.161l12.955 13.161z\" fill=\"#fff\" class=\"SV+H35\"></path></svg></div></section><section class=\"_2OLUF3 _6gqfMo\"><label class=\"tJjCVx cnLG4I\"><input type=\"checkbox\" class=\"vn9L2C\" readonly=\"\"/><div class=\"XqNaEv eJE9fb\"></div><div class=\"_6i1qKy\"><div class=\"SwtzWS\"><img height=\"21\" src=\"//static-assets-web.flixcart.com/fk-p-linchpin-web/fk-cp-zion/img/fa_62673a.png\" class=\"SwtzWS\"/></div></div></label><div class=\"EjOX7q\"><span class=\"question\">?</span></div></section><section class=\"-5qqlC _2OLUF3\"><div class=\"FtQCb2 _3Owiq+\"><div class=\"fxf7w6 rgHxCQ\">GST Invoice Available</div><svg width=\"16\" height=\"27\" viewBox=\"0 0 16 27\" xmlns=\"http://www.w3.org/2000/svg\" class=\"ukzDZP\"><path d=\"M16 23.207L6.11 13.161 16 3.093 12.955 0 0 13.161l12.955 13.161z\" fill=\"#fff\" class=\"SV+H35\"></path></svg></div></section><section class=\"-5qqlC _2OLUF3\"><div class=\"FtQCb2 _3Owiq+\"><div class=\"fxf7w6 rgHxCQ\">Offers</div><svg width=\"16\" height=\"27\" viewBox=\"0 0 16 27\" xmlns=\"http://www.w3.org/2000/svg\" class=\"ukzDZP rZzKt4\"><path d=\"M16 23.207L6.11 13.161 16 3.093 12.955 0 0 13.161l12.955 13.161z\" fill=\"#fff\" class=\"SV+H35\"></path></svg></div><div class=\"SDsN9S\"><div class=\"bs1+1t\"><div class=\"ewzVkT _3DvUAf\" title=\"No Cost EMI\"><div class=\"QCKZip hpLdC3\"><label class=\"tJjCVx _3DvUAf\"><input type=\"checkbox\" class=\"vn9L2C\" readonly=\"\"/><div class=\"XqNaEv\"></div><div class=\"_6i1qKy\">No Cost EMI</div></label></div></div><div class=\"ewzVkT _3DvUAf\" title=\"Special Price\"><div class=\"QCKZip hpLdC3\"><label class=\"tJjCVx _3DvUAf\"><input type=\"checkbox\" class=\"vn9L2C\" readonly=\"\"/><div class=\"XqNaEv\"></div><div class=\"_6i1qKy\">Special Price</div></label></div></div></div></div></section><section class=\"-5qqlC _2OLUF3\"><div class=\"FtQCb2 _3Owiq+\"><div class=\"fxf7w6 rgHxCQ\">RAM Capacity</div><svg width=\"16\" height=\"27\" viewBox=\"0 0 16 27\" xmlns=\"http://www.w3.org/2000/svg\" class=\"ukzDZP\"><path d=\"M16 23.207L6.11 13.161 16 3.093 12.955 0 0 13.161l12.955 13.161z\" fill=\"#fff\" class=\"SV+H35\"></path></svg></div></section></div></div><div class=\"cPHDOP col-12-12\"><a class=\"_4JdVq1\" title=\"Buying Guide\" href=\"/buying-guide/laptops?sid=6bo,b5g&amp;otracker=bg_from_browse_lhs\"><div><span>Need help?</span></div><div class=\"e1wDS3\"><span>Help me decide</span><svg width=\"16\" height=\"27\" viewBox=\"0 0 16 27\" xmlns=\"http://www.w3.org/2000/svg\" class=\"VQiHOk\"><path d=\"M16 23.207L6.11 13.161 16 3.093 12.955 0 0 13.161l12.955 13.161z\" fill=\"#fff\" class=\"jVpjWi\"></path></svg></div><img alt=\"Buying Guide\" src=\"//static-assets-web.flixcart.com/fk-p-linchpin-web/fk-cp-zion/img/buying-guide-illustration_4dd325.png\"/></a></div></div></div><div class=\"DOjaWF gdgoEp\" style=\"flex-grow:1;overflow:auto\"><div class=\"DOjaWF YJG4Cf col-12-12\" style=\"background-color:#ffffff;align-items:flex-end\"><div class=\"cPHDOP\" style=\"flex-grow:1;overflow:auto\"><div class=\"WOvzF4\"><div class=\"_7dPnhA\"><div class=\"r2CdBx\"><a href=\"/\" class=\"R0cyWM\">Home</a><svg width=\"16\" height=\"27\" viewBox=\"0 0 16 27\" xmlns=\"http://www.w3.org/2000/svg\" class=\"sfneHK\"><path d=\"M16 23.207L6.11 13.161 16 3.093 12.955 0 0 13.161l12.955 13.161z\" fill=\"#fff\" class=\"wMLTcO\"></path></svg></div><div class=\"r2CdBx\"><a class=\"R0cyWM\" href=\"/computers/pr?sid=6bo&amp;marketplace=FLIPKART\">Computers</a><svg width=\"16\" height=\"27\" viewBox=\"0 0 16 27\" xmlns=\"http://www.w3.org/2000/svg\" class=\"sfneHK\"><path d=\"M16 23.207L6.11 13.161 16 3.093 12.955 0 0 13.161l12.955 13.161z\" fill=\"#fff\" class=\"wMLTcO\"></path></svg></div><div class=\"r2CdBx\"><a class=\"R0cyWM\" href=\"/laptops/pr?sid=6bo,b5g&amp;marketplace=FLIPKART\">Laptops</a><svg width=\"16\" height=\"27\" viewBox=\"0 0 16 27\" xmlns=\"http://www.w3.org/2000/svg\" class=\"sfneHK\"><path d=\"M16 23.207L6.11 13.161 16 3.093 12.955 0 0 13.161l12.955 13.161z\" fill=\"#fff\" class=\"wMLTcO\"></path></svg></div></div><span class=\"BUOuZu\">Showing 1 – 24 of 2,176 results for &quot;<span>laptop</span>&quot;</span><div class=\"sHCOk2\"><span class=\"viJOii\">Sort By</span><div class=\"zg-M3Z _0H7xSG\">Relevance</div><div class=\"zg-M3Z\">Popularity</div><div class=\"zg-M3Z\">Price -- Low to High</div><div class=\"zg-M3Z\">Price -- High to Low</div><div class=\"zg-M3Z\">Newest First</div></div></div></div></div><div class=\"cPHDOP col-12-12\"><div class=\"_75nlfW\"><div data-id=\"COMFXEKMGNHZYFH9\" style=\"width:100%\"><div class=\"tUxRFH\"><a class=\"CGtC98\" target=\"_blank\" rel=\"noopener noreferrer\" href=\"/apple-2020-macbook-air-m1-8-gb-256-gb-ssd-mac-os-big-sur-mgn63hn-a/p/itm3c872f9e67bc6?pid=COMFXEKMGNHZYFH9&amp;lid=LSTCOMFXEKMGNHZYFH9P56X45&amp;marketplace=FLIPKART&amp;q=laptop&amp;store=6bo%2Fb5g&amp;spotlightTagId=BestsellerId_6bo%2Fb5g&amp;srno=s_1_1&amp;otracker=AS_QueryStore_OrganicAutoSuggest_1_3_na_na_na&amp;otracker1=AS_QueryStore_OrganicAutoSuggest_1_3_na_na_na&amp;fm=organic&amp;iid=62d4f1ed-0167-4086-9c19-815d9bb030e6.COMFXEKMGNHZYFH9.SEARCH&amp;ppt=None&amp;ppn=None&amp;ssid=dhyxhn9q9s0000001725019516911&amp;qH=312f91285e048e09\"><div></div><div class=\"Otbq5D\"><div class=\"yPq5Io\"><div><div class=\"_4WELSP\" style=\"height:200px;width:200px\"><img loading=\"eager\" class=\"DByuf4\" alt=\"Apple 2020 Macbook Air Apple M1 - (8 GB/256 GB SSD/Mac OS Big Sur) MGN63HN/A\" src=\"https://rukminim2.flixcart.com/image/312/312/kp5sya80/screen-guard/tempered-glass/o/v/n/apple-macbook-air-m1-13-3-inch-lightwings-original-imag3gh5xftgbpg3.jpeg?q=70\"/></div></div></div><div class=\"qaR90o\"><div class=\"A8uQAd\"><span class=\"Lni97G\"><label class=\"tJjCVx\"><input type=\"checkbox\" class=\"vn9L2C\" readonly=\"\"/><div class=\"XqNaEv\"></div></label></span><label class=\"uu79Xy\"><span>Add to Compare</span></label></div></div><div class=\"oUss6M ssUU08\"><div class=\"+7E521\"><svg xmlns=\"http://www.w3.org/2000/svg\" class=\"N1bADF\" width=\"16\" height=\"16\" viewBox=\"0 0 20 16\"><path d=\"M8.695 16.682C4.06 12.382 1 9.536 1 6.065 1 3.219 3.178 1 5.95 1c1.566 0 3.069.746 4.05 1.915C10.981 1.745 12.484 1 14.05 1 16.822 1 19 3.22 19 6.065c0 3.471-3.06 6.316-7.695 10.617L10 17.897l-1.305-1.215z\" fill=\"#2874F0\" class=\"x1UMqG\" stroke=\"#FFF\" fill-rule=\"evenodd\" opacity=\".9\"></path></svg></div></div></div><div class=\"yKfJKb row\"><div class=\"col col-7-12\"><div class=\"KzDlHZ\">Apple 2020 Macbook Air Apple M1 - (8 GB/256 GB SSD/Mac OS Big Sur) MGN63HN/A</div><div class=\"_5OesEi\"><span id=\"productRating_LSTCOMFXEKMGNHZYFH9P56X45_COMFXEKMGNHZYFH9_\" class=\"Y1HWO0\"><div class=\"XQDdHH\">4.7<img src=\"data:image/svg+xml;base64,PHN2ZyB4bWxucz0iaHR0cDovL3d3dy53My5vcmcvMjAwMC9zdmciIHdpZHRoPSIxMyIgaGVpZ2h0PSIxMiI+PHBhdGggZmlsbD0iI0ZGRiIgZD0iTTYuNSA5LjQzOWwtMy42NzQgMi4yMy45NC00LjI2LTMuMjEtMi44ODMgNC4yNTQtLjQwNEw2LjUuMTEybDEuNjkgNC4wMSA0LjI1NC40MDQtMy4yMSAyLjg4Mi45NCA0LjI2eiIvPjwvc3ZnPg==\" class=\"Rza2QY\"/></div></span><span class=\"Wphh3N\"><span><span>16,565 Ratings\\xa0</span><span class=\"hG7V+4\">&amp;</span><span>\\xa01,323 Reviews</span></span></span></div><div class=\"_6NESgJ\"><ul class=\"G4BRas\"><li class=\"J+igdf\">Apple M1 Processor</li><li class=\"J+igdf\">8 GB DDR4 RAM</li><li class=\"J+igdf\">Mac OS Operating System</li><li class=\"J+igdf\">256 GB SSD</li><li class=\"J+igdf\">33.78 cm (13.3 inch) Display</li><li class=\"J+igdf\">Built-in Apps: iMovie, Siri, GarageBand, Pages, Numbers, Photos, Keynote, Safari, Mail, FaceTime, Messages, Maps, Stocks, Home, Voice Memos, Notes, Calendar, Contacts, Reminders, Photo Booth, Preview, Books, App Store, Time Machine, TV, Music, Podcasts, Find My, QuickTime Player</li><li class=\"J+igdf\">1 Year Limited WarraÂ\\xadnty</li></ul></div></div><div class=\"col col-5-12 BfVC2z\"><div class=\"cN1yYO\"><div class=\"hl05eU\"><div class=\"Nx9bqj _4b5DiR\">₹73,990</div><div class=\"yRaY8j ZYYwLA\">₹<!-- -->89,900</div><div class=\"UkUFwK\"><span>17% off</span></div></div><div class=\"k6cAZE dlFt9U\"><div><div class=\"yiggsN\" style=\"color:#000000;font-size:12px;font-weight:400\">Free delivery</div></div></div></div><div class=\"_0CSTHy\"><img height=\"21\" src=\"//static-assets-web.flixcart.com/fk-p-linchpin-web/fk-cp-zion/img/fa_62673a.png\"/></div><div class=\"M4DNwV\"><div class=\"n5vj9c\"><div class=\"yiggsN O5Fpg8\" style=\"color:#26A541;font-size:12px;font-style:normal;font-weight:700\">Save extra with combo offers</div></div></div><div class=\"M4DNwV\"><div class=\"n5vj9c\"><div class=\"yiggsN O5Fpg8\" style=\"color:#000000;font-size:14px;font-style:normal;font-weight:400\">Upto </div><div class=\"yiggsN O5Fpg8\" style=\"color:#000000;font-size:14px;font-style:normal;font-weight:700\">₹33,000</div><div class=\"yiggsN O5Fpg8\" style=\"color:#000000;font-size:14px;font-style:normal;font-weight:400\"> Off on Exchange</div></div></div></div></div></a></div></div></div></div><div class=\"cPHDOP col-12-12\"><div class=\"_75nlfW\"><div data-id=\"COMGT82X9NYWSXQ7\" style=\"width:100%\"><div class=\"tUxRFH\"><a class=\"CGtC98\" target=\"_blank\" rel=\"noopener noreferrer\" href=\"/lenovo-amd-ryzen-3-quad-core-7330u-8-gb-512-gb-ssd-windows-11-home-thinkbook-15-g5-thin-light-laptop/p/itm65936d217ef8a?pid=COMGT82X9NYWSXQ7&amp;lid=LSTCOMGT82X9NYWSXQ7FXFDP2&amp;marketplace=FLIPKART&amp;q=laptop&amp;store=6bo%2Fb5g&amp;srno=s_1_2&amp;otracker=AS_QueryStore_OrganicAutoSuggest_1_3_na_na_na&amp;otracker1=AS_QueryStore_OrganicAutoSuggest_1_3_na_na_na&amp;fm=organic&amp;iid=62d4f1ed-0167-4086-9c19-815d9bb030e6.COMGT82X9NYWSXQ7.SEARCH&amp;ppt=None&amp;ppn=None&amp;ssid=dhyxhn9q9s0000001725019516911&amp;qH=312f91285e048e09\"><div class=\"Otbq5D\"><div class=\"yPq5Io\"><div><div class=\"_4WELSP\" style=\"height:200px;width:200px\"><img loading=\"eager\" class=\"DByuf4\" alt=\"Lenovo AMD Ryzen 3 Quad Core 7330U - (8 GB/512 GB SSD/Windows 11 Home) ThinkBook 15 G5 Thin and Light ...\" src=\"https://rukminim2.flixcart.com/image/312/312/xif0q/computer/e/u/s/thinkbook-15-g5-thin-and-light-laptop-lenovo-original-imah2wy2p3cxdbyj.jpeg?q=70\"/></div></div></div><div class=\"qaR90o\"><div class=\"A8uQAd\"><span class=\"Lni97G\"><label class=\"tJjCVx\"><input type=\"checkbox\" class=\"vn9L2C\" readonly=\"\"/><div class=\"XqNaEv\"></div></label></span><label class=\"uu79Xy\"><span>Add to Compare</span></label></div></div><div class=\"oUss6M ssUU08\"><div class=\"+7E521\"><svg xmlns=\"http://www.w3.org/2000/svg\" class=\"N1bADF\" width=\"16\" height=\"16\" viewBox=\"0 0 20 16\"><path d=\"M8.695 16.682C4.06 12.382 1 9.536 1 6.065 1 3.219 3.178 1 5.95 1c1.566 0 3.069.746 4.05 1.915C10.981 1.745 12.484 1 14.05 1 16.822 1 19 3.22 19 6.065c0 3.471-3.06 6.316-7.695 10.617L10 17.897l-1.305-1.215z\" fill=\"#2874F0\" class=\"x1UMqG\" stroke=\"#FFF\" fill-rule=\"evenodd\" opacity=\".9\"></path></svg></div></div></div><div class=\"yKfJKb row\"><div class=\"col col-7-12\"><div class=\"KzDlHZ\">Lenovo AMD Ryzen 3 Quad Core 7330U - (8 GB/512 GB SSD/Windows 11 Home) ThinkBook 15 G5 Thin and Light ...</div><div class=\"_5OesEi\"><span id=\"productRating_LSTCOMGT82X9NYWSXQ7FXFDP2_COMGT82X9NYWSXQ7_\" class=\"Y1HWO0\"><div class=\"XQDdHH\">4.3<img src=\"data:image/svg+xml;base64,PHN2ZyB4bWxucz0iaHR0cDovL3d3dy53My5vcmcvMjAwMC9zdmciIHdpZHRoPSIxMyIgaGVpZ2h0PSIxMiI+PHBhdGggZmlsbD0iI0ZGRiIgZD0iTTYuNSA5LjQzOWwtMy42NzQgMi4yMy45NC00LjI2LTMuMjEtMi44ODMgNC4yNTQtLjQwNEw2LjUuMTEybDEuNjkgNC4wMSA0LjI1NC40MDQtMy4yMSAyLjg4Mi45NCA0LjI2eiIvPjwvc3ZnPg==\" class=\"Rza2QY\"/></div></span><span class=\"Wphh3N\"><span><span>80 Ratings\\xa0</span><span class=\"hG7V+4\">&amp;</span><span>\\xa06 Reviews</span></span></span></div><div class=\"_6NESgJ\"><ul class=\"G4BRas\"><li class=\"J+igdf\">AMD Ryzen 3 Quad Core Processor</li><li class=\"J+igdf\">8 GB DDR4 RAM</li><li class=\"J+igdf\">Windows 11 Operating System</li><li class=\"J+igdf\">512 GB SSD</li><li class=\"J+igdf\">39.62 cm (15.6 Inch) Display</li><li class=\"J+igdf\">1 Year Onsite Warranty</li></ul></div></div><div class=\"col col-5-12 BfVC2z\"><div class=\"cN1yYO\"><div class=\"hl05eU\"><div class=\"Nx9bqj _4b5DiR\">₹31,990</div><div class=\"yRaY8j ZYYwLA\">₹<!-- -->58,500</div><div class=\"UkUFwK\"><span>45% off</span></div></div><div class=\"k6cAZE dlFt9U\"><div><div class=\"yiggsN\" style=\"color:#000000;font-size:12px;font-weight:400\">Free delivery</div></div></div></div><div class=\"_0CSTHy\"><img height=\"21\" src=\"//static-assets-web.flixcart.com/fk-p-linchpin-web/fk-cp-zion/img/fa_62673a.png\"/></div><div class=\"M4DNwV\"><div class=\"n5vj9c\"><div class=\"yiggsN O5Fpg8\" style=\"color:#26A541;font-size:14px;font-weight:700\">Bank Offer</div></div></div></div></div></a></div></div></div></div><div class=\"cPHDOP col-12-12\"><div class=\"_75nlfW\"><div data-id=\"COMGJ75HJGFDJ6JN\" style=\"width:100%\"><div class=\"tUxRFH\"><a class=\"CGtC98\" target=\"_blank\" rel=\"noopener noreferrer\" href=\"/dell-inspiron-3520-intel-core-i3-12th-gen-1215u-8-gb-512-gb-ssd-windows-11-home-new-15-laptop-thin-light/p/itm2d6ee1804748f?pid=COMGJ75HJGFDJ6JN&amp;lid=LSTCOMGJ75HJGFDJ6JNLUHPRY&amp;marketplace=FLIPKART&amp;q=laptop&amp;store=6bo%2Fb5g&amp;spotlightTagId=BestsellerId_6bo%2Fb5g&amp;srno=s_1_3&amp;otracker=AS_QueryStore_OrganicAutoSuggest_1_3_na_na_na&amp;otracker1=AS_QueryStore_OrganicAutoSuggest_1_3_na_na_na&amp;fm=organic&amp;iid=62d4f1ed-0167-4086-9c19-815d9bb030e6.COMGJ75HJGFDJ6JN.SEARCH&amp;ppt=None&amp;ppn=None&amp;ssid=dhyxhn9q9s0000001725019516911&amp;qH=312f91285e048e09\"><div></div><div class=\"Otbq5D\"><div class=\"yPq5Io\"><div><div class=\"_4WELSP\" style=\"height:200px;width:200px\"><img loading=\"eager\" class=\"DByuf4\" alt=\"DELL Inspiron 3520 Intel Core i3 12th Gen 1215U - (8 GB/512 GB SSD/Windows 11 Home) New Inspiron 15 La...\" src=\"https://rukminim2.flixcart.com/image/312/312/xif0q/computer/l/h/1/inspiron-3520-thin-and-light-laptop-dell-original-imahyggypmfkkpnf.jpeg?q=70\"/></div></div></div><div class=\"qaR90o\"><div class=\"A8uQAd\"><span class=\"Lni97G\"><label class=\"tJjCVx\"><input type=\"checkbox\" class=\"vn9L2C\" readonly=\"\"/><div class=\"XqNaEv\"></div></label></span><label class=\"uu79Xy\"><span>Add to Compare</span></label></div></div><div class=\"oUss6M ssUU08\"><div class=\"+7E521\"><svg xmlns=\"http://www.w3.org/2000/svg\" class=\"N1bADF\" width=\"16\" height=\"16\" viewBox=\"0 0 20 16\"><path d=\"M8.695 16.682C4.06 12.382 1 9.536 1 6.065 1 3.219 3.178 1 5.95 1c1.566 0 3.069.746 4.05 1.915C10.981 1.745 12.484 1 14.05 1 16.822 1 19 3.22 19 6.065c0 3.471-3.06 6.316-7.695 10.617L10 17.897l-1.305-1.215z\" fill=\"#2874F0\" class=\"x1UMqG\" stroke=\"#FFF\" fill-rule=\"evenodd\" opacity=\".9\"></path></svg></div></div></div><div class=\"yKfJKb row\"><div class=\"col col-7-12\"><div class=\"KzDlHZ\">DELL Inspiron 3520 Intel Core i3 12th Gen 1215U - (8 GB/512 GB SSD/Windows 11 Home) New Inspiron 15 La...</div><div class=\"_5OesEi\"><span id=\"productRating_LSTCOMGJ75HJGFDJ6JNLUHPRY_COMGJ75HJGFDJ6JN_\" class=\"Y1HWO0\"><div class=\"XQDdHH\">4.2<img src=\"data:image/svg+xml;base64,PHN2ZyB4bWxucz0iaHR0cDovL3d3dy53My5vcmcvMjAwMC9zdmciIHdpZHRoPSIxMyIgaGVpZ2h0PSIxMiI+PHBhdGggZmlsbD0iI0ZGRiIgZD0iTTYuNSA5LjQzOWwtMy42NzQgMi4yMy45NC00LjI2LTMuMjEtMi44ODMgNC4yNTQtLjQwNEw2LjUuMTEybDEuNjkgNC4wMSA0LjI1NC40MDQtMy4yMSAyLjg4Mi45NCA0LjI2eiIvPjwvc3ZnPg==\" class=\"Rza2QY\"/></div></span><span class=\"Wphh3N\"><span><span>2,178 Ratings\\xa0</span><span class=\"hG7V+4\">&amp;</span><span>\\xa0173 Reviews</span></span></span></div><div class=\"_6NESgJ\"><ul class=\"G4BRas\"><li class=\"J+igdf\">Intel Core i3 Processor (12th Gen)</li><li class=\"J+igdf\">8 GB DDR4 RAM</li><li class=\"J+igdf\">64 bit Windows 11 Operating System</li><li class=\"J+igdf\">512 GB SSD</li><li class=\"J+igdf\">39.62 cm (15.6 Inch) Display</li><li class=\"J+igdf\">1 Year Onsite Hardware Service</li></ul></div></div><div class=\"col col-5-12 BfVC2z\"><div class=\"cN1yYO\"><div class=\"hl05eU\"><div class=\"Nx9bqj _4b5DiR\">₹35,990</div><div class=\"yRaY8j ZYYwLA\">₹<!-- -->49,240</div><div class=\"UkUFwK\"><span>26% off</span></div></div><div class=\"k6cAZE dlFt9U\"><div><div class=\"yiggsN\" style=\"color:#000000;font-size:12px;font-weight:400\">Free delivery</div></div></div></div><div class=\"_0CSTHy\"><img height=\"21\" src=\"//static-assets-web.flixcart.com/fk-p-linchpin-web/fk-cp-zion/img/fa_62673a.png\"/></div><div class=\"M4DNwV\"><div class=\"n5vj9c\"><div class=\"yiggsN O5Fpg8\" style=\"color:#26A541;font-size:12px;font-style:normal;font-weight:700\">Save extra with combo offers</div></div></div><div class=\"M4DNwV\"><div class=\"n5vj9c\"><div class=\"yiggsN O5Fpg8\" style=\"color:#C70055;font-size:12px;font-weight:700\">Only 1 left</div></div></div></div></div></a></div></div></div></div><div class=\"cPHDOP col-12-12\"><div class=\"_75nlfW\"><div data-id=\"COMGHAGN3U9FJH39\" style=\"width:100%\"><div class=\"tUxRFH\"><a class=\"CGtC98\" target=\"_blank\" rel=\"noopener noreferrer\" href=\"/hp-laptop-amd-ryzen-3-quad-core-5300u-8-gb-512-gb-ssd-windows-11-home-15s-eq2212au-thin-light/p/itmedd9f415e3db2?pid=COMGHAGN3U9FJH39&amp;lid=LSTCOMGHAGN3U9FJH39LOH9CD&amp;marketplace=FLIPKART&amp;q=laptop&amp;store=6bo%2Fb5g&amp;srno=s_1_4&amp;otracker=AS_QueryStore_OrganicAutoSuggest_1_3_na_na_na&amp;otracker1=AS_QueryStore_OrganicAutoSuggest_1_3_na_na_na&amp;fm=organic&amp;iid=62d4f1ed-0167-4086-9c19-815d9bb030e6.COMGHAGN3U9FJH39.SEARCH&amp;ppt=None&amp;ppn=None&amp;ssid=dhyxhn9q9s0000001725019516911&amp;qH=312f91285e048e09\"><div class=\"Otbq5D\"><div class=\"yPq5Io\"><div><div class=\"_4WELSP\" style=\"height:200px;width:200px\"><img loading=\"eager\" class=\"DByuf4\" alt=\"HP Laptop AMD Ryzen 3 Quad Core 5300U - (8 GB/512 GB SSD/Windows 11 Home) 15s- eq2212AU Thin and Light...\" src=\"https://rukminim2.flixcart.com/image/312/312/xif0q/computer/v/h/a/-original-imagwy8dtkyhrehe.jpeg?q=70\"/></div></div></div><div class=\"qaR90o\"><div class=\"A8uQAd\"><span class=\"Lni97G\"><label class=\"tJjCVx\"><input type=\"checkbox\" class=\"vn9L2C\" readonly=\"\"/><div class=\"XqNaEv\"></div></label></span><label class=\"uu79Xy\"><span>Add to Compare</span></label></div></div><div class=\"oUss6M ssUU08\"><div class=\"+7E521\"><svg xmlns=\"http://www.w3.org/2000/svg\" class=\"N1bADF\" width=\"16\" height=\"16\" viewBox=\"0 0 20 16\"><path d=\"M8.695 16.682C4.06 12.382 1 9.536 1 6.065 1 3.219 3.178 1 5.95 1c1.566 0 3.069.746 4.05 1.915C10.981 1.745 12.484 1 14.05 1 16.822 1 19 3.22 19 6.065c0 3.471-3.06 6.316-7.695 10.617L10 17.897l-1.305-1.215z\" fill=\"#2874F0\" class=\"x1UMqG\" stroke=\"#FFF\" fill-rule=\"evenodd\" opacity=\".9\"></path></svg></div></div></div><div class=\"yKfJKb row\"><div class=\"col col-7-12\"><div class=\"KzDlHZ\">HP Laptop AMD Ryzen 3 Quad Core 5300U - (8 GB/512 GB SSD/Windows 11 Home) 15s- eq2212AU Thin and Light...</div><div class=\"_5OesEi\"><span id=\"productRating_LSTCOMGHAGN3U9FJH39LOH9CD_COMGHAGN3U9FJH39_\" class=\"Y1HWO0\"><div class=\"XQDdHH\">4.3<img src=\"data:image/svg+xml;base64,PHN2ZyB4bWxucz0iaHR0cDovL3d3dy53My5vcmcvMjAwMC9zdmciIHdpZHRoPSIxMyIgaGVpZ2h0PSIxMiI+PHBhdGggZmlsbD0iI0ZGRiIgZD0iTTYuNSA5LjQzOWwtMy42NzQgMi4yMy45NC00LjI2LTMuMjEtMi44ODMgNC4yNTQtLjQwNEw2LjUuMTEybDEuNjkgNC4wMSA0LjI1NC40MDQtMy4yMSAyLjg4Mi45NCA0LjI2eiIvPjwvc3ZnPg==\" class=\"Rza2QY\"/></div></span><span class=\"Wphh3N\"><span><span>4,167 Ratings\\xa0</span><span class=\"hG7V+4\">&amp;</span><span>\\xa0480 Reviews</span></span></span></div><div class=\"_6NESgJ\"><ul class=\"G4BRas\"><li class=\"J+igdf\">AMD Ryzen 3 Quad Core Processor</li><li class=\"J+igdf\">8 GB DDR4 RAM</li><li class=\"J+igdf\">Windows 11 Operating System</li><li class=\"J+igdf\">512 GB SSD</li><li class=\"J+igdf\">39.62 cm (15.6 Inch) Display</li><li class=\"J+igdf\">1 Year Onsite Warranty</li></ul></div></div><div class=\"col col-5-12 BfVC2z\"><div class=\"cN1yYO\"><div class=\"hl05eU\"><div class=\"Nx9bqj _4b5DiR\">₹30,979</div><div class=\"yRaY8j ZYYwLA\">₹<!-- -->44,783</div><div class=\"UkUFwK\"><span>30% off</span></div></div><div class=\"k6cAZE dlFt9U\"><div><div class=\"yiggsN\" style=\"color:#000000;font-size:12px;font-weight:400\">Free delivery</div></div></div></div><div class=\"_0CSTHy\"><img height=\"21\" src=\"//static-assets-web.flixcart.com/fk-p-linchpin-web/fk-cp-zion/img/fa_62673a.png\"/></div><div class=\"M4DNwV\"><div class=\"n5vj9c\"><div class=\"yiggsN O5Fpg8\" style=\"color:#26A541;font-size:12px;font-style:normal;font-weight:700\">Save extra with combo offers</div></div></div><div class=\"M4DNwV\"><div class=\"n5vj9c\"><div class=\"yiggsN O5Fpg8\" style=\"color:#C70055;font-size:12px;font-weight:700\">Only few left</div></div></div></div></div></a></div></div></div></div><div class=\"cPHDOP col-12-12\"><div class=\"_75nlfW\"><div data-id=\"COMGFRHGDB9G3Z9C\" style=\"width:100%\"><div class=\"tUxRFH\"><a class=\"CGtC98\" target=\"_blank\" rel=\"noopener noreferrer\" href=\"/hp-amd-ryzen-5-hexa-core-5500u-16-gb-512-gb-ssd-windows-11-home-15s-eq2182au-thin-light-laptop/p/itm2f070129053ed?pid=COMGFRHGDB9G3Z9C&amp;lid=LSTCOMGFRHGDB9G3Z9CBGKRA6&amp;marketplace=FLIPKART&amp;q=laptop&amp;store=6bo%2Fb5g&amp;srno=s_1_5&amp;otracker=AS_QueryStore_OrganicAutoSuggest_1_3_na_na_na&amp;otracker1=AS_QueryStore_OrganicAutoSuggest_1_3_na_na_na&amp;fm=organic&amp;iid=62d4f1ed-0167-4086-9c19-815d9bb030e6.COMGFRHGDB9G3Z9C.SEARCH&amp;ppt=None&amp;ppn=None&amp;ssid=dhyxhn9q9s0000001725019516911&amp;qH=312f91285e048e09\"><div class=\"Otbq5D\"><div class=\"yPq5Io\"><div><div class=\"_4WELSP\" style=\"height:200px;width:200px\"><img loading=\"eager\" class=\"DByuf4\" alt=\"HP AMD Ryzen 5 Hexa Core 5500U - (16 GB/512 GB SSD/Windows 11 Home) 15s- eq2182AU Thin and Light Lapto...\" src=\"https://rukminim2.flixcart.com/image/312/312/xif0q/computer/k/u/f/15s-eq2223au-thin-and-light-laptop-hp-original-imahf7yv6rbue5bf.jpeg?q=70\"/></div></div></div><div class=\"qaR90o\"><div class=\"A8uQAd\"><span class=\"Lni97G\"><label class=\"tJjCVx\"><input type=\"checkbox\" class=\"vn9L2C\" readonly=\"\"/><div class=\"XqNaEv\"></div></label></span><label class=\"uu79Xy\"><span>Add to Compare</span></label></div></div><div class=\"oUss6M ssUU08\"><div class=\"+7E521\"><svg xmlns=\"http://www.w3.org/2000/svg\" class=\"N1bADF\" width=\"16\" height=\"16\" viewBox=\"0 0 20 16\"><path d=\"M8.695 16.682C4.06 12.382 1 9.536 1 6.065 1 3.219 3.178 1 5.95 1c1.566 0 3.069.746 4.05 1.915C10.981 1.745 12.484 1 14.05 1 16.822 1 19 3.22 19 6.065c0 3.471-3.06 6.316-7.695 10.617L10 17.897l-1.305-1.215z\" fill=\"#2874F0\" class=\"x1UMqG\" stroke=\"#FFF\" fill-rule=\"evenodd\" opacity=\".9\"></path></svg></div></div></div><div class=\"yKfJKb row\"><div class=\"col col-7-12\"><div class=\"KzDlHZ\">HP AMD Ryzen 5 Hexa Core 5500U - (16 GB/512 GB SSD/Windows 11 Home) 15s- eq2182AU Thin and Light Lapto...</div><div class=\"_5OesEi\"><span id=\"productRating_LSTCOMGFRHGDB9G3Z9CBGKRA6_COMGFRHGDB9G3Z9C_\" class=\"Y1HWO0\"><div class=\"XQDdHH\">4.3<img src=\"data:image/svg+xml;base64,PHN2ZyB4bWxucz0iaHR0cDovL3d3dy53My5vcmcvMjAwMC9zdmciIHdpZHRoPSIxMyIgaGVpZ2h0PSIxMiI+PHBhdGggZmlsbD0iI0ZGRiIgZD0iTTYuNSA5LjQzOWwtMy42NzQgMi4yMy45NC00LjI2LTMuMjEtMi44ODMgNC4yNTQtLjQwNEw2LjUuMTEybDEuNjkgNC4wMSA0LjI1NC40MDQtMy4yMSAyLjg4Mi45NCA0LjI2eiIvPjwvc3ZnPg==\" class=\"Rza2QY\"/></div></span><span class=\"Wphh3N\"><span><span>3,459 Ratings\\xa0</span><span class=\"hG7V+4\">&amp;</span><span>\\xa0263 Reviews</span></span></span></div><div class=\"_6NESgJ\"><ul class=\"G4BRas\"><li class=\"J+igdf\">AMD Ryzen 5 Hexa Core Processor</li><li class=\"J+igdf\">16 GB DDR4 RAM</li><li class=\"J+igdf\">64 bit Windows 11 Operating System</li><li class=\"J+igdf\">512 GB SSD</li><li class=\"J+igdf\">39.62 cm (15.6 inch) Display</li><li class=\"J+igdf\">Microsoft Office 2021 Home &amp; Student, HP Documentation, HP BIOS recovery, HP Smart</li><li class=\"J+igdf\">1 Year Onsite Warranty</li></ul></div></div><div class=\"col col-5-12 BfVC2z\"><div class=\"cN1yYO\"><div class=\"hl05eU\"><div class=\"Nx9bqj _4b5DiR\">₹40,990</div><div class=\"yRaY8j ZYYwLA\">₹<!-- -->59,109</div><div class=\"UkUFwK\"><span>30% off</span></div></div><div class=\"k6cAZE dlFt9U\"><div><div class=\"yiggsN\" style=\"color:#000000;font-size:12px;font-weight:400\">Free delivery</div></div></div></div><div class=\"_0CSTHy\"><img height=\"21\" src=\"//static-assets-web.flixcart.com/fk-p-linchpin-web/fk-cp-zion/img/fa_62673a.png\"/></div><div class=\"M4DNwV\"><div class=\"n5vj9c\"><div class=\"yiggsN O5Fpg8\" style=\"color:#26A541;font-size:12px;font-style:normal;font-weight:700\">Save extra with combo offers</div></div></div><div class=\"M4DNwV\"><div class=\"n5vj9c\"><div class=\"yiggsN O5Fpg8\" style=\"color:#000000;font-size:14px;font-style:normal;font-weight:400\">Upto </div><div class=\"yiggsN O5Fpg8\" style=\"color:#000000;font-size:14px;font-style:normal;font-weight:700\">₹28,000</div><div class=\"yiggsN O5Fpg8\" style=\"color:#000000;font-size:14px;font-style:normal;font-weight:400\"> Off on Exchange</div></div></div></div></div></a></div></div></div></div><div class=\"cPHDOP col-12-12\"><div class=\"_75nlfW\"><div data-id=\"COMHFEJKB4ENJGYN\" style=\"width:100%\"><div class=\"tUxRFH\"><a class=\"CGtC98\" target=\"_blank\" rel=\"noopener noreferrer\" href=\"/lenovo-amd-ryzen-7-octa-core-7730u-16-gb-512-gb-ssd-windows-11-home-v15-g4-thin-light-laptop/p/itm0ed77e73122ed?pid=COMHFEJKB4ENJGYN&amp;lid=LSTCOMHFEJKB4ENJGYNAK0YOS&amp;marketplace=FLIPKART&amp;q=laptop&amp;store=6bo%2Fb5g&amp;srno=s_1_6&amp;otracker=AS_QueryStore_OrganicAutoSuggest_1_3_na_na_na&amp;otracker1=AS_QueryStore_OrganicAutoSuggest_1_3_na_na_na&amp;fm=organic&amp;iid=62d4f1ed-0167-4086-9c19-815d9bb030e6.COMHFEJKB4ENJGYN.SEARCH&amp;ppt=None&amp;ppn=None&amp;ssid=dhyxhn9q9s0000001725019516911&amp;qH=312f91285e048e09\"><div class=\"Otbq5D\"><div class=\"yPq5Io\"><div><div class=\"_4WELSP\" style=\"height:200px;width:200px\"><img loading=\"eager\" class=\"DByuf4\" alt=\"Lenovo AMD Ryzen 7 Octa Core 7730U - (16 GB/512 GB SSD/Windows 11 Home) V15 G4 Thin and Light Laptop\" src=\"https://rukminim2.flixcart.com/image/312/312/xif0q/computer/l/z/c/v15-g4-thin-and-light-laptop-lenovo-original-imahfeh892f9yaky.jpeg?q=70\"/></div></div></div><div class=\"qaR90o\"><div class=\"A8uQAd\"><span class=\"Lni97G\"><label class=\"tJjCVx\"><input type=\"checkbox\" class=\"vn9L2C\" readonly=\"\"/><div class=\"XqNaEv\"></div></label></span><label class=\"uu79Xy\"><span>Add to Compare</span></label></div></div><div class=\"oUss6M ssUU08\"><div class=\"+7E521\"><svg xmlns=\"http://www.w3.org/2000/svg\" class=\"N1bADF\" width=\"16\" height=\"16\" viewBox=\"0 0 20 16\"><path d=\"M8.695 16.682C4.06 12.382 1 9.536 1 6.065 1 3.219 3.178 1 5.95 1c1.566 0 3.069.746 4.05 1.915C10.981 1.745 12.484 1 14.05 1 16.822 1 19 3.22 19 6.065c0 3.471-3.06 6.316-7.695 10.617L10 17.897l-1.305-1.215z\" fill=\"#2874F0\" class=\"x1UMqG\" stroke=\"#FFF\" fill-rule=\"evenodd\" opacity=\".9\"></path></svg></div></div></div><div class=\"yKfJKb row\"><div class=\"col col-7-12\"><div class=\"KzDlHZ\">Lenovo AMD Ryzen 7 Octa Core 7730U - (16 GB/512 GB SSD/Windows 11 Home) V15 G4 Thin and Light Laptop</div><div class=\"_5OesEi\"><span id=\"productRating_LSTCOMHFEJKB4ENJGYNAK0YOS_COMHFEJKB4ENJGYN_\" class=\"Y1HWO0\"><div class=\"XQDdHH\">4.3<img src=\"data:image/svg+xml;base64,PHN2ZyB4bWxucz0iaHR0cDovL3d3dy53My5vcmcvMjAwMC9zdmciIHdpZHRoPSIxMyIgaGVpZ2h0PSIxMiI+PHBhdGggZmlsbD0iI0ZGRiIgZD0iTTYuNSA5LjQzOWwtMy42NzQgMi4yMy45NC00LjI2LTMuMjEtMi44ODMgNC4yNTQtLjQwNEw2LjUuMTEybDEuNjkgNC4wMSA0LjI1NC40MDQtMy4yMSAyLjg4Mi45NCA0LjI2eiIvPjwvc3ZnPg==\" class=\"Rza2QY\"/></div></span><span class=\"Wphh3N\"><span><span>49 Ratings\\xa0</span><span class=\"hG7V+4\">&amp;</span><span>\\xa04 Reviews</span></span></span></div><div class=\"_6NESgJ\"><ul class=\"G4BRas\"><li class=\"J+igdf\">AMD Ryzen 7 Octa Core Processor</li><li class=\"J+igdf\">16 GB DDR4 RAM</li><li class=\"J+igdf\">Windows 11 Operating System</li><li class=\"J+igdf\">512 GB SSD</li><li class=\"J+igdf\">39.62 cm (15.6 Inch) Display</li><li class=\"J+igdf\">1 Year Onsite Warranty</li></ul></div></div><div class=\"col col-5-12 BfVC2z\"><div class=\"cN1yYO\"><div class=\"hl05eU\"><div class=\"Nx9bqj _4b5DiR\">₹40,990</div><div class=\"yRaY8j ZYYwLA\">₹<!-- -->62,100</div><div class=\"UkUFwK\"><span>33% off</span></div></div><div class=\"k6cAZE dlFt9U\"><div><div class=\"yiggsN\" style=\"color:#000000;font-size:12px;font-weight:400\">Free delivery</div></div></div></div><div class=\"_0CSTHy\"><img height=\"21\" src=\"//static-assets-web.flixcart.com/fk-p-linchpin-web/fk-cp-zion/img/fa_62673a.png\"/></div><div class=\"M4DNwV\"><div class=\"n5vj9c\"><div class=\"yiggsN O5Fpg8\" style=\"color:#26A541;font-size:12px;font-style:normal;font-weight:700\">Save extra with combo offers</div></div></div><div class=\"M4DNwV\"><div class=\"n5vj9c\"><div class=\"yiggsN O5Fpg8\" style=\"color:#000000;font-size:14px;font-style:normal;font-weight:400\">Upto </div><div class=\"yiggsN O5Fpg8\" style=\"color:#000000;font-size:14px;font-style:normal;font-weight:700\">₹28,000</div><div class=\"yiggsN O5Fpg8\" style=\"color:#000000;font-size:14px;font-style:normal;font-weight:400\"> Off on Exchange</div></div></div></div></div></a></div></div></div></div><div class=\"cPHDOP col-12-12\"><div class=\"_75nlfW\"><div data-id=\"COMGZFFXXHNVC5A5\" style=\"width:100%\"><div class=\"tUxRFH\"><a class=\"CGtC98\" target=\"_blank\" rel=\"noopener noreferrer\" href=\"/hp-chromebook-mediatek-mt8183-4-gb-32-gb-emmc-storage-chrome-os-11mk-g9-ee-laptop/p/itmbcfcbc0ab424f?pid=COMGZFFXXHNVC5A5&amp;lid=LSTCOMGZFFXXHNVC5A5R113PX&amp;marketplace=FLIPKART&amp;q=laptop&amp;store=6bo%2Fb5g&amp;spotlightTagId=BestsellerId_6bo%2Fb5g&amp;srno=s_1_7&amp;otracker=AS_QueryStore_OrganicAutoSuggest_1_3_na_na_na&amp;otracker1=AS_QueryStore_OrganicAutoSuggest_1_3_na_na_na&amp;fm=organic&amp;iid=62d4f1ed-0167-4086-9c19-815d9bb030e6.COMGZFFXXHNVC5A5.SEARCH&amp;ppt=None&amp;ppn=None&amp;ssid=dhyxhn9q9s0000001725019516911&amp;qH=312f91285e048e09\"><div></div><div class=\"Otbq5D\"><div class=\"yPq5Io\"><div><div class=\"_4WELSP\" style=\"height:200px;width:200px\"><img loading=\"eager\" class=\"DByuf4\" alt=\"HP Chromebook MediaTek MT8183 - (4 GB/32 GB EMMC Storage/Chrome OS) 11MK G9 EE Chromebook Laptop\" src=\"https://rukminim2.flixcart.com/image/312/312/xif0q/computer/8/o/l/11mk-g9-chromebook-hp-original-imagz7seah6zvmw9.jpeg?q=70\"/></div></div></div><div class=\"qaR90o\"><div class=\"A8uQAd\"><span class=\"Lni97G\"><label class=\"tJjCVx\"><input type=\"checkbox\" class=\"vn9L2C\" readonly=\"\"/><div class=\"XqNaEv\"></div></label></span><label class=\"uu79Xy\"><span>Add to Compare</span></label></div></div><div class=\"oUss6M ssUU08\"><div class=\"+7E521\"><svg xmlns=\"http://www.w3.org/2000/svg\" class=\"N1bADF\" width=\"16\" height=\"16\" viewBox=\"0 0 20 16\"><path d=\"M8.695 16.682C4.06 12.382 1 9.536 1 6.065 1 3.219 3.178 1 5.95 1c1.566 0 3.069.746 4.05 1.915C10.981 1.745 12.484 1 14.05 1 16.822 1 19 3.22 19 6.065c0 3.471-3.06 6.316-7.695 10.617L10 17.897l-1.305-1.215z\" fill=\"#2874F0\" class=\"x1UMqG\" stroke=\"#FFF\" fill-rule=\"evenodd\" opacity=\".9\"></path></svg></div></div></div><div class=\"yKfJKb row\"><div class=\"col col-7-12\"><div class=\"KzDlHZ\">HP Chromebook MediaTek MT8183 - (4 GB/32 GB EMMC Storage/Chrome OS) 11MK G9 EE Chromebook Laptop</div><div class=\"_5OesEi\"><span id=\"productRating_LSTCOMGZFFXXHNVC5A5R113PX_COMGZFFXXHNVC5A5_\" class=\"Y1HWO0\"><div class=\"XQDdHH\">3.8<img src=\"data:image/svg+xml;base64,PHN2ZyB4bWxucz0iaHR0cDovL3d3dy53My5vcmcvMjAwMC9zdmciIHdpZHRoPSIxMyIgaGVpZ2h0PSIxMiI+PHBhdGggZmlsbD0iI0ZGRiIgZD0iTTYuNSA5LjQzOWwtMy42NzQgMi4yMy45NC00LjI2LTMuMjEtMi44ODMgNC4yNTQtLjQwNEw2LjUuMTEybDEuNjkgNC4wMSA0LjI1NC40MDQtMy4yMSAyLjg4Mi45NCA0LjI2eiIvPjwvc3ZnPg==\" class=\"Rza2QY\"/></div></span><span class=\"Wphh3N\"><span><span>5,555 Ratings\\xa0</span><span class=\"hG7V+4\">&amp;</span><span>\\xa0495 Reviews</span></span></span></div><div class=\"_6NESgJ\"><ul class=\"G4BRas\"><li class=\"J+igdf\">MediaTek MT8183 Processor</li><li class=\"J+igdf\">4 GB LPDDR4X RAM</li><li class=\"J+igdf\">Chrome Operating System</li><li class=\"J+igdf\">29.46 cm (11.6 Inch) Display</li><li class=\"J+igdf\">1 Year Carry-in Warranty</li></ul></div></div><div class=\"col col-5-12 BfVC2z\"><div class=\"cN1yYO\"><div class=\"hl05eU\"><div class=\"Nx9bqj _4b5DiR\">₹11,990</div><div class=\"yRaY8j ZYYwLA\">₹<!-- -->34,554</div><div class=\"UkUFwK\"><span>65% off</span></div></div><div class=\"k6cAZE dlFt9U\"><div><div class=\"yiggsN\" style=\"color:#000000;font-size:12px;font-weight:400\">Free delivery</div></div></div></div><div class=\"M4DNwV\"><div class=\"n5vj9c\"><div class=\"yiggsN O5Fpg8\" style=\"color:#26A541;font-size:12px;font-style:normal;font-weight:700\">Save extra with combo offers</div></div></div><div class=\"M4DNwV\"><div class=\"n5vj9c\"><div class=\"yiggsN O5Fpg8\" style=\"color:#000000;font-size:14px;font-style:normal;font-weight:400\">Upto </div><div class=\"yiggsN O5Fpg8\" style=\"color:#000000;font-size:14px;font-style:normal;font-weight:700\">₹11,300</div><div class=\"yiggsN O5Fpg8\" style=\"color:#000000;font-size:14px;font-style:normal;font-weight:400\"> Off on Exchange</div></div></div></div></div></a></div></div></div></div><div class=\"cPHDOP col-12-12\"><div class=\"_75nlfW\"><div data-id=\"COMGVGAWPAQFKPJZ\" style=\"width:100%\"><div class=\"tUxRFH\"><a class=\"CGtC98\" target=\"_blank\" rel=\"noopener noreferrer\" href=\"/chuwi-intel-core-i5-10th-gen-1035g1-16-gb-512-gb-ssd-windows-11-home-corebook-x-grey-laptop/p/itm575d2115bdd15?pid=COMGVGAWPAQFKPJZ&amp;lid=LSTCOMGVGAWPAQFKPJZCYW6TC&amp;marketplace=FLIPKART&amp;q=laptop&amp;store=6bo%2Fb5g&amp;srno=s_1_8&amp;otracker=AS_QueryStore_OrganicAutoSuggest_1_3_na_na_na&amp;otracker1=AS_QueryStore_OrganicAutoSuggest_1_3_na_na_na&amp;fm=organic&amp;iid=62d4f1ed-0167-4086-9c19-815d9bb030e6.COMGVGAWPAQFKPJZ.SEARCH&amp;ppt=None&amp;ppn=None&amp;ssid=dhyxhn9q9s0000001725019516911&amp;qH=312f91285e048e09\"><div class=\"Otbq5D\"><div class=\"yPq5Io\"><div><div class=\"_4WELSP\" style=\"height:200px;width:200px\"><img loading=\"eager\" class=\"DByuf4\" alt=\"CHUWI Intel Core i5 10th Gen 1035G1 - (16 GB/512 GB SSD/Windows 11 Home) CoreBook X Grey Laptop\" src=\"https://rukminim2.flixcart.com/image/312/312/xif0q/computer/s/r/z/-original-imah3gaqzzz2buxy.jpeg?q=70\"/></div></div></div><div class=\"qaR90o\"><div class=\"A8uQAd\"><span class=\"Lni97G\"><label class=\"tJjCVx\"><input type=\"checkbox\" class=\"vn9L2C\" readonly=\"\"/><div class=\"XqNaEv\"></div></label></span><label class=\"uu79Xy\"><span>Add to Compare</span></label></div></div><div class=\"oUss6M ssUU08\"><div class=\"+7E521\"><svg xmlns=\"http://www.w3.org/2000/svg\" class=\"N1bADF\" width=\"16\" height=\"16\" viewBox=\"0 0 20 16\"><path d=\"M8.695 16.682C4.06 12.382 1 9.536 1 6.065 1 3.219 3.178 1 5.95 1c1.566 0 3.069.746 4.05 1.915C10.981 1.745 12.484 1 14.05 1 16.822 1 19 3.22 19 6.065c0 3.471-3.06 6.316-7.695 10.617L10 17.897l-1.305-1.215z\" fill=\"#2874F0\" class=\"x1UMqG\" stroke=\"#FFF\" fill-rule=\"evenodd\" opacity=\".9\"></path></svg></div></div></div><div class=\"yKfJKb row\"><div class=\"col col-7-12\"><div class=\"KzDlHZ\">CHUWI Intel Core i5 10th Gen 1035G1 - (16 GB/512 GB SSD/Windows 11 Home) CoreBook X Grey Laptop</div><div class=\"_5OesEi\"><span id=\"productRating_LSTCOMGVGAWPAQFKPJZCYW6TC_COMGVGAWPAQFKPJZ_\" class=\"Y1HWO0\"><div class=\"XQDdHH\">4.1<img src=\"data:image/svg+xml;base64,PHN2ZyB4bWxucz0iaHR0cDovL3d3dy53My5vcmcvMjAwMC9zdmciIHdpZHRoPSIxMyIgaGVpZ2h0PSIxMiI+PHBhdGggZmlsbD0iI0ZGRiIgZD0iTTYuNSA5LjQzOWwtMy42NzQgMi4yMy45NC00LjI2LTMuMjEtMi44ODMgNC4yNTQtLjQwNEw2LjUuMTEybDEuNjkgNC4wMSA0LjI1NC40MDQtMy4yMSAyLjg4Mi45NCA0LjI2eiIvPjwvc3ZnPg==\" class=\"Rza2QY\"/></div></span><span class=\"Wphh3N\"><span><span>308 Ratings\\xa0</span><span class=\"hG7V+4\">&amp;</span><span>\\xa049 Reviews</span></span></span></div><div class=\"_6NESgJ\"><ul class=\"G4BRas\"><li class=\"J+igdf\">Intel Core i5 Processor (10th Gen)</li><li class=\"J+igdf\">16 GB DDR4 RAM</li><li class=\"J+igdf\">Windows 11 Home Operating System</li><li class=\"J+igdf\">512 GB SSD</li><li class=\"J+igdf\">35.56 cm (14 inch) Display</li><li class=\"J+igdf\">WPS Office, Operating System Software</li><li class=\"J+igdf\">1 Year Onsite Warranty</li></ul></div></div><div class=\"col col-5-12 BfVC2z\"><div class=\"cN1yYO\"><div class=\"hl05eU\"><div class=\"Nx9bqj _4b5DiR\">₹24,990</div><div class=\"yRaY8j ZYYwLA\">₹<!-- -->34,990</div><div class=\"UkUFwK\"><span>28% off</span></div></div><div class=\"k6cAZE dlFt9U\"><div><div class=\"yiggsN\" style=\"color:#000000;font-size:12px;font-weight:400\">Free delivery</div></div></div></div><div class=\"_0CSTHy\"><img height=\"21\" src=\"//static-assets-web.flixcart.com/fk-p-linchpin-web/fk-cp-zion/img/fa_62673a.png\"/></div><div class=\"M4DNwV\"><div class=\"n5vj9c\" style=\"padding-top:4px;padding-right:4px;padding-bottom:4px;padding-left:4px;border-radius:2px;background-color:#E7F8EC\"><div class=\"yiggsN O5Fpg8\" style=\"color:#26A541;font-size:12px;font-weight:700\">Lowest price since launch</div></div></div><div class=\"M4DNwV\"><div class=\"n5vj9c\"><div class=\"yiggsN O5Fpg8\" style=\"color:#26A541;font-size:14px;font-weight:700\">Bank Offer</div></div></div></div></div></a></div></div></div></div><div class=\"cPHDOP col-12-12\"><div class=\"_75nlfW\"><div data-id=\"COMGMV6VNCJ7TTYV\" style=\"width:100%\"><div class=\"tUxRFH\"><a class=\"CGtC98\" target=\"_blank\" rel=\"noopener noreferrer\" href=\"/msi-modern-14-amd-ryzen-5-hexa-core-7530u-16-gb-512-gb-ssd-windows-11-home-c7m-062in-thin-light-laptop/p/itm491f6c86ff75c?pid=COMGMV6VNCJ7TTYV&amp;lid=LSTCOMGMV6VNCJ7TTYVJYI44H&amp;marketplace=FLIPKART&amp;q=laptop&amp;store=6bo%2Fb5g&amp;srno=s_1_9&amp;otracker=AS_QueryStore_OrganicAutoSuggest_1_3_na_na_na&amp;otracker1=AS_QueryStore_OrganicAutoSuggest_1_3_na_na_na&amp;fm=organic&amp;iid=62d4f1ed-0167-4086-9c19-815d9bb030e6.COMGMV6VNCJ7TTYV.SEARCH&amp;ppt=None&amp;ppn=None&amp;ssid=dhyxhn9q9s0000001725019516911&amp;qH=312f91285e048e09\"><div class=\"Otbq5D\"><div class=\"yPq5Io\"><div><div class=\"_4WELSP\" style=\"height:200px;width:200px\"><img loading=\"eager\" class=\"DByuf4\" alt=\"MSI Modern 14 AMD Ryzen 5 Hexa Core 7530U - (16 GB/512 GB SSD/Windows 11 Home) Modern 14 C7M-062IN Thi...\" src=\"https://rukminim2.flixcart.com/image/312/312/xif0q/computer/q/8/a/-original-imagvyw9hgt3mdqa.jpeg?q=70\"/></div></div></div><div class=\"qaR90o\"><div class=\"A8uQAd\"><span class=\"Lni97G\"><label class=\"tJjCVx\"><input type=\"checkbox\" class=\"vn9L2C\" readonly=\"\"/><div class=\"XqNaEv\"></div></label></span><label class=\"uu79Xy\"><span>Add to Compare</span></label></div></div><div class=\"oUss6M ssUU08\"><div class=\"+7E521\"><svg xmlns=\"http://www.w3.org/2000/svg\" class=\"N1bADF\" width=\"16\" height=\"16\" viewBox=\"0 0 20 16\"><path d=\"M8.695 16.682C4.06 12.382 1 9.536 1 6.065 1 3.219 3.178 1 5.95 1c1.566 0 3.069.746 4.05 1.915C10.981 1.745 12.484 1 14.05 1 16.822 1 19 3.22 19 6.065c0 3.471-3.06 6.316-7.695 10.617L10 17.897l-1.305-1.215z\" fill=\"#2874F0\" class=\"x1UMqG\" stroke=\"#FFF\" fill-rule=\"evenodd\" opacity=\".9\"></path></svg></div></div></div><div class=\"yKfJKb row\"><div class=\"col col-7-12\"><div class=\"KzDlHZ\">MSI Modern 14 AMD Ryzen 5 Hexa Core 7530U - (16 GB/512 GB SSD/Windows 11 Home) Modern 14 C7M-062IN Thi...</div><div class=\"_5OesEi\"><span id=\"productRating_LSTCOMGMV6VNCJ7TTYVJYI44H_COMGMV6VNCJ7TTYV_\" class=\"Y1HWO0\"><div class=\"XQDdHH\">4.3<img src=\"data:image/svg+xml;base64,PHN2ZyB4bWxucz0iaHR0cDovL3d3dy53My5vcmcvMjAwMC9zdmciIHdpZHRoPSIxMyIgaGVpZ2h0PSIxMiI+PHBhdGggZmlsbD0iI0ZGRiIgZD0iTTYuNSA5LjQzOWwtMy42NzQgMi4yMy45NC00LjI2LTMuMjEtMi44ODMgNC4yNTQtLjQwNEw2LjUuMTEybDEuNjkgNC4wMSA0LjI1NC40MDQtMy4yMSAyLjg4Mi45NCA0LjI2eiIvPjwvc3ZnPg==\" class=\"Rza2QY\"/></div></span><span class=\"Wphh3N\"><span><span>2,026 Ratings\\xa0</span><span class=\"hG7V+4\">&amp;</span><span>\\xa0238 Reviews</span></span></span></div><div class=\"_6NESgJ\"><ul class=\"G4BRas\"><li class=\"J+igdf\">AMD Ryzen 5 Hexa Core Processor</li><li class=\"J+igdf\">16 GB DDR4 RAM</li><li class=\"J+igdf\">Windows 11 Operating System</li><li class=\"J+igdf\">512 GB SSD</li><li class=\"J+igdf\">35.56 cm (14 Inch) Display</li><li class=\"J+igdf\">1 Year Carry-in Warranty</li></ul></div></div><div class=\"col col-5-12 BfVC2z\"><div class=\"cN1yYO\"><div class=\"hl05eU\"><div class=\"Nx9bqj _4b5DiR\">₹36,990</div><div class=\"yRaY8j ZYYwLA\">₹<!-- -->64,990</div><div class=\"UkUFwK\"><span>43% off</span></div></div><div class=\"k6cAZE dlFt9U\"><div><div class=\"yiggsN\" style=\"color:#000000;font-size:12px;font-weight:400\">Free delivery</div></div></div></div><div class=\"_0CSTHy\"><img height=\"21\" src=\"//static-assets-web.flixcart.com/fk-p-linchpin-web/fk-cp-zion/img/fa_62673a.png\"/></div><div class=\"M4DNwV\"><div class=\"n5vj9c\"><div class=\"yiggsN O5Fpg8\" style=\"color:#26A541;font-size:12px;font-style:normal;font-weight:700\">Save extra with combo offers</div></div></div><div class=\"M4DNwV\"><div class=\"n5vj9c\"><div class=\"yiggsN O5Fpg8\" style=\"color:#000000;font-size:14px;font-style:normal;font-weight:400\">Upto </div><div class=\"yiggsN O5Fpg8\" style=\"color:#000000;font-size:14px;font-style:normal;font-weight:700\">₹28,000</div><div class=\"yiggsN O5Fpg8\" style=\"color:#000000;font-size:14px;font-style:normal;font-weight:400\"> Off on Exchange</div></div></div></div></div></a></div></div></div></div><div class=\"cPHDOP col-12-12\"><div class=\"_75nlfW\"><div data-id=\"COMGN2YDSFGGXYG3\" style=\"width:100%\"><div class=\"tUxRFH\"><a class=\"CGtC98\" target=\"_blank\" rel=\"noopener noreferrer\" href=\"/lenovo-ideapad-slim-1-amd-ryzen-5-hexa-core-5500u-16-gb-512-gb-ssd-windows-11-home-15alc7-thin-light-laptop/p/itm4a6035f502270?pid=COMGN2YDSFGGXYG3&amp;lid=LSTCOMGN2YDSFGGXYG3MJBCRU&amp;marketplace=FLIPKART&amp;q=laptop&amp;store=6bo%2Fb5g&amp;srno=s_1_10&amp;otracker=AS_QueryStore_OrganicAutoSuggest_1_3_na_na_na&amp;otracker1=AS_QueryStore_OrganicAutoSuggest_1_3_na_na_na&amp;fm=organic&amp;iid=62d4f1ed-0167-4086-9c19-815d9bb030e6.COMGN2YDSFGGXYG3.SEARCH&amp;ppt=None&amp;ppn=None&amp;ssid=dhyxhn9q9s0000001725019516911&amp;qH=312f91285e048e09\"><div class=\"Otbq5D\"><div class=\"yPq5Io\"><div><div class=\"_4WELSP\" style=\"height:200px;width:200px\"><img loading=\"eager\" class=\"DByuf4\" alt=\"Lenovo IdeaPad Slim 1 AMD Ryzen 5 Hexa Core 5500U - (16 GB/512 GB SSD/Windows 11 Home) 15ALC7 Thin and...\" src=\"https://rukminim2.flixcart.com/image/312/312/xif0q/computer/e/m/c/15alc6-thin-and-light-laptop-lenovo-original-imah44pvp5ntsrya.jpeg?q=70\"/></div></div></div><div class=\"qaR90o\"><div class=\"A8uQAd\"><span class=\"Lni97G\"><label class=\"tJjCVx\"><input type=\"checkbox\" class=\"vn9L2C\" readonly=\"\"/><div class=\"XqNaEv\"></div></label></span><label class=\"uu79Xy\"><span>Add to Compare</span></label></div></div><div class=\"oUss6M ssUU08\"><div class=\"+7E521\"><svg xmlns=\"http://www.w3.org/2000/svg\" class=\"N1bADF\" width=\"16\" height=\"16\" viewBox=\"0 0 20 16\"><path d=\"M8.695 16.682C4.06 12.382 1 9.536 1 6.065 1 3.219 3.178 1 5.95 1c1.566 0 3.069.746 4.05 1.915C10.981 1.745 12.484 1 14.05 1 16.822 1 19 3.22 19 6.065c0 3.471-3.06 6.316-7.695 10.617L10 17.897l-1.305-1.215z\" fill=\"#2874F0\" class=\"x1UMqG\" stroke=\"#FFF\" fill-rule=\"evenodd\" opacity=\".9\"></path></svg></div></div></div><div class=\"yKfJKb row\"><div class=\"col col-7-12\"><div class=\"KzDlHZ\">Lenovo IdeaPad Slim 1 AMD Ryzen 5 Hexa Core 5500U - (16 GB/512 GB SSD/Windows 11 Home) 15ALC7 Thin and...</div><div class=\"_5OesEi\"><span id=\"productRating_LSTCOMGN2YDSFGGXYG3MJBCRU_COMGN2YDSFGGXYG3_\" class=\"Y1HWO0\"><div class=\"XQDdHH\">4.2<img src=\"data:image/svg+xml;base64,PHN2ZyB4bWxucz0iaHR0cDovL3d3dy53My5vcmcvMjAwMC9zdmciIHdpZHRoPSIxMyIgaGVpZ2h0PSIxMiI+PHBhdGggZmlsbD0iI0ZGRiIgZD0iTTYuNSA5LjQzOWwtMy42NzQgMi4yMy45NC00LjI2LTMuMjEtMi44ODMgNC4yNTQtLjQwNEw2LjUuMTEybDEuNjkgNC4wMSA0LjI1NC40MDQtMy4yMSAyLjg4Mi45NCA0LjI2eiIvPjwvc3ZnPg==\" class=\"Rza2QY\"/></div></span><span class=\"Wphh3N\"><span><span>4,486 Ratings\\xa0</span><span class=\"hG7V+4\">&amp;</span><span>\\xa0420 Reviews</span></span></span></div><div class=\"_6NESgJ\"><ul class=\"G4BRas\"><li class=\"J+igdf\">AMD Ryzen 5 Hexa Core Processor</li><li class=\"J+igdf\">16 GB DDR4 RAM</li><li class=\"J+igdf\">Windows 11 Operating System</li><li class=\"J+igdf\">512 GB SSD</li><li class=\"J+igdf\">100.63 cm (39.62 cm) Display</li><li class=\"J+igdf\">Microsoft Office Home &amp; Student 2021</li><li class=\"J+igdf\">1 Yr Accidental Damage Protection</li></ul></div></div><div class=\"col col-5-12 BfVC2z\"><div class=\"cN1yYO\"><div class=\"hl05eU\"><div class=\"Nx9bqj _4b5DiR\">₹38,990</div><div class=\"yRaY8j ZYYwLA\">₹<!-- -->58,390</div><div class=\"UkUFwK\"><span>33% off</span></div></div><div class=\"k6cAZE dlFt9U\"><div><div class=\"yiggsN\" style=\"color:#000000;font-size:12px;font-weight:400\">Free delivery</div></div></div></div><div class=\"_0CSTHy\"><img height=\"21\" src=\"//static-assets-web.flixcart.com/fk-p-linchpin-web/fk-cp-zion/img/fa_62673a.png\"/></div><div class=\"M4DNwV\"><div class=\"n5vj9c\"><div class=\"yiggsN O5Fpg8\" style=\"color:#26A541;font-size:12px;font-style:normal;font-weight:700\">Save extra with combo offers</div></div></div><div class=\"M4DNwV\"><div class=\"n5vj9c\"><div class=\"yiggsN O5Fpg8\" style=\"color:#C70055;font-size:12px;font-weight:700\">Only few left</div></div></div></div></div></a></div></div></div></div><div class=\"cPHDOP col-12-12\"><div class=\"_75nlfW\"><div data-id=\"COMGJ75HCCFJS8AE\" style=\"width:100%\"><div class=\"tUxRFH\"><a class=\"CGtC98\" target=\"_blank\" rel=\"noopener noreferrer\" href=\"/dell-intel-core-i3-12th-gen-1215u-8-gb-512-gb-ssd-windows-11-home-new-inspiron-15-laptop-thin-light/p/itm06ea674a3bd5b?pid=COMGJ75HCCFJS8AE&amp;lid=LSTCOMGJ75HCCFJS8AELVN77K&amp;marketplace=FLIPKART&amp;q=laptop&amp;store=6bo%2Fb5g&amp;srno=s_1_11&amp;otracker=AS_QueryStore_OrganicAutoSuggest_1_3_na_na_na&amp;otracker1=AS_QueryStore_OrganicAutoSuggest_1_3_na_na_na&amp;fm=organic&amp;iid=62d4f1ed-0167-4086-9c19-815d9bb030e6.COMGJ75HCCFJS8AE.SEARCH&amp;ppt=None&amp;ppn=None&amp;ssid=dhyxhn9q9s0000001725019516911&amp;qH=312f91285e048e09\"><div class=\"Otbq5D\"><div class=\"yPq5Io\"><div><div class=\"_4WELSP\" style=\"height:200px;width:200px\"><img loading=\"eager\" class=\"DByuf4\" alt=\"DELL Intel Core i3 12th Gen 1215U - (8 GB/512 GB SSD/Windows 11 Home) New Inspiron 15 Laptop Thin and ...\" src=\"https://rukminim2.flixcart.com/image/312/312/xif0q/computer/n/o/s/-original-imaghzah9mjvukjz.jpeg?q=70\"/></div></div></div><div class=\"qaR90o\"><div class=\"A8uQAd\"><span class=\"Lni97G\"><label class=\"tJjCVx\"><input type=\"checkbox\" class=\"vn9L2C\" readonly=\"\"/><div class=\"XqNaEv\"></div></label></span><label class=\"uu79Xy\"><span>Add to Compare</span></label></div></div><div class=\"oUss6M ssUU08\"><div class=\"+7E521\"><svg xmlns=\"http://www.w3.org/2000/svg\" class=\"N1bADF\" width=\"16\" height=\"16\" viewBox=\"0 0 20 16\"><path d=\"M8.695 16.682C4.06 12.382 1 9.536 1 6.065 1 3.219 3.178 1 5.95 1c1.566 0 3.069.746 4.05 1.915C10.981 1.745 12.484 1 14.05 1 16.822 1 19 3.22 19 6.065c0 3.471-3.06 6.316-7.695 10.617L10 17.897l-1.305-1.215z\" fill=\"#2874F0\" class=\"x1UMqG\" stroke=\"#FFF\" fill-rule=\"evenodd\" opacity=\".9\"></path></svg></div></div></div><div class=\"yKfJKb row\"><div class=\"col col-7-12\"><div class=\"KzDlHZ\">DELL Intel Core i3 12th Gen 1215U - (8 GB/512 GB SSD/Windows 11 Home) New Inspiron 15 Laptop Thin and ...</div><div class=\"_5OesEi\"><span id=\"productRating_LSTCOMGJ75HCCFJS8AELVN77K_COMGJ75HCCFJS8AE_\" class=\"Y1HWO0\"><div class=\"XQDdHH\">4.1<img src=\"data:image/svg+xml;base64,PHN2ZyB4bWxucz0iaHR0cDovL3d3dy53My5vcmcvMjAwMC9zdmciIHdpZHRoPSIxMyIgaGVpZ2h0PSIxMiI+PHBhdGggZmlsbD0iI0ZGRiIgZD0iTTYuNSA5LjQzOWwtMy42NzQgMi4yMy45NC00LjI2LTMuMjEtMi44ODMgNC4yNTQtLjQwNEw2LjUuMTEybDEuNjkgNC4wMSA0LjI1NC40MDQtMy4yMSAyLjg4Mi45NCA0LjI2eiIvPjwvc3ZnPg==\" class=\"Rza2QY\"/></div></span><span class=\"Wphh3N\"><span><span>1,829 Ratings\\xa0</span><span class=\"hG7V+4\">&amp;</span><span>\\xa0199 Reviews</span></span></span></div><div class=\"_6NESgJ\"><ul class=\"G4BRas\"><li class=\"J+igdf\">Processor: Intel i3-1215U (Base- 0.9 GHz &amp; Turbo up to 4.40 GHz) 6 Cores</li><li class=\"J+igdf\">RAM &amp; Storage: 8GB DDR4 &amp; 512GB SSD</li><li class=\"J+igdf\">Graphics &amp; Keyboard: Integrated &amp; Standard Keyboard</li><li class=\"J+igdf\">Display: 15.6&quot; FHD WVA AG 120Hz 250 nits Narrow Border</li><li class=\"J+igdf\">Intel Core i3 Processor (12th Gen)</li><li class=\"J+igdf\">8 GB DDR4 RAM</li><li class=\"J+igdf\">64 bit Windows 11 Operating System</li><li class=\"J+igdf\">512 GB SSD</li><li class=\"J+igdf\">96.52 cm (38 cm) Display</li><li class=\"J+igdf\">1 Year Onsite Hardware Service</li></ul></div></div><div class=\"col col-5-12 BfVC2z\"><div class=\"cN1yYO\"><div class=\"hl05eU\"><div class=\"Nx9bqj _4b5DiR\">₹35,590</div><div class=\"yRaY8j ZYYwLA\">₹<!-- -->49,683</div><div class=\"UkUFwK\"><span>28% off</span></div></div><div class=\"k6cAZE dlFt9U\"><div><div class=\"yiggsN\" style=\"color:#000000;font-size:12px;font-weight:400\">Free delivery</div></div></div></div><div class=\"_0CSTHy\"><img height=\"21\" src=\"//static-assets-web.flixcart.com/fk-p-linchpin-web/fk-cp-zion/img/fa_62673a.png\"/></div><div class=\"M4DNwV\"><div class=\"n5vj9c\"><div class=\"yiggsN O5Fpg8\" style=\"color:#26A541;font-size:12px;font-style:normal;font-weight:700\">Save extra with combo offers</div></div></div><div class=\"M4DNwV\"><div class=\"n5vj9c\"><div class=\"yiggsN O5Fpg8\" style=\"color:#C70055;font-size:12px;font-weight:700\">Only few left</div></div></div></div></div></a></div></div></div></div><div class=\"cPHDOP col-12-12\"><div class=\"_75nlfW\"><div data-id=\"COMHY74JXWVWVKFV\" style=\"width:100%\"><div class=\"tUxRFH\"><a class=\"CGtC98\" target=\"_blank\" rel=\"noopener noreferrer\" href=\"/acer-aspire-lite-amd-ryzen-7-octa-core-5700u-16-gb-1-tb-ssd-windows-11-home-al15-41-thin-light-laptop/p/itma7c2fa5113beb?pid=COMHY74JXWVWVKFV&amp;lid=LSTCOMHY74JXWVWVKFVLRN6XW&amp;marketplace=FLIPKART&amp;q=laptop&amp;store=6bo%2Fb5g&amp;srno=s_1_12&amp;otracker=AS_QueryStore_OrganicAutoSuggest_1_3_na_na_na&amp;otracker1=AS_QueryStore_OrganicAutoSuggest_1_3_na_na_na&amp;fm=organic&amp;iid=62d4f1ed-0167-4086-9c19-815d9bb030e6.COMHY74JXWVWVKFV.SEARCH&amp;ppt=None&amp;ppn=None&amp;ssid=dhyxhn9q9s0000001725019516911&amp;qH=312f91285e048e09\"><div class=\"Otbq5D\"><div class=\"yPq5Io\"><div><div class=\"_4WELSP\" style=\"height:200px;width:200px\"><img loading=\"eager\" class=\"DByuf4\" alt=\"Acer Aspire Lite AMD Ryzen 7 Octa Core 5700U - (16 GB/1 TB SSD/Windows 11 Home) AL15-41 Thin and Light...\" src=\"https://rukminim2.flixcart.com/image/312/312/xif0q/computer/u/p/m/-original-imah2pf2u98xefzx.jpeg?q=70\"/></div></div></div><div class=\"qaR90o\"><div class=\"A8uQAd\"><span class=\"Lni97G\"><label class=\"tJjCVx\"><input type=\"checkbox\" class=\"vn9L2C\" readonly=\"\"/><div class=\"XqNaEv\"></div></label></span><label class=\"uu79Xy\"><span>Add to Compare</span></label></div></div><div class=\"oUss6M ssUU08\"><div class=\"+7E521\"><svg xmlns=\"http://www.w3.org/2000/svg\" class=\"N1bADF\" width=\"16\" height=\"16\" viewBox=\"0 0 20 16\"><path d=\"M8.695 16.682C4.06 12.382 1 9.536 1 6.065 1 3.219 3.178 1 5.95 1c1.566 0 3.069.746 4.05 1.915C10.981 1.745 12.484 1 14.05 1 16.822 1 19 3.22 19 6.065c0 3.471-3.06 6.316-7.695 10.617L10 17.897l-1.305-1.215z\" fill=\"#2874F0\" class=\"x1UMqG\" stroke=\"#FFF\" fill-rule=\"evenodd\" opacity=\".9\"></path></svg></div></div></div><div class=\"yKfJKb row\"><div class=\"col col-7-12\"><div class=\"KzDlHZ\">Acer Aspire Lite AMD Ryzen 7 Octa Core 5700U - (16 GB/1 TB SSD/Windows 11 Home) AL15-41 Thin and Light...</div><div class=\"_5OesEi\"><span id=\"productRating_LSTCOMHY74JXWVWVKFVLRN6XW_COMHY74JXWVWVKFV_\" class=\"Y1HWO0\"><div class=\"XQDdHH\">4<img src=\"data:image/svg+xml;base64,PHN2ZyB4bWxucz0iaHR0cDovL3d3dy53My5vcmcvMjAwMC9zdmciIHdpZHRoPSIxMyIgaGVpZ2h0PSIxMiI+PHBhdGggZmlsbD0iI0ZGRiIgZD0iTTYuNSA5LjQzOWwtMy42NzQgMi4yMy45NC00LjI2LTMuMjEtMi44ODMgNC4yNTQtLjQwNEw2LjUuMTEybDEuNjkgNC4wMSA0LjI1NC40MDQtMy4yMSAyLjg4Mi45NCA0LjI2eiIvPjwvc3ZnPg==\" class=\"Rza2QY\"/></div></span><span class=\"Wphh3N\"><span><span>41 Ratings\\xa0</span><span class=\"hG7V+4\">&amp;</span><span>\\xa01 Reviews</span></span></span></div><div class=\"_6NESgJ\"><ul class=\"G4BRas\"><li class=\"J+igdf\">AMD Ryzen 7 Octa Core Processor</li><li class=\"J+igdf\">16 GB DDR4 RAM</li><li class=\"J+igdf\">64 bit Windows 11 Operating System</li><li class=\"J+igdf\">1 TB SSD</li><li class=\"J+igdf\">39.62 cm (15.6 Inch) Display</li><li class=\"J+igdf\">1 Year Onsite Warranty</li></ul></div></div><div class=\"col col-5-12 BfVC2z\"><div class=\"cN1yYO\"><div class=\"hl05eU\"><div class=\"Nx9bqj _4b5DiR\">₹44,991</div><div class=\"yRaY8j ZYYwLA\">₹<!-- -->72,990</div><div class=\"UkUFwK\"><span>38% off</span></div></div><div class=\"k6cAZE dlFt9U\"><div><div class=\"yiggsN\" style=\"color:#000000;font-size:12px;font-weight:400\">Free delivery</div></div></div></div><div class=\"_0CSTHy\"><img height=\"21\" src=\"//static-assets-web.flixcart.com/fk-p-linchpin-web/fk-cp-zion/img/fa_62673a.png\"/></div><div class=\"M4DNwV\"><div class=\"n5vj9c\"><div class=\"yiggsN O5Fpg8\" style=\"color:#C70055;font-size:12px;font-weight:700\">Only few left</div></div></div><div class=\"M4DNwV\"><div class=\"n5vj9c\"><div class=\"yiggsN O5Fpg8\" style=\"color:#26A541;font-size:14px;font-weight:700\">Bank Offer</div></div></div></div></div></a></div></div></div></div><div class=\"cPHDOP col-12-12\"><div class=\"_75nlfW\"><div data-id=\"COMGZUYDGFJGHZR4\" style=\"width:100%\"><div class=\"tUxRFH\"><a class=\"CGtC98\" target=\"_blank\" rel=\"noopener noreferrer\" href=\"/samsung-galaxy-book4-intel-core-i5-13th-gen-1335u-16-gb-512-gb-ssd-windows-11-home-np750xgj-kg2in-np750xgj-lg2in-thin-light-laptop/p/itm820dc496ef160?pid=COMGZUYDGFJGHZR4&amp;lid=LSTCOMGZUYDGFJGHZR4JPVIN2&amp;marketplace=FLIPKART&amp;q=laptop&amp;store=6bo%2Fb5g&amp;srno=s_1_13&amp;otracker=AS_QueryStore_OrganicAutoSuggest_1_3_na_na_na&amp;otracker1=AS_QueryStore_OrganicAutoSuggest_1_3_na_na_na&amp;fm=organic&amp;iid=62d4f1ed-0167-4086-9c19-815d9bb030e6.COMGZUYDGFJGHZR4.SEARCH&amp;ppt=None&amp;ppn=None&amp;ssid=dhyxhn9q9s0000001725019516911&amp;qH=312f91285e048e09\"><div class=\"Otbq5D\"><div class=\"yPq5Io\"><div><div class=\"_4WELSP\" style=\"height:200px;width:200px\"><img loading=\"eager\" class=\"DByuf4\" alt=\"SAMSUNG Galaxy Book4 Intel Core i5 13th Gen 1335U - (16 GB/512 GB SSD/Windows 11 Home) NP750XGJ-KG2IN ...\" src=\"https://rukminim2.flixcart.com/image/312/312/xif0q/computer/3/g/m/-original-imah3xrqttkdbss4.jpeg?q=70\"/></div></div></div><div class=\"qaR90o\"><div class=\"A8uQAd\"><span class=\"Lni97G\"><label class=\"tJjCVx\"><input type=\"checkbox\" class=\"vn9L2C\" readonly=\"\"/><div class=\"XqNaEv\"></div></label></span><label class=\"uu79Xy\"><span>Add to Compare</span></label></div></div><div class=\"oUss6M ssUU08\"><div class=\"+7E521\"><svg xmlns=\"http://www.w3.org/2000/svg\" class=\"N1bADF\" width=\"16\" height=\"16\" viewBox=\"0 0 20 16\"><path d=\"M8.695 16.682C4.06 12.382 1 9.536 1 6.065 1 3.219 3.178 1 5.95 1c1.566 0 3.069.746 4.05 1.915C10.981 1.745 12.484 1 14.05 1 16.822 1 19 3.22 19 6.065c0 3.471-3.06 6.316-7.695 10.617L10 17.897l-1.305-1.215z\" fill=\"#2874F0\" class=\"x1UMqG\" stroke=\"#FFF\" fill-rule=\"evenodd\" opacity=\".9\"></path></svg></div></div></div><div class=\"yKfJKb row\"><div class=\"col col-7-12\"><div class=\"KzDlHZ\">SAMSUNG Galaxy Book4 Intel Core i5 13th Gen 1335U - (16 GB/512 GB SSD/Windows 11 Home) NP750XGJ-KG2IN ...</div><div class=\"_5OesEi\"><span id=\"productRating_LSTCOMGZUYDGFJGHZR4JPVIN2_COMGZUYDGFJGHZR4_\" class=\"Y1HWO0\"><div class=\"XQDdHH\">4.5<img src=\"data:image/svg+xml;base64,PHN2ZyB4bWxucz0iaHR0cDovL3d3dy53My5vcmcvMjAwMC9zdmciIHdpZHRoPSIxMyIgaGVpZ2h0PSIxMiI+PHBhdGggZmlsbD0iI0ZGRiIgZD0iTTYuNSA5LjQzOWwtMy42NzQgMi4yMy45NC00LjI2LTMuMjEtMi44ODMgNC4yNTQtLjQwNEw2LjUuMTEybDEuNjkgNC4wMSA0LjI1NC40MDQtMy4yMSAyLjg4Mi45NCA0LjI2eiIvPjwvc3ZnPg==\" class=\"Rza2QY\"/></div></span><span class=\"Wphh3N\"><span><span>783 Ratings\\xa0</span><span class=\"hG7V+4\">&amp;</span><span>\\xa077 Reviews</span></span></span></div><div class=\"_6NESgJ\"><ul class=\"G4BRas\"><li class=\"J+igdf\">Intel Core i5 Processor (13th Gen)</li><li class=\"J+igdf\">16 GB LPDDR4X RAM</li><li class=\"J+igdf\">Windows 11 Operating System</li><li class=\"J+igdf\">512 GB SSD</li><li class=\"J+igdf\">39.62 cm (15.6 Inch) Display</li><li class=\"J+igdf\">1 Year Manufacturer Warranty for Laptop and 6 Months for In-Box Accessories</li></ul></div></div><div class=\"col col-5-12 BfVC2z\"><div class=\"cN1yYO\"><div class=\"hl05eU\"><div class=\"Nx9bqj _4b5DiR\">₹65,990</div><div class=\"yRaY8j ZYYwLA\">₹<!-- -->82,789</div><div class=\"UkUFwK\"><span>20% off</span></div></div><div class=\"k6cAZE dlFt9U\"><div><div class=\"yiggsN\" style=\"color:#000000;font-size:12px;font-weight:400\">Free delivery</div></div></div></div><div class=\"_0CSTHy\"><img height=\"21\" src=\"//static-assets-web.flixcart.com/fk-p-linchpin-web/fk-cp-zion/img/fa_62673a.png\"/></div><div class=\"M4DNwV\"><div class=\"n5vj9c\"><div class=\"yiggsN O5Fpg8\" style=\"color:#26A541;font-size:12px;font-style:normal;font-weight:700\">Save extra with combo offers</div></div></div><div class=\"M4DNwV\"><div class=\"n5vj9c\"><div class=\"yiggsN O5Fpg8\" style=\"color:#000000;font-size:14px;font-style:normal;font-weight:400\">Upto </div><div class=\"yiggsN O5Fpg8\" style=\"color:#000000;font-size:14px;font-style:normal;font-weight:700\">₹28,000</div><div class=\"yiggsN O5Fpg8\" style=\"color:#000000;font-size:14px;font-style:normal;font-weight:400\"> Off on Exchange</div></div></div></div></div></a></div></div></div></div><div class=\"cPHDOP col-12-12\"><div class=\"_75nlfW\"><div data-id=\"COMGU2D9J8QDJRVG\" style=\"width:100%\"><div class=\"tUxRFH\"><a class=\"CGtC98\" target=\"_blank\" rel=\"noopener noreferrer\" href=\"/acer-travelmate-intel-core-i5-11th-gen-1135g7-16-gb-512-gb-ssd-windows-11-home-tmp214-53-thin-light-laptop/p/itm84fa0bb2fa923?pid=COMGU2D9J8QDJRVG&amp;lid=LSTCOMGU2D9J8QDJRVGTPD4QA&amp;marketplace=FLIPKART&amp;q=laptop&amp;store=6bo%2Fb5g&amp;srno=s_1_14&amp;otracker=AS_QueryStore_OrganicAutoSuggest_1_3_na_na_na&amp;otracker1=AS_QueryStore_OrganicAutoSuggest_1_3_na_na_na&amp;fm=organic&amp;iid=62d4f1ed-0167-4086-9c19-815d9bb030e6.COMGU2D9J8QDJRVG.SEARCH&amp;ppt=None&amp;ppn=None&amp;ssid=dhyxhn9q9s0000001725019516911&amp;qH=312f91285e048e09\"><div class=\"Otbq5D\"><div class=\"yPq5Io\"><div><div class=\"_4WELSP\" style=\"height:200px;width:200px\"><img loading=\"eager\" class=\"DByuf4\" alt=\"Acer Travelmate Intel Core i5 11th Gen 1135G7 - (16 GB/512 GB SSD/Windows 11 Home) TMP214-53 Thin and ...\" src=\"https://rukminim2.flixcart.com/image/312/312/xif0q/computer/i/h/g/-original-imagu85ducxdrmeu.jpeg?q=70\"/></div></div></div><div class=\"qaR90o\"><div class=\"A8uQAd\"><span class=\"Lni97G\"><label class=\"tJjCVx\"><input type=\"checkbox\" class=\"vn9L2C\" readonly=\"\"/><div class=\"XqNaEv\"></div></label></span><label class=\"uu79Xy\"><span>Add to Compare</span></label></div></div><div class=\"oUss6M ssUU08\"><div class=\"+7E521\"><svg xmlns=\"http://www.w3.org/2000/svg\" class=\"N1bADF\" width=\"16\" height=\"16\" viewBox=\"0 0 20 16\"><path d=\"M8.695 16.682C4.06 12.382 1 9.536 1 6.065 1 3.219 3.178 1 5.95 1c1.566 0 3.069.746 4.05 1.915C10.981 1.745 12.484 1 14.05 1 16.822 1 19 3.22 19 6.065c0 3.471-3.06 6.316-7.695 10.617L10 17.897l-1.305-1.215z\" fill=\"#2874F0\" class=\"x1UMqG\" stroke=\"#FFF\" fill-rule=\"evenodd\" opacity=\".9\"></path></svg></div></div></div><div class=\"yKfJKb row\"><div class=\"col col-7-12\"><div class=\"KzDlHZ\">Acer Travelmate Intel Core i5 11th Gen 1135G7 - (16 GB/512 GB SSD/Windows 11 Home) TMP214-53 Thin and ...</div><div class=\"_5OesEi\"><span id=\"productRating_LSTCOMGU2D9J8QDJRVGTPD4QA_COMGU2D9J8QDJRVG_\" class=\"Y1HWO0\"><div class=\"XQDdHH\">3.9<img src=\"data:image/svg+xml;base64,PHN2ZyB4bWxucz0iaHR0cDovL3d3dy53My5vcmcvMjAwMC9zdmciIHdpZHRoPSIxMyIgaGVpZ2h0PSIxMiI+PHBhdGggZmlsbD0iI0ZGRiIgZD0iTTYuNSA5LjQzOWwtMy42NzQgMi4yMy45NC00LjI2LTMuMjEtMi44ODMgNC4yNTQtLjQwNEw2LjUuMTEybDEuNjkgNC4wMSA0LjI1NC40MDQtMy4yMSAyLjg4Mi45NCA0LjI2eiIvPjwvc3ZnPg==\" class=\"Rza2QY\"/></div></span><span class=\"Wphh3N\"><span><span>39 Ratings\\xa0</span><span class=\"hG7V+4\">&amp;</span><span>\\xa05 Reviews</span></span></span></div><div class=\"_6NESgJ\"><ul class=\"G4BRas\"><li class=\"J+igdf\">Intel Core i5 Processor (11th Gen)</li><li class=\"J+igdf\">16 GB DDR4 RAM</li><li class=\"J+igdf\">Windows 11 Operating System</li><li class=\"J+igdf\">512 GB SSD</li><li class=\"J+igdf\">35.56 cm (14 inch) Display</li><li class=\"J+igdf\">1 Year Onsite Warranty</li></ul></div></div><div class=\"col col-5-12 BfVC2z\"><div class=\"cN1yYO\"><div class=\"hl05eU\"><div class=\"Nx9bqj _4b5DiR\">₹35,991</div><div class=\"yRaY8j ZYYwLA\">₹<!-- -->72,356</div><div class=\"UkUFwK\"><span>50% off</span></div></div><div class=\"k6cAZE dlFt9U\"><div><div class=\"yiggsN\" style=\"color:#000000;font-size:12px;font-weight:400\">Free delivery</div></div></div></div><div class=\"_0CSTHy\"><img height=\"21\" src=\"//static-assets-web.flixcart.com/fk-p-linchpin-web/fk-cp-zion/img/fa_62673a.png\"/></div><div class=\"M4DNwV\"><div class=\"n5vj9c\"><div class=\"yiggsN O5Fpg8\" style=\"color:#26A541;font-size:12px;font-weight:700\">Daily Saver</div></div></div><div class=\"M4DNwV\"><div class=\"n5vj9c\"><div class=\"yiggsN O5Fpg8\" style=\"color:#C70055;font-size:12px;font-weight:700\">Only few left</div></div></div></div></div></a></div></div></div></div><div class=\"cPHDOP col-12-12\"><div class=\"_75nlfW\"><div data-id=\"COMGS2AJESZQCMRT\" style=\"width:100%\"><div class=\"tUxRFH\"><a class=\"CGtC98\" target=\"_blank\" rel=\"noopener noreferrer\" href=\"/asus-tuf-gaming-f15-ai-powered-intel-core-i7-11th-gen-11260h-8-gb-512-gb-ssd-windows-11-home-4-graphics-nvidia-geforce-rtx-2050-144-hz-70-tgp-fx506hf-hn075w-laptop/p/itmbd858702e076f?pid=COMGS2AJESZQCMRT&amp;lid=LSTCOMGS2AJESZQCMRTZVTWT2&amp;marketplace=FLIPKART&amp;q=laptop&amp;store=6bo%2Fb5g&amp;srno=s_1_15&amp;otracker=AS_QueryStore_OrganicAutoSuggest_1_3_na_na_na&amp;otracker1=AS_QueryStore_OrganicAutoSuggest_1_3_na_na_na&amp;fm=organic&amp;iid=62d4f1ed-0167-4086-9c19-815d9bb030e6.COMGS2AJESZQCMRT.SEARCH&amp;ppt=None&amp;ppn=None&amp;ssid=dhyxhn9q9s0000001725019516911&amp;qH=312f91285e048e09\"><div class=\"Otbq5D\"><div class=\"yPq5Io\"><div><div class=\"_4WELSP\" style=\"height:200px;width:200px\"><img loading=\"eager\" class=\"DByuf4\" alt=\"ASUS TUF Gaming F15 - AI Powered Gaming Intel Core i7 11th Gen 11260H - (8 GB/512 GB SSD/Windows 11 Ho...\" src=\"https://rukminim2.flixcart.com/image/312/312/xif0q/computer/f/o/q/gaming-f15-gaming-laptop-asus-original-imah43bx7xqaqjgs.jpeg?q=70\"/></div></div></div><div class=\"qaR90o\"><div class=\"A8uQAd\"><span class=\"Lni97G\"><label class=\"tJjCVx\"><input type=\"checkbox\" class=\"vn9L2C\" readonly=\"\"/><div class=\"XqNaEv\"></div></label></span><label class=\"uu79Xy\"><span>Add to Compare</span></label></div></div><div class=\"oUss6M ssUU08\"><div class=\"+7E521\"><svg xmlns=\"http://www.w3.org/2000/svg\" class=\"N1bADF\" width=\"16\" height=\"16\" viewBox=\"0 0 20 16\"><path d=\"M8.695 16.682C4.06 12.382 1 9.536 1 6.065 1 3.219 3.178 1 5.95 1c1.566 0 3.069.746 4.05 1.915C10.981 1.745 12.484 1 14.05 1 16.822 1 19 3.22 19 6.065c0 3.471-3.06 6.316-7.695 10.617L10 17.897l-1.305-1.215z\" fill=\"#2874F0\" class=\"x1UMqG\" stroke=\"#FFF\" fill-rule=\"evenodd\" opacity=\".9\"></path></svg></div></div></div><div class=\"yKfJKb row\"><div class=\"col col-7-12\"><div class=\"KzDlHZ\">ASUS TUF Gaming F15 - AI Powered Gaming Intel Core i7 11th Gen 11260H - (8 GB/512 GB SSD/Windows 11 Ho...</div><div class=\"_5OesEi\"><span id=\"productRating_LSTCOMGS2AJESZQCMRTZVTWT2_COMGS2AJESZQCMRT_\" class=\"Y1HWO0\"><div class=\"XQDdHH\">4.3<img src=\"data:image/svg+xml;base64,PHN2ZyB4bWxucz0iaHR0cDovL3d3dy53My5vcmcvMjAwMC9zdmciIHdpZHRoPSIxMyIgaGVpZ2h0PSIxMiI+PHBhdGggZmlsbD0iI0ZGRiIgZD0iTTYuNSA5LjQzOWwtMy42NzQgMi4yMy45NC00LjI2LTMuMjEtMi44ODMgNC4yNTQtLjQwNEw2LjUuMTEybDEuNjkgNC4wMSA0LjI1NC40MDQtMy4yMSAyLjg4Mi45NCA0LjI2eiIvPjwvc3ZnPg==\" class=\"Rza2QY\"/></div></span><span class=\"Wphh3N\"><span><span>5,215 Ratings\\xa0</span><span class=\"hG7V+4\">&amp;</span><span>\\xa0453 Reviews</span></span></span></div><div class=\"_6NESgJ\"><ul class=\"G4BRas\"><li class=\"J+igdf\">Intel Core i7 Processor (11th Gen)</li><li class=\"J+igdf\">8 GB DDR4 RAM</li><li class=\"J+igdf\">Windows 11 Operating System</li><li class=\"J+igdf\">512 GB SSD</li><li class=\"J+igdf\">39.62 cm (15.6 Inch) Display</li><li class=\"J+igdf\">1 Year Carry-in Warranty</li></ul></div></div><div class=\"col col-5-12 BfVC2z\"><div class=\"cN1yYO\"><div class=\"hl05eU\"><div class=\"Nx9bqj _4b5DiR\">₹46,990</div><div class=\"yRaY8j ZYYwLA\">₹<!-- -->75,990</div><div class=\"UkUFwK\"><span>38% off</span></div></div><div class=\"k6cAZE dlFt9U\"><div><div class=\"yiggsN\" style=\"color:#000000;font-size:12px;font-weight:400\">Free delivery</div></div></div></div><div class=\"_0CSTHy\"><img height=\"21\" src=\"//static-assets-web.flixcart.com/fk-p-linchpin-web/fk-cp-zion/img/fa_62673a.png\"/></div><div class=\"M4DNwV\"><div class=\"n5vj9c\"><div class=\"yiggsN O5Fpg8\" style=\"color:#26A541;font-size:12px;font-style:normal;font-weight:700\">Save extra with combo offers</div></div></div><div class=\"M4DNwV\"><div class=\"n5vj9c\"><div class=\"yiggsN O5Fpg8\" style=\"color:#000000;font-size:14px;font-style:normal;font-weight:400\">Upto </div><div class=\"yiggsN O5Fpg8\" style=\"color:#000000;font-size:14px;font-style:normal;font-weight:700\">₹28,000</div><div class=\"yiggsN O5Fpg8\" style=\"color:#000000;font-size:14px;font-style:normal;font-weight:400\"> Off on Exchange</div></div></div></div></div></a></div></div></div></div><div class=\"cPHDOP col-12-12\"><div class=\"_75nlfW\"><div data-id=\"COMGYSFGHPSWGZSV\" style=\"width:100%\"><div class=\"tUxRFH\"><a class=\"CGtC98\" target=\"_blank\" rel=\"noopener noreferrer\" href=\"/lenovo-loq-intel-core-i5-13th-gen-13450hx-16-gb-512-gb-ssd-windows-11-home-6-graphics-nvidia-geforce-rtx-3050-15irx9d2-gaming-laptop/p/itm52e42e03042c6?pid=COMGYSFGHPSWGZSV&amp;lid=LSTCOMGYSFGHPSWGZSV3LJ4MP&amp;marketplace=FLIPKART&amp;q=laptop&amp;store=6bo%2Fb5g&amp;srno=s_1_16&amp;otracker=AS_QueryStore_OrganicAutoSuggest_1_3_na_na_na&amp;otracker1=AS_QueryStore_OrganicAutoSuggest_1_3_na_na_na&amp;fm=organic&amp;iid=62d4f1ed-0167-4086-9c19-815d9bb030e6.COMGYSFGHPSWGZSV.SEARCH&amp;ppt=None&amp;ppn=None&amp;ssid=dhyxhn9q9s0000001725019516911&amp;qH=312f91285e048e09\"><div class=\"Otbq5D\"><div class=\"yPq5Io\"><div><div class=\"_4WELSP\" style=\"height:200px;width:200px\"><img loading=\"eager\" class=\"DByuf4\" alt=\"Lenovo LOQ Intel Core i5 13th Gen 13450HX - (16 GB/512 GB SSD/Windows 11 Home/6 GB Graphics/NVIDIA GeF...\" src=\"https://rukminim2.flixcart.com/image/312/312/xif0q/computer/c/9/5/-original-imahywvcamhjm2x3.jpeg?q=70\"/></div></div></div><div class=\"qaR90o\"><div class=\"A8uQAd\"><span class=\"Lni97G\"><label class=\"tJjCVx\"><input type=\"checkbox\" class=\"vn9L2C\" readonly=\"\"/><div class=\"XqNaEv\"></div></label></span><label class=\"uu79Xy\"><span>Add to Compare</span></label></div></div><div class=\"oUss6M ssUU08\"><div class=\"+7E521\"><svg xmlns=\"http://www.w3.org/2000/svg\" class=\"N1bADF\" width=\"16\" height=\"16\" viewBox=\"0 0 20 16\"><path d=\"M8.695 16.682C4.06 12.382 1 9.536 1 6.065 1 3.219 3.178 1 5.95 1c1.566 0 3.069.746 4.05 1.915C10.981 1.745 12.484 1 14.05 1 16.822 1 19 3.22 19 6.065c0 3.471-3.06 6.316-7.695 10.617L10 17.897l-1.305-1.215z\" fill=\"#2874F0\" class=\"x1UMqG\" stroke=\"#FFF\" fill-rule=\"evenodd\" opacity=\".9\"></path></svg></div></div></div><div class=\"yKfJKb row\"><div class=\"col col-7-12\"><div class=\"KzDlHZ\">Lenovo LOQ Intel Core i5 13th Gen 13450HX - (16 GB/512 GB SSD/Windows 11 Home/6 GB Graphics/NVIDIA GeF...</div><div class=\"_5OesEi\"><span id=\"productRating_LSTCOMGYSFGHPSWGZSV3LJ4MP_COMGYSFGHPSWGZSV_\" class=\"Y1HWO0\"><div class=\"XQDdHH\">4.2<img src=\"data:image/svg+xml;base64,PHN2ZyB4bWxucz0iaHR0cDovL3d3dy53My5vcmcvMjAwMC9zdmciIHdpZHRoPSIxMyIgaGVpZ2h0PSIxMiI+PHBhdGggZmlsbD0iI0ZGRiIgZD0iTTYuNSA5LjQzOWwtMy42NzQgMi4yMy45NC00LjI2LTMuMjEtMi44ODMgNC4yNTQtLjQwNEw2LjUuMTEybDEuNjkgNC4wMSA0LjI1NC40MDQtMy4yMSAyLjg4Mi45NCA0LjI2eiIvPjwvc3ZnPg==\" class=\"Rza2QY\"/></div></span><span class=\"Wphh3N\"><span><span>365 Ratings\\xa0</span><span class=\"hG7V+4\">&amp;</span><span>\\xa036 Reviews</span></span></span></div><div class=\"_6NESgJ\"><ul class=\"G4BRas\"><li class=\"J+igdf\">Intel Core i5 Processor (13th Gen)</li><li class=\"J+igdf\">16 GB DDR5 RAM</li><li class=\"J+igdf\">Windows 11 Operating System</li><li class=\"J+igdf\">512 GB SSD</li><li class=\"J+igdf\">39.62 cm (15.6 Inch) Display</li><li class=\"J+igdf\">Office Home &amp; Student 2021</li><li class=\"J+igdf\">1Yr Warranty and 1 Yr Accidental Damage Protection</li></ul></div></div><div class=\"col col-5-12 BfVC2z\"><div class=\"cN1yYO\"><div class=\"hl05eU\"><div class=\"Nx9bqj _4b5DiR\">₹72,490</div><div class=\"yRaY8j ZYYwLA\">₹<!-- -->1,09,010</div><div class=\"UkUFwK\"><span>33% off</span></div></div><div class=\"k6cAZE dlFt9U\"><div><div class=\"yiggsN\" style=\"color:#000000;font-size:12px;font-weight:400\">Free delivery</div></div></div></div><div class=\"_0CSTHy\"><img height=\"21\" src=\"//static-assets-web.flixcart.com/fk-p-linchpin-web/fk-cp-zion/img/fa_62673a.png\"/></div><div class=\"M4DNwV\"><div class=\"n5vj9c\"><div class=\"yiggsN O5Fpg8\" style=\"color:#26A541;font-size:12px;font-style:normal;font-weight:700\">Save extra with combo offers</div></div></div><div class=\"M4DNwV\"><div class=\"n5vj9c\"><div class=\"yiggsN O5Fpg8\" style=\"color:#000000;font-size:14px;font-style:normal;font-weight:400\">Upto </div><div class=\"yiggsN O5Fpg8\" style=\"color:#000000;font-size:14px;font-style:normal;font-weight:700\">₹28,000</div><div class=\"yiggsN O5Fpg8\" style=\"color:#000000;font-size:14px;font-style:normal;font-weight:400\"> Off on Exchange</div></div></div></div></div></a></div></div></div></div><div class=\"cPHDOP col-12-12\"><div class=\"_75nlfW\"><div data-id=\"COMGPYKZAWY8UX6C\" style=\"width:100%\"><div class=\"tUxRFH\"><a class=\"CGtC98\" target=\"_blank\" rel=\"noopener noreferrer\" href=\"/lenovo-v15-amd-ryzen-3-quad-core-7320u-8-gb-512-gb-ssd-windows-11-home-g4-amn-1-thin-light-laptop/p/itm5819401743e27?pid=COMGPYKZAWY8UX6C&amp;lid=LSTCOMGPYKZAWY8UX6CSCLSXL&amp;marketplace=FLIPKART&amp;q=laptop&amp;store=6bo%2Fb5g&amp;srno=s_1_17&amp;otracker=AS_QueryStore_OrganicAutoSuggest_1_3_na_na_na&amp;otracker1=AS_QueryStore_OrganicAutoSuggest_1_3_na_na_na&amp;fm=organic&amp;iid=62d4f1ed-0167-4086-9c19-815d9bb030e6.COMGPYKZAWY8UX6C.SEARCH&amp;ppt=None&amp;ppn=None&amp;ssid=dhyxhn9q9s0000001725019516911&amp;qH=312f91285e048e09\"><div class=\"Otbq5D\"><div class=\"yPq5Io\"><div><div class=\"_4WELSP\" style=\"height:200px;width:200px\"><img loading=\"eager\" class=\"DByuf4\" alt=\"Lenovo V15 AMD Ryzen 3 Quad Core 7320U - (8 GB/512 GB SSD/Windows 11 Home) V15 G4 AMN 1 Thin and Light...\" src=\"https://rukminim2.flixcart.com/image/312/312/xif0q/computer/9/d/9/v15-g4-thin-and-light-laptop-lenovo-original-imahfs23ytbrzgzf.jpeg?q=70\"/></div></div></div><div class=\"qaR90o\"><div class=\"A8uQAd\"><span class=\"Lni97G\"><label class=\"tJjCVx\"><input type=\"checkbox\" class=\"vn9L2C\" readonly=\"\"/><div class=\"XqNaEv\"></div></label></span><label class=\"uu79Xy\"><span>Add to Compare</span></label></div></div><div class=\"oUss6M ssUU08\"><div class=\"+7E521\"><svg xmlns=\"http://www.w3.org/2000/svg\" class=\"N1bADF\" width=\"16\" height=\"16\" viewBox=\"0 0 20 16\"><path d=\"M8.695 16.682C4.06 12.382 1 9.536 1 6.065 1 3.219 3.178 1 5.95 1c1.566 0 3.069.746 4.05 1.915C10.981 1.745 12.484 1 14.05 1 16.822 1 19 3.22 19 6.065c0 3.471-3.06 6.316-7.695 10.617L10 17.897l-1.305-1.215z\" fill=\"#2874F0\" class=\"x1UMqG\" stroke=\"#FFF\" fill-rule=\"evenodd\" opacity=\".9\"></path></svg></div></div></div><div class=\"yKfJKb row\"><div class=\"col col-7-12\"><div class=\"KzDlHZ\">Lenovo V15 AMD Ryzen 3 Quad Core 7320U - (8 GB/512 GB SSD/Windows 11 Home) V15 G4 AMN 1 Thin and Light...</div><div class=\"_5OesEi\"><span id=\"productRating_LSTCOMGPYKZAWY8UX6CSCLSXL_COMGPYKZAWY8UX6C_\" class=\"Y1HWO0\"><div class=\"XQDdHH\">4.2<img src=\"data:image/svg+xml;base64,PHN2ZyB4bWxucz0iaHR0cDovL3d3dy53My5vcmcvMjAwMC9zdmciIHdpZHRoPSIxMyIgaGVpZ2h0PSIxMiI+PHBhdGggZmlsbD0iI0ZGRiIgZD0iTTYuNSA5LjQzOWwtMy42NzQgMi4yMy45NC00LjI2LTMuMjEtMi44ODMgNC4yNTQtLjQwNEw2LjUuMTEybDEuNjkgNC4wMSA0LjI1NC40MDQtMy4yMSAyLjg4Mi45NCA0LjI2eiIvPjwvc3ZnPg==\" class=\"Rza2QY\"/></div></span><span class=\"Wphh3N\"><span><span>1,447 Ratings\\xa0</span><span class=\"hG7V+4\">&amp;</span><span>\\xa0131 Reviews</span></span></span></div><div class=\"_6NESgJ\"><ul class=\"G4BRas\"><li class=\"J+igdf\">AMD Ryzen 3 Quad Core Processor</li><li class=\"J+igdf\">8 GB LPDDR5 RAM</li><li class=\"J+igdf\">Windows 11 Operating System</li><li class=\"J+igdf\">512 GB SSD</li><li class=\"J+igdf\">100.63 cm (39.62 cm) Display</li><li class=\"J+igdf\">1 Year Onsite Warranty</li></ul></div></div><div class=\"col col-5-12 BfVC2z\"><div class=\"cN1yYO\"><div class=\"hl05eU\"><div class=\"Nx9bqj _4b5DiR\">₹27,989</div><div class=\"yRaY8j ZYYwLA\">₹<!-- -->59,400</div><div class=\"UkUFwK\"><span>52% off</span></div></div><div class=\"k6cAZE dlFt9U\"><div><div class=\"yiggsN\" style=\"color:#000000;font-size:12px;font-weight:400\">Free delivery</div></div></div></div><div class=\"_0CSTHy\"><img height=\"21\" src=\"//static-assets-web.flixcart.com/fk-p-linchpin-web/fk-cp-zion/img/fa_62673a.png\"/></div><div class=\"M4DNwV\"><div class=\"n5vj9c\"><div class=\"yiggsN O5Fpg8\" style=\"color:#26A541;font-size:12px;font-style:normal;font-weight:700\">Save extra with combo offers</div></div></div><div class=\"M4DNwV\"><div class=\"n5vj9c\"><div class=\"yiggsN O5Fpg8\" style=\"color:#C70055;font-size:12px;font-weight:700\">Only 1 left</div></div></div></div></div></a></div></div></div></div><div class=\"cPHDOP col-12-12\"><div class=\"_75nlfW\"><div data-id=\"COMHYGBZSWASQK9B\" style=\"width:100%\"><div class=\"tUxRFH\"><a class=\"CGtC98\" target=\"_blank\" rel=\"noopener noreferrer\" href=\"/dell-intel-core-i5-13th-gen-1334u-8-gb-512-gb-ssd-windows-11-home-inspiron-3530-thin-light-laptop/p/itm1a4c8b8dbb6d7?pid=COMHYGBZSWASQK9B&amp;lid=LSTCOMHYGBZSWASQK9BPX07QQ&amp;marketplace=FLIPKART&amp;q=laptop&amp;store=6bo%2Fb5g&amp;srno=s_1_18&amp;otracker=AS_QueryStore_OrganicAutoSuggest_1_3_na_na_na&amp;otracker1=AS_QueryStore_OrganicAutoSuggest_1_3_na_na_na&amp;fm=organic&amp;iid=62d4f1ed-0167-4086-9c19-815d9bb030e6.COMHYGBZSWASQK9B.SEARCH&amp;ppt=None&amp;ppn=None&amp;ssid=dhyxhn9q9s0000001725019516911&amp;qH=312f91285e048e09\"><div class=\"Otbq5D\"><div class=\"yPq5Io\"><div><div class=\"_4WELSP\" style=\"height:200px;width:200px\"><img loading=\"eager\" class=\"DByuf4\" alt=\"DELL Intel Core i5 13th Gen 1334U - (8 GB/512 GB SSD/Windows 11 Home) Inspiron 3530 Thin and Light Lap...\" src=\"https://rukminim2.flixcart.com/image/312/312/xif0q/computer/4/k/i/inspiron-3530-thin-and-light-laptop-dell-original-imahyg9g9dnpgqks.jpeg?q=70\"/></div></div></div><div class=\"qaR90o\"><div class=\"A8uQAd\"><span class=\"Lni97G\"><label class=\"tJjCVx\"><input type=\"checkbox\" class=\"vn9L2C\" readonly=\"\"/><div class=\"XqNaEv\"></div></label></span><label class=\"uu79Xy\"><span>Add to Compare</span></label></div></div><div class=\"oUss6M ssUU08\"><div class=\"+7E521\"><svg xmlns=\"http://www.w3.org/2000/svg\" class=\"N1bADF\" width=\"16\" height=\"16\" viewBox=\"0 0 20 16\"><path d=\"M8.695 16.682C4.06 12.382 1 9.536 1 6.065 1 3.219 3.178 1 5.95 1c1.566 0 3.069.746 4.05 1.915C10.981 1.745 12.484 1 14.05 1 16.822 1 19 3.22 19 6.065c0 3.471-3.06 6.316-7.695 10.617L10 17.897l-1.305-1.215z\" fill=\"#2874F0\" class=\"x1UMqG\" stroke=\"#FFF\" fill-rule=\"evenodd\" opacity=\".9\"></path></svg></div></div></div><div class=\"yKfJKb row\"><div class=\"col col-7-12\"><div class=\"KzDlHZ\">DELL Intel Core i5 13th Gen 1334U - (8 GB/512 GB SSD/Windows 11 Home) Inspiron 3530 Thin and Light Lap...</div><div class=\"_5OesEi\"><span id=\"productRating_LSTCOMHYGBZSWASQK9BPX07QQ_COMHYGBZSWASQK9B_\" class=\"Y1HWO0\"><div class=\"XQDdHH\">4.4<img src=\"data:image/svg+xml;base64,PHN2ZyB4bWxucz0iaHR0cDovL3d3dy53My5vcmcvMjAwMC9zdmciIHdpZHRoPSIxMyIgaGVpZ2h0PSIxMiI+PHBhdGggZmlsbD0iI0ZGRiIgZD0iTTYuNSA5LjQzOWwtMy42NzQgMi4yMy45NC00LjI2LTMuMjEtMi44ODMgNC4yNTQtLjQwNEw2LjUuMTEybDEuNjkgNC4wMSA0LjI1NC40MDQtMy4yMSAyLjg4Mi45NCA0LjI2eiIvPjwvc3ZnPg==\" class=\"Rza2QY\"/></div></span><span class=\"Wphh3N\"><span><span>15 Ratings\\xa0</span><span class=\"hG7V+4\">&amp;</span><span>\\xa00 Reviews</span></span></span></div><div class=\"_6NESgJ\"><ul class=\"G4BRas\"><li class=\"J+igdf\">Intel Core i5 Processor (13th Gen)</li><li class=\"J+igdf\">8 GB DDR4 RAM</li><li class=\"J+igdf\">64 bit Windows 11 Operating System</li><li class=\"J+igdf\">512 GB SSD</li><li class=\"J+igdf\">39.62 cm (15.6 inch) Display</li><li class=\"J+igdf\">1 Year Onsite Hardware Service</li></ul></div></div><div class=\"col col-5-12 BfVC2z\"><div class=\"cN1yYO\"><div class=\"hl05eU\"><div class=\"Nx9bqj _4b5DiR\">₹49,491</div><div class=\"yRaY8j ZYYwLA\">₹<!-- -->66,508</div><div class=\"UkUFwK\"><span>25% off</span></div></div><div class=\"k6cAZE dlFt9U\"><div><div class=\"yiggsN\" style=\"color:#000000;font-size:12px;font-weight:400\">Free delivery</div></div></div></div><div class=\"_0CSTHy\"><img height=\"21\" src=\"//static-assets-web.flixcart.com/fk-p-linchpin-web/fk-cp-zion/img/fa_62673a.png\"/></div><div class=\"M4DNwV\"><div class=\"n5vj9c\"><div class=\"yiggsN O5Fpg8\" style=\"color:#C70055;font-size:12px;font-weight:700\">Only 4 left</div></div></div><div class=\"M4DNwV\"><div class=\"n5vj9c\"><div class=\"yiggsN O5Fpg8\" style=\"color:#26A541;font-size:14px;font-weight:700\">Bank Offer</div></div></div></div></div></a></div></div></div></div><div class=\"cPHDOP col-12-12\"><div class=\"_75nlfW\"><div data-id=\"COMGS7M3HHJQYVKB\" style=\"width:100%\"><div class=\"tUxRFH\"><a class=\"CGtC98\" target=\"_blank\" rel=\"noopener noreferrer\" href=\"/asus-vivobook-15-intel-core-i5-12th-gen-1215u-16-gb-512-gb-ssd-windows-11-home-x1502za-ej993ws-thin-light-laptop/p/itmf8b65b51db349?pid=COMGS7M3HHJQYVKB&amp;lid=LSTCOMGS7M3HHJQYVKBRTO2VL&amp;marketplace=FLIPKART&amp;q=laptop&amp;store=6bo%2Fb5g&amp;srno=s_1_19&amp;otracker=AS_QueryStore_OrganicAutoSuggest_1_3_na_na_na&amp;otracker1=AS_QueryStore_OrganicAutoSuggest_1_3_na_na_na&amp;fm=organic&amp;iid=62d4f1ed-0167-4086-9c19-815d9bb030e6.COMGS7M3HHJQYVKB.SEARCH&amp;ppt=None&amp;ppn=None&amp;ssid=dhyxhn9q9s0000001725019516911&amp;qH=312f91285e048e09\"><div class=\"Otbq5D\"><div class=\"yPq5Io\"><div><div class=\"_4WELSP\" style=\"height:200px;width:200px\"><img loading=\"eager\" class=\"DByuf4\" alt=\"ASUS Vivobook 15 Intel Core i5 12th Gen 1215U - (16 GB/512 GB SSD/Windows 11 Home) X1502ZA-EJ993WS Thi...\" src=\"https://rukminim2.flixcart.com/image/312/312/xif0q/computer/c/5/b/x1502za-ej993ws-thin-and-light-laptop-asus-original-imah43bzzrpb8pgv.jpeg?q=70\"/></div></div></div><div class=\"qaR90o\"><div class=\"A8uQAd\"><span class=\"Lni97G\"><label class=\"tJjCVx\"><input type=\"checkbox\" class=\"vn9L2C\" readonly=\"\"/><div class=\"XqNaEv\"></div></label></span><label class=\"uu79Xy\"><span>Add to Compare</span></label></div></div><div class=\"oUss6M ssUU08\"><div class=\"+7E521\"><svg xmlns=\"http://www.w3.org/2000/svg\" class=\"N1bADF\" width=\"16\" height=\"16\" viewBox=\"0 0 20 16\"><path d=\"M8.695 16.682C4.06 12.382 1 9.536 1 6.065 1 3.219 3.178 1 5.95 1c1.566 0 3.069.746 4.05 1.915C10.981 1.745 12.484 1 14.05 1 16.822 1 19 3.22 19 6.065c0 3.471-3.06 6.316-7.695 10.617L10 17.897l-1.305-1.215z\" fill=\"#2874F0\" class=\"x1UMqG\" stroke=\"#FFF\" fill-rule=\"evenodd\" opacity=\".9\"></path></svg></div></div></div><div class=\"yKfJKb row\"><div class=\"col col-7-12\"><div class=\"KzDlHZ\">ASUS Vivobook 15 Intel Core i5 12th Gen 1215U - (16 GB/512 GB SSD/Windows 11 Home) X1502ZA-EJ993WS Thi...</div><div class=\"_5OesEi\"><span id=\"productRating_LSTCOMGS7M3HHJQYVKBRTO2VL_COMGS7M3HHJQYVKB_\" class=\"Y1HWO0\"><div class=\"XQDdHH\">4.2<img src=\"data:image/svg+xml;base64,PHN2ZyB4bWxucz0iaHR0cDovL3d3dy53My5vcmcvMjAwMC9zdmciIHdpZHRoPSIxMyIgaGVpZ2h0PSIxMiI+PHBhdGggZmlsbD0iI0ZGRiIgZD0iTTYuNSA5LjQzOWwtMy42NzQgMi4yMy45NC00LjI2LTMuMjEtMi44ODMgNC4yNTQtLjQwNEw2LjUuMTEybDEuNjkgNC4wMSA0LjI1NC40MDQtMy4yMSAyLjg4Mi45NCA0LjI2eiIvPjwvc3ZnPg==\" class=\"Rza2QY\"/></div></span><span class=\"Wphh3N\"><span><span>4,276 Ratings\\xa0</span><span class=\"hG7V+4\">&amp;</span><span>\\xa0347 Reviews</span></span></span></div><div class=\"_6NESgJ\"><ul class=\"G4BRas\"><li class=\"J+igdf\">Intel Core i5 Processor (12th Gen)</li><li class=\"J+igdf\">16 GB DDR4 RAM</li><li class=\"J+igdf\">Windows 11 Operating System</li><li class=\"J+igdf\">512 GB SSD</li><li class=\"J+igdf\">39.62 cm (15.6 Inch) Display</li><li class=\"J+igdf\">1 Year Onsite Warranty</li></ul></div></div><div class=\"col col-5-12 BfVC2z\"><div class=\"cN1yYO\"><div class=\"hl05eU\"><div class=\"Nx9bqj _4b5DiR\">₹40,990</div><div class=\"yRaY8j ZYYwLA\">₹<!-- -->58,990</div><div class=\"UkUFwK\"><span>30% off</span></div></div><div class=\"k6cAZE dlFt9U\"><div><div class=\"yiggsN\" style=\"color:#000000;font-size:12px;font-weight:400\">Free delivery</div></div></div></div><div class=\"_0CSTHy\"><img height=\"21\" src=\"//static-assets-web.flixcart.com/fk-p-linchpin-web/fk-cp-zion/img/fa_62673a.png\"/></div><div class=\"M4DNwV\"><div class=\"n5vj9c\"><div class=\"yiggsN O5Fpg8\" style=\"color:#26A541;font-size:12px;font-style:normal;font-weight:700\">Save extra with combo offers</div></div></div><div class=\"M4DNwV\"><div class=\"n5vj9c\"><div class=\"yiggsN O5Fpg8\" style=\"color:#000000;font-size:14px;font-style:normal;font-weight:400\">Upto </div><div class=\"yiggsN O5Fpg8\" style=\"color:#000000;font-size:14px;font-style:normal;font-weight:700\">₹30,000</div><div class=\"yiggsN O5Fpg8\" style=\"color:#000000;font-size:14px;font-style:normal;font-weight:400\"> Off on Exchange</div></div></div></div></div></a></div></div></div></div><div class=\"cPHDOP col-12-12\"><div class=\"_75nlfW\"><div data-id=\"COMHFZYZFVD2MCAB\" style=\"width:100%\"><div class=\"tUxRFH\"><a class=\"CGtC98\" target=\"_blank\" rel=\"noopener noreferrer\" href=\"/acer-aspire-3-intel-celeron-dual-core-n4500-8-gb-512-gb-ssd-windows-11-home-a324-45-thin-light-laptop/p/itmbbfe217e40d59?pid=COMHFZYZFVD2MCAB&amp;lid=LSTCOMHFZYZFVD2MCABTLQNKG&amp;marketplace=FLIPKART&amp;q=laptop&amp;store=6bo%2Fb5g&amp;srno=s_1_20&amp;otracker=AS_QueryStore_OrganicAutoSuggest_1_3_na_na_na&amp;otracker1=AS_QueryStore_OrganicAutoSuggest_1_3_na_na_na&amp;fm=organic&amp;iid=62d4f1ed-0167-4086-9c19-815d9bb030e6.COMHFZYZFVD2MCAB.SEARCH&amp;ppt=None&amp;ppn=None&amp;ssid=dhyxhn9q9s0000001725019516911&amp;qH=312f91285e048e09\"><div class=\"Otbq5D\"><div class=\"yPq5Io\"><div><div class=\"_4WELSP\" style=\"height:200px;width:200px\"><img loading=\"eager\" class=\"DByuf4\" alt=\"Acer Aspire 3 Intel Celeron Dual Core N4500 - (8 GB/512 GB SSD/Windows 11 Home) A324-45 Thin and Light...\" src=\"https://rukminim2.flixcart.com/image/312/312/xif0q/computer/y/u/b/-original-imah2z85brrevahw.jpeg?q=70\"/></div></div></div><div class=\"qaR90o\"><div class=\"A8uQAd\"><span class=\"Lni97G\"><label class=\"tJjCVx\"><input type=\"checkbox\" class=\"vn9L2C\" readonly=\"\"/><div class=\"XqNaEv\"></div></label></span><label class=\"uu79Xy\"><span>Add to Compare</span></label></div></div><div class=\"oUss6M ssUU08\"><div class=\"+7E521\"><svg xmlns=\"http://www.w3.org/2000/svg\" class=\"N1bADF\" width=\"16\" height=\"16\" viewBox=\"0 0 20 16\"><path d=\"M8.695 16.682C4.06 12.382 1 9.536 1 6.065 1 3.219 3.178 1 5.95 1c1.566 0 3.069.746 4.05 1.915C10.981 1.745 12.484 1 14.05 1 16.822 1 19 3.22 19 6.065c0 3.471-3.06 6.316-7.695 10.617L10 17.897l-1.305-1.215z\" fill=\"#2874F0\" class=\"x1UMqG\" stroke=\"#FFF\" fill-rule=\"evenodd\" opacity=\".9\"></path></svg></div></div></div><div class=\"yKfJKb row\"><div class=\"col col-7-12\"><div class=\"KzDlHZ\">Acer Aspire 3 Intel Celeron Dual Core N4500 - (8 GB/512 GB SSD/Windows 11 Home) A324-45 Thin and Light...</div><div class=\"_5OesEi\"><span id=\"productRating_LSTCOMHFZYZFVD2MCABTLQNKG_COMHFZYZFVD2MCAB_\" class=\"Y1HWO0\"><div class=\"XQDdHH\">3.8<img src=\"data:image/svg+xml;base64,PHN2ZyB4bWxucz0iaHR0cDovL3d3dy53My5vcmcvMjAwMC9zdmciIHdpZHRoPSIxMyIgaGVpZ2h0PSIxMiI+PHBhdGggZmlsbD0iI0ZGRiIgZD0iTTYuNSA5LjQzOWwtMy42NzQgMi4yMy45NC00LjI2LTMuMjEtMi44ODMgNC4yNTQtLjQwNEw2LjUuMTEybDEuNjkgNC4wMSA0LjI1NC40MDQtMy4yMSAyLjg4Mi45NCA0LjI2eiIvPjwvc3ZnPg==\" class=\"Rza2QY\"/></div></span><span class=\"Wphh3N\"><span><span>206 Ratings\\xa0</span><span class=\"hG7V+4\">&amp;</span><span>\\xa021 Reviews</span></span></span></div><div class=\"_6NESgJ\"><ul class=\"G4BRas\"><li class=\"J+igdf\">Intel Celeron Dual Core Processor</li><li class=\"J+igdf\">8 GB LPDDR4X RAM</li><li class=\"J+igdf\">Windows 11 Operating System</li><li class=\"J+igdf\">512 GB SSD</li><li class=\"J+igdf\">35.56 cm (14 Inch) Display</li><li class=\"J+igdf\">1 Year Carry-in Warranty</li></ul></div></div><div class=\"col col-5-12 BfVC2z\"><div class=\"cN1yYO\"><div class=\"hl05eU\"><div class=\"Nx9bqj _4b5DiR\">₹20,990</div><div class=\"yRaY8j ZYYwLA\">₹<!-- -->32,999</div><div class=\"UkUFwK\"><span>36% off</span></div></div><div class=\"k6cAZE dlFt9U\"><div><div class=\"yiggsN\" style=\"color:#000000;font-size:12px;font-weight:400\">Free delivery</div></div></div></div><div class=\"M4DNwV\"><div class=\"n5vj9c\"><div class=\"yiggsN O5Fpg8\" style=\"color:#26A541;font-size:12px;font-style:normal;font-weight:700\">Save extra with combo offers</div></div></div><div class=\"M4DNwV\"><div class=\"n5vj9c\"><div class=\"yiggsN O5Fpg8\" style=\"color:#000000;font-size:14px;font-style:normal;font-weight:400\">Upto </div><div class=\"yiggsN O5Fpg8\" style=\"color:#000000;font-size:14px;font-style:normal;font-weight:700\">₹13,500</div><div class=\"yiggsN O5Fpg8\" style=\"color:#000000;font-size:14px;font-style:normal;font-weight:400\"> Off on Exchange</div></div></div></div></div></a></div></div></div></div><div class=\"cPHDOP col-12-12\"><div class=\"_75nlfW\"><div data-id=\"COMGYG23H3CRABUT\" style=\"width:100%\"><div class=\"tUxRFH\"><a class=\"CGtC98\" target=\"_blank\" rel=\"noopener noreferrer\" href=\"/lenovo-amd-ryzen-3-quad-core-7330u-8-gb-512-gb-ssd-windows-11-home-thinkbook-15-g5-thin-light-laptop/p/itm164ec8e5bbb35?pid=COMGYG23H3CRABUT&amp;lid=LSTCOMGYG23H3CRABUT1LZXC0&amp;marketplace=FLIPKART&amp;q=laptop&amp;store=6bo%2Fb5g&amp;srno=s_1_21&amp;otracker=AS_QueryStore_OrganicAutoSuggest_1_3_na_na_na&amp;otracker1=AS_QueryStore_OrganicAutoSuggest_1_3_na_na_na&amp;fm=organic&amp;iid=62d4f1ed-0167-4086-9c19-815d9bb030e6.COMGYG23H3CRABUT.SEARCH&amp;ppt=None&amp;ppn=None&amp;ssid=dhyxhn9q9s0000001725019516911&amp;qH=312f91285e048e09\"><div class=\"Otbq5D\"><div class=\"yPq5Io\"><div><div class=\"_4WELSP\" style=\"height:200px;width:200px\"><img loading=\"eager\" class=\"DByuf4\" alt=\"Lenovo AMD Ryzen 3 Quad Core 7330U - (8 GB/512 GB SSD/Windows 11 Home) ThinkBook 15 G5 Thin and Light ...\" src=\"https://rukminim2.flixcart.com/image/312/312/xif0q/computer/v/5/z/thinkbook-15-g5-thin-and-light-laptop-lenovo-original-imagykccjzym4amu.jpeg?q=70\"/></div></div></div><div class=\"qaR90o\"><div class=\"A8uQAd\"><span class=\"Lni97G\"><label class=\"tJjCVx\"><input type=\"checkbox\" class=\"vn9L2C\" readonly=\"\"/><div class=\"XqNaEv\"></div></label></span><label class=\"uu79Xy\"><span>Add to Compare</span></label></div></div><div class=\"oUss6M ssUU08\"><div class=\"+7E521\"><svg xmlns=\"http://www.w3.org/2000/svg\" class=\"N1bADF\" width=\"16\" height=\"16\" viewBox=\"0 0 20 16\"><path d=\"M8.695 16.682C4.06 12.382 1 9.536 1 6.065 1 3.219 3.178 1 5.95 1c1.566 0 3.069.746 4.05 1.915C10.981 1.745 12.484 1 14.05 1 16.822 1 19 3.22 19 6.065c0 3.471-3.06 6.316-7.695 10.617L10 17.897l-1.305-1.215z\" fill=\"#2874F0\" class=\"x1UMqG\" stroke=\"#FFF\" fill-rule=\"evenodd\" opacity=\".9\"></path></svg></div></div></div><div class=\"yKfJKb row\"><div class=\"col col-7-12\"><div class=\"KzDlHZ\">Lenovo AMD Ryzen 3 Quad Core 7330U - (8 GB/512 GB SSD/Windows 11 Home) ThinkBook 15 G5 Thin and Light ...</div><div class=\"_5OesEi\"><span id=\"productRating_LSTCOMGYG23H3CRABUT1LZXC0_COMGYG23H3CRABUT_\" class=\"Y1HWO0\"><div class=\"XQDdHH\">4.1<img src=\"data:image/svg+xml;base64,PHN2ZyB4bWxucz0iaHR0cDovL3d3dy53My5vcmcvMjAwMC9zdmciIHdpZHRoPSIxMyIgaGVpZ2h0PSIxMiI+PHBhdGggZmlsbD0iI0ZGRiIgZD0iTTYuNSA5LjQzOWwtMy42NzQgMi4yMy45NC00LjI2LTMuMjEtMi44ODMgNC4yNTQtLjQwNEw2LjUuMTEybDEuNjkgNC4wMSA0LjI1NC40MDQtMy4yMSAyLjg4Mi45NCA0LjI2eiIvPjwvc3ZnPg==\" class=\"Rza2QY\"/></div></span><span class=\"Wphh3N\"><span><span>69 Ratings\\xa0</span><span class=\"hG7V+4\">&amp;</span><span>\\xa09 Reviews</span></span></span></div><div class=\"_6NESgJ\"><ul class=\"G4BRas\"><li class=\"J+igdf\">AMD Ryzen 3 Quad Core Processor</li><li class=\"J+igdf\">8 GB DDR4 RAM</li><li class=\"J+igdf\">Windows 11 Operating System</li><li class=\"J+igdf\">512 GB SSD</li><li class=\"J+igdf\">39.62 cm (15.6 Inch) Display</li><li class=\"J+igdf\">1 Year Onsite warranty</li></ul></div></div><div class=\"col col-5-12 BfVC2z\"><div class=\"cN1yYO\"><div class=\"hl05eU\"><div class=\"Nx9bqj _4b5DiR\">₹31,950</div><div class=\"yRaY8j ZYYwLA\">₹<!-- -->63,900</div><div class=\"UkUFwK\"><span>50% off</span></div></div><div class=\"k6cAZE dlFt9U\"><div><div class=\"yiggsN\" style=\"color:#000000;font-size:12px;font-weight:400\">Free delivery</div></div></div></div><div class=\"_0CSTHy\"><img height=\"21\" src=\"//static-assets-web.flixcart.com/fk-p-linchpin-web/fk-cp-zion/img/fa_62673a.png\"/></div><div class=\"M4DNwV\"><div class=\"n5vj9c\"><div class=\"yiggsN O5Fpg8\" style=\"color:#26A541;font-size:12px;font-style:normal;font-weight:700\">Save extra with combo offers</div></div></div><div class=\"M4DNwV\"><div class=\"n5vj9c\"><div class=\"yiggsN O5Fpg8\" style=\"color:#26A541;font-size:14px;font-weight:700\">Bank Offer</div></div></div></div></div></a></div></div></div></div><div class=\"cPHDOP col-12-12\"><div class=\"_75nlfW\"><div data-id=\"COMGKAVGSFBZFMHP\" style=\"width:100%\"><div class=\"tUxRFH\"><a class=\"CGtC98\" target=\"_blank\" rel=\"noopener noreferrer\" href=\"/dell-inspiron-3520-intel-core-i5-12th-gen-1235u-8-gb-512-gb-ssd-windows-11-home-new-15-laptop-thin-light/p/itm9d2a78441a474?pid=COMGKAVGSFBZFMHP&amp;lid=LSTCOMGKAVGSFBZFMHPG0CFJD&amp;marketplace=FLIPKART&amp;q=laptop&amp;store=6bo%2Fb5g&amp;srno=s_1_22&amp;otracker=AS_QueryStore_OrganicAutoSuggest_1_3_na_na_na&amp;otracker1=AS_QueryStore_OrganicAutoSuggest_1_3_na_na_na&amp;fm=organic&amp;iid=62d4f1ed-0167-4086-9c19-815d9bb030e6.COMGKAVGSFBZFMHP.SEARCH&amp;ppt=None&amp;ppn=None&amp;ssid=dhyxhn9q9s0000001725019516911&amp;qH=312f91285e048e09\"><div class=\"Otbq5D\"><div class=\"yPq5Io\"><div><div class=\"_4WELSP\" style=\"height:200px;width:200px\"><img loading=\"eager\" class=\"DByuf4\" alt=\"DELL Inspiron 3520 Intel Core i5 12th Gen 1235U - (8 GB/512 GB SSD/Windows 11 Home) New Inspiron 15 La...\" src=\"https://rukminim2.flixcart.com/image/312/312/xif0q/computer/b/j/f/new-inspiron-15-laptop-thin-and-light-laptop-dell-original-imah27qxqfjqdxzm.jpeg?q=70\"/></div></div></div><div class=\"qaR90o\"><div class=\"A8uQAd\"><span class=\"Lni97G\"><label class=\"tJjCVx\"><input type=\"checkbox\" class=\"vn9L2C\" readonly=\"\"/><div class=\"XqNaEv\"></div></label></span><label class=\"uu79Xy\"><span>Add to Compare</span></label></div></div><div class=\"oUss6M ssUU08\"><div class=\"+7E521\"><svg xmlns=\"http://www.w3.org/2000/svg\" class=\"N1bADF\" width=\"16\" height=\"16\" viewBox=\"0 0 20 16\"><path d=\"M8.695 16.682C4.06 12.382 1 9.536 1 6.065 1 3.219 3.178 1 5.95 1c1.566 0 3.069.746 4.05 1.915C10.981 1.745 12.484 1 14.05 1 16.822 1 19 3.22 19 6.065c0 3.471-3.06 6.316-7.695 10.617L10 17.897l-1.305-1.215z\" fill=\"#2874F0\" class=\"x1UMqG\" stroke=\"#FFF\" fill-rule=\"evenodd\" opacity=\".9\"></path></svg></div></div></div><div class=\"yKfJKb row\"><div class=\"col col-7-12\"><div class=\"KzDlHZ\">DELL Inspiron 3520 Intel Core i5 12th Gen 1235U - (8 GB/512 GB SSD/Windows 11 Home) New Inspiron 15 La...</div><div class=\"_5OesEi\"><span id=\"productRating_LSTCOMGKAVGSFBZFMHPG0CFJD_COMGKAVGSFBZFMHP_\" class=\"Y1HWO0\"><div class=\"XQDdHH\">4.3<img src=\"data:image/svg+xml;base64,PHN2ZyB4bWxucz0iaHR0cDovL3d3dy53My5vcmcvMjAwMC9zdmciIHdpZHRoPSIxMyIgaGVpZ2h0PSIxMiI+PHBhdGggZmlsbD0iI0ZGRiIgZD0iTTYuNSA5LjQzOWwtMy42NzQgMi4yMy45NC00LjI2LTMuMjEtMi44ODMgNC4yNTQtLjQwNEw2LjUuMTEybDEuNjkgNC4wMSA0LjI1NC40MDQtMy4yMSAyLjg4Mi45NCA0LjI2eiIvPjwvc3ZnPg==\" class=\"Rza2QY\"/></div></span><span class=\"Wphh3N\"><span><span>522 Ratings\\xa0</span><span class=\"hG7V+4\">&amp;</span><span>\\xa031 Reviews</span></span></span></div><div class=\"_6NESgJ\"><ul class=\"G4BRas\"><li class=\"J+igdf\">Intel Core i5 Processor (12th Gen)</li><li class=\"J+igdf\">8 GB DDR4 RAM</li><li class=\"J+igdf\">Windows 11 Operating System</li><li class=\"J+igdf\">512 GB SSD</li><li class=\"J+igdf\">39.62 cm (15.6 Inch) Display</li><li class=\"J+igdf\">1 Year Onsite Warranty</li></ul></div></div><div class=\"col col-5-12 BfVC2z\"><div class=\"cN1yYO\"><div class=\"hl05eU\"><div class=\"Nx9bqj _4b5DiR\">₹46,691</div><div class=\"yRaY8j ZYYwLA\">₹<!-- -->64,614</div><div class=\"UkUFwK\"><span>27% off</span></div></div><div class=\"k6cAZE dlFt9U\"><div><div class=\"yiggsN\" style=\"color:#000000;font-size:12px;font-weight:400\">Free delivery</div></div></div></div><div class=\"_0CSTHy\"><img height=\"21\" src=\"//static-assets-web.flixcart.com/fk-p-linchpin-web/fk-cp-zion/img/fa_62673a.png\"/></div><div class=\"M4DNwV\"><div class=\"n5vj9c\"><div class=\"yiggsN O5Fpg8\" style=\"color:#26A541;font-size:12px;font-style:normal;font-weight:700\">Save extra with combo offers</div></div></div><div class=\"M4DNwV\"><div class=\"n5vj9c\"><div class=\"yiggsN O5Fpg8\" style=\"color:#C70055;font-size:12px;font-weight:700\">Only few left</div></div></div></div></div></a></div></div></div></div><div class=\"cPHDOP col-12-12\"><div class=\"_75nlfW\"><div data-id=\"COMGTGB3YFVZBXVZ\" style=\"width:100%\"><div class=\"tUxRFH\"><a class=\"CGtC98\" target=\"_blank\" rel=\"noopener noreferrer\" href=\"/asus-tuf-gaming-f17-ai-powered-intel-core-i5-11th-gen-16-gb-512-gb-ssd-windows-11-home-4-graphics-nvidia-geforce-rtx-rtx2050-4gb-fx706hf-hx019w-laptop/p/itmefea001f80981?pid=COMGTGB3YFVZBXVZ&amp;lid=LSTCOMGTGB3YFVZBXVZ3XRTX4&amp;marketplace=FLIPKART&amp;q=laptop&amp;store=6bo%2Fb5g&amp;srno=s_1_23&amp;otracker=AS_QueryStore_OrganicAutoSuggest_1_3_na_na_na&amp;otracker1=AS_QueryStore_OrganicAutoSuggest_1_3_na_na_na&amp;fm=organic&amp;iid=62d4f1ed-0167-4086-9c19-815d9bb030e6.COMGTGB3YFVZBXVZ.SEARCH&amp;ppt=None&amp;ppn=None&amp;ssid=dhyxhn9q9s0000001725019516911&amp;qH=312f91285e048e09\"><div class=\"Otbq5D\"><div class=\"yPq5Io\"><div><div class=\"_4WELSP\" style=\"height:200px;width:200px\"><img loading=\"eager\" class=\"DByuf4\" alt=\"ASUS TUF Gaming F17 - AI Powered Gaming Intel Core i5 11th Gen - (16 GB/512 GB SSD/Windows 11 Home/4 G...\" src=\"https://rukminim2.flixcart.com/image/312/312/xif0q/computer/j/a/z/-original-imagqkqns4hqcynr.jpeg?q=70\"/></div></div></div><div class=\"qaR90o\"><div class=\"A8uQAd\"><span class=\"Lni97G\"><label class=\"tJjCVx\"><input type=\"checkbox\" class=\"vn9L2C\" readonly=\"\"/><div class=\"XqNaEv\"></div></label></span><label class=\"uu79Xy\"><span>Add to Compare</span></label></div></div><div class=\"oUss6M ssUU08\"><div class=\"+7E521\"><svg xmlns=\"http://www.w3.org/2000/svg\" class=\"N1bADF\" width=\"16\" height=\"16\" viewBox=\"0 0 20 16\"><path d=\"M8.695 16.682C4.06 12.382 1 9.536 1 6.065 1 3.219 3.178 1 5.95 1c1.566 0 3.069.746 4.05 1.915C10.981 1.745 12.484 1 14.05 1 16.822 1 19 3.22 19 6.065c0 3.471-3.06 6.316-7.695 10.617L10 17.897l-1.305-1.215z\" fill=\"#2874F0\" class=\"x1UMqG\" stroke=\"#FFF\" fill-rule=\"evenodd\" opacity=\".9\"></path></svg></div></div></div><div class=\"yKfJKb row\"><div class=\"col col-7-12\"><div class=\"KzDlHZ\">ASUS TUF Gaming F17 - AI Powered Gaming Intel Core i5 11th Gen - (16 GB/512 GB SSD/Windows 11 Home/4 G...</div><div class=\"_5OesEi\"><span id=\"productRating_LSTCOMGTGB3YFVZBXVZ3XRTX4_COMGTGB3YFVZBXVZ_\" class=\"Y1HWO0\"><div class=\"XQDdHH\">4.3<img src=\"data:image/svg+xml;base64,PHN2ZyB4bWxucz0iaHR0cDovL3d3dy53My5vcmcvMjAwMC9zdmciIHdpZHRoPSIxMyIgaGVpZ2h0PSIxMiI+PHBhdGggZmlsbD0iI0ZGRiIgZD0iTTYuNSA5LjQzOWwtMy42NzQgMi4yMy45NC00LjI2LTMuMjEtMi44ODMgNC4yNTQtLjQwNEw2LjUuMTEybDEuNjkgNC4wMSA0LjI1NC40MDQtMy4yMSAyLjg4Mi45NCA0LjI2eiIvPjwvc3ZnPg==\" class=\"Rza2QY\"/></div></span><span class=\"Wphh3N\"><span><span>618 Ratings\\xa0</span><span class=\"hG7V+4\">&amp;</span><span>\\xa071 Reviews</span></span></span></div><div class=\"_6NESgJ\"><ul class=\"G4BRas\"><li class=\"J+igdf\">Intel Core i5 Processor (11th Gen)</li><li class=\"J+igdf\">16 GB DDR4 RAM</li><li class=\"J+igdf\">Windows 11 Home Operating System</li><li class=\"J+igdf\">512 GB SSD</li><li class=\"J+igdf\">43.94 cm (17.3 inch) Display</li><li class=\"J+igdf\">1 Year Warranty</li></ul></div></div><div class=\"col col-5-12 BfVC2z\"><div class=\"cN1yYO\"><div class=\"hl05eU\"><div class=\"Nx9bqj _4b5DiR\">₹50,990</div><div class=\"yRaY8j ZYYwLA\">₹<!-- -->82,990</div><div class=\"UkUFwK\"><span>38% off</span></div></div><div class=\"k6cAZE dlFt9U\"><div><div class=\"yiggsN\" style=\"color:#000000;font-size:12px;font-weight:400\">Free delivery</div></div></div></div><div class=\"_0CSTHy\"><img height=\"21\" src=\"//static-assets-web.flixcart.com/fk-p-linchpin-web/fk-cp-zion/img/fa_62673a.png\"/></div><div class=\"M4DNwV\"><div class=\"n5vj9c\" style=\"padding-top:4px;padding-right:4px;padding-bottom:4px;padding-left:4px;border-radius:2px;background-color:#E7F8EC\"><div class=\"yiggsN O5Fpg8\" style=\"color:#26A541;font-size:12px;font-weight:700\">Lowest price since launch</div></div></div><div class=\"M4DNwV\"><div class=\"n5vj9c\"><div class=\"yiggsN O5Fpg8\" style=\"color:#C70055;font-size:12px;font-weight:700\">Only few left</div></div></div></div></div></a></div></div></div></div><div class=\"cPHDOP col-12-12\"><div class=\"_75nlfW\"><div data-id=\"COMGYHP5MCEYZHSV\" style=\"width:100%\"><div class=\"tUxRFH\"><a class=\"CGtC98\" target=\"_blank\" rel=\"noopener noreferrer\" href=\"/hp-15s-fq5007tu-intel-core-i3-12th-gen-1215u-8-gb-512-gb-ssd-windows-11-home-15s-fq5327tu-thin-light-laptop/p/itm0a728a69a5520?pid=COMGYHP5MCEYZHSV&amp;lid=LSTCOMGYHP5MCEYZHSVTVJRS5&amp;marketplace=FLIPKART&amp;q=laptop&amp;store=6bo%2Fb5g&amp;srno=s_1_24&amp;otracker=AS_QueryStore_OrganicAutoSuggest_1_3_na_na_na&amp;otracker1=AS_QueryStore_OrganicAutoSuggest_1_3_na_na_na&amp;fm=organic&amp;iid=62d4f1ed-0167-4086-9c19-815d9bb030e6.COMGYHP5MCEYZHSV.SEARCH&amp;ppt=None&amp;ppn=None&amp;ssid=dhyxhn9q9s0000001725019516911&amp;qH=312f91285e048e09\"><div class=\"Otbq5D\"><div class=\"yPq5Io\"><div><div class=\"_4WELSP\" style=\"height:200px;width:200px\"><img loading=\"eager\" class=\"DByuf4\" alt=\"HP (15s-fq5007TU) Intel Core i3 12th Gen 1215U - (8 GB/512 GB SSD/Windows 11 Home) 15s-fq5327TU Thin a...\" src=\"https://rukminim2.flixcart.com/image/312/312/xif0q/computer/s/x/e/15s-fq5327tu-thin-and-light-laptop-hp-original-imah43fujckq3m2c.jpeg?q=70\"/></div></div></div><div class=\"qaR90o\"><div class=\"A8uQAd\"><span class=\"Lni97G\"><label class=\"tJjCVx\"><input type=\"checkbox\" class=\"vn9L2C\" readonly=\"\"/><div class=\"XqNaEv\"></div></label></span><label class=\"uu79Xy\"><span>Add to Compare</span></label></div></div><div class=\"oUss6M ssUU08\"><div class=\"+7E521\"><svg xmlns=\"http://www.w3.org/2000/svg\" class=\"N1bADF\" width=\"16\" height=\"16\" viewBox=\"0 0 20 16\"><path d=\"M8.695 16.682C4.06 12.382 1 9.536 1 6.065 1 3.219 3.178 1 5.95 1c1.566 0 3.069.746 4.05 1.915C10.981 1.745 12.484 1 14.05 1 16.822 1 19 3.22 19 6.065c0 3.471-3.06 6.316-7.695 10.617L10 17.897l-1.305-1.215z\" fill=\"#2874F0\" class=\"x1UMqG\" stroke=\"#FFF\" fill-rule=\"evenodd\" opacity=\".9\"></path></svg></div></div></div><div class=\"yKfJKb row\"><div class=\"col col-7-12\"><div class=\"KzDlHZ\">HP (15s-fq5007TU) Intel Core i3 12th Gen 1215U - (8 GB/512 GB SSD/Windows 11 Home) 15s-fq5327TU Thin a...</div><div class=\"_5OesEi\"><span id=\"productRating_LSTCOMGYHP5MCEYZHSVTVJRS5_COMGYHP5MCEYZHSV_\" class=\"Y1HWO0\"><div class=\"XQDdHH\">4.2<img src=\"data:image/svg+xml;base64,PHN2ZyB4bWxucz0iaHR0cDovL3d3dy53My5vcmcvMjAwMC9zdmciIHdpZHRoPSIxMyIgaGVpZ2h0PSIxMiI+PHBhdGggZmlsbD0iI0ZGRiIgZD0iTTYuNSA5LjQzOWwtMy42NzQgMi4yMy45NC00LjI2LTMuMjEtMi44ODMgNC4yNTQtLjQwNEw2LjUuMTEybDEuNjkgNC4wMSA0LjI1NC40MDQtMy4yMSAyLjg4Mi45NCA0LjI2eiIvPjwvc3ZnPg==\" class=\"Rza2QY\"/></div></span><span class=\"Wphh3N\"><span><span>5,856 Ratings\\xa0</span><span class=\"hG7V+4\">&amp;</span><span>\\xa0491 Reviews</span></span></span></div><div class=\"_6NESgJ\"><ul class=\"G4BRas\"><li class=\"J+igdf\">Intel Core i3 Processor (12th Gen)</li><li class=\"J+igdf\">8 GB DDR4 RAM</li><li class=\"J+igdf\">64 bit Windows 11 Operating System</li><li class=\"J+igdf\">512 GB SSD</li><li class=\"J+igdf\">39.62 cm (15.6 Inch) Display</li><li class=\"J+igdf\">Microsoft Office Home &amp; Student 2021</li><li class=\"J+igdf\">1 Year Onsite Warranty</li></ul></div></div><div class=\"col col-5-12 BfVC2z\"><div class=\"cN1yYO\"><div class=\"hl05eU\"><div class=\"Nx9bqj _4b5DiR\">₹36,990</div><div class=\"yRaY8j ZYYwLA\">₹<!-- -->51,134</div><div class=\"UkUFwK\"><span>27% off</span></div></div><div class=\"k6cAZE dlFt9U\"><div><div class=\"yiggsN\" style=\"color:#000000;font-size:12px;font-weight:400\">Free delivery</div></div></div></div><div class=\"_0CSTHy\"><img height=\"21\" src=\"//static-assets-web.flixcart.com/fk-p-linchpin-web/fk-cp-zion/img/fa_62673a.png\"/></div><div class=\"M4DNwV\"><div class=\"n5vj9c\"><div class=\"yiggsN O5Fpg8\" style=\"color:#26A541;font-size:12px;font-style:normal;font-weight:700\">Save extra with combo offers</div></div></div><div class=\"M4DNwV\"><div class=\"n5vj9c\"><div class=\"yiggsN O5Fpg8\" style=\"color:#000000;font-size:14px;font-style:normal;font-weight:400\">Upto </div><div class=\"yiggsN O5Fpg8\" style=\"color:#000000;font-size:14px;font-style:normal;font-weight:700\">₹28,000</div><div class=\"yiggsN O5Fpg8\" style=\"color:#000000;font-size:14px;font-style:normal;font-weight:400\"> Off on Exchange</div></div></div></div></div></a></div></div></div></div><div class=\"cPHDOP col-12-12\"><div><div class=\"_1G0WLw\"><span>Page 1 of 91</span><nav class=\"WSL9JP\"><a class=\"cn++Ap A1msZJ\" href=\"/search?q=laptop&amp;sid=6bo%2Cb5g&amp;as=on&amp;as-show=on&amp;otracker=AS_QueryStore_OrganicAutoSuggest_1_3_na_na_na&amp;otracker1=AS_QueryStore_OrganicAutoSuggest_1_3_na_na_na&amp;as-pos=1&amp;as-type=RECENT&amp;suggestionId=laptop%7CLaptops&amp;requestId=f61bf5d7-f7a7-4adb-88bc-0ad126f6e0af&amp;as-searchtext=laptop&amp;page=1\">1</a><a class=\"cn++Ap\" href=\"/search?q=laptop&amp;sid=6bo%2Cb5g&amp;as=on&amp;as-show=on&amp;otracker=AS_QueryStore_OrganicAutoSuggest_1_3_na_na_na&amp;otracker1=AS_QueryStore_OrganicAutoSuggest_1_3_na_na_na&amp;as-pos=1&amp;as-type=RECENT&amp;suggestionId=laptop%7CLaptops&amp;requestId=f61bf5d7-f7a7-4adb-88bc-0ad126f6e0af&amp;as-searchtext=laptop&amp;page=2\">2</a><a class=\"cn++Ap\" href=\"/search?q=laptop&amp;sid=6bo%2Cb5g&amp;as=on&amp;as-show=on&amp;otracker=AS_QueryStore_OrganicAutoSuggest_1_3_na_na_na&amp;otracker1=AS_QueryStore_OrganicAutoSuggest_1_3_na_na_na&amp;as-pos=1&amp;as-type=RECENT&amp;suggestionId=laptop%7CLaptops&amp;requestId=f61bf5d7-f7a7-4adb-88bc-0ad126f6e0af&amp;as-searchtext=laptop&amp;page=3\">3</a><a class=\"cn++Ap\" href=\"/search?q=laptop&amp;sid=6bo%2Cb5g&amp;as=on&amp;as-show=on&amp;otracker=AS_QueryStore_OrganicAutoSuggest_1_3_na_na_na&amp;otracker1=AS_QueryStore_OrganicAutoSuggest_1_3_na_na_na&amp;as-pos=1&amp;as-type=RECENT&amp;suggestionId=laptop%7CLaptops&amp;requestId=f61bf5d7-f7a7-4adb-88bc-0ad126f6e0af&amp;as-searchtext=laptop&amp;page=4\">4</a><a class=\"cn++Ap\" href=\"/search?q=laptop&amp;sid=6bo%2Cb5g&amp;as=on&amp;as-show=on&amp;otracker=AS_QueryStore_OrganicAutoSuggest_1_3_na_na_na&amp;otracker1=AS_QueryStore_OrganicAutoSuggest_1_3_na_na_na&amp;as-pos=1&amp;as-type=RECENT&amp;suggestionId=laptop%7CLaptops&amp;requestId=f61bf5d7-f7a7-4adb-88bc-0ad126f6e0af&amp;as-searchtext=laptop&amp;page=5\">5</a><a class=\"cn++Ap\" href=\"/search?q=laptop&amp;sid=6bo%2Cb5g&amp;as=on&amp;as-show=on&amp;otracker=AS_QueryStore_OrganicAutoSuggest_1_3_na_na_na&amp;otracker1=AS_QueryStore_OrganicAutoSuggest_1_3_na_na_na&amp;as-pos=1&amp;as-type=RECENT&amp;suggestionId=laptop%7CLaptops&amp;requestId=f61bf5d7-f7a7-4adb-88bc-0ad126f6e0af&amp;as-searchtext=laptop&amp;page=6\">6</a><a class=\"cn++Ap\" href=\"/search?q=laptop&amp;sid=6bo%2Cb5g&amp;as=on&amp;as-show=on&amp;otracker=AS_QueryStore_OrganicAutoSuggest_1_3_na_na_na&amp;otracker1=AS_QueryStore_OrganicAutoSuggest_1_3_na_na_na&amp;as-pos=1&amp;as-type=RECENT&amp;suggestionId=laptop%7CLaptops&amp;requestId=f61bf5d7-f7a7-4adb-88bc-0ad126f6e0af&amp;as-searchtext=laptop&amp;page=7\">7</a><a class=\"cn++Ap\" href=\"/search?q=laptop&amp;sid=6bo%2Cb5g&amp;as=on&amp;as-show=on&amp;otracker=AS_QueryStore_OrganicAutoSuggest_1_3_na_na_na&amp;otracker1=AS_QueryStore_OrganicAutoSuggest_1_3_na_na_na&amp;as-pos=1&amp;as-type=RECENT&amp;suggestionId=laptop%7CLaptops&amp;requestId=f61bf5d7-f7a7-4adb-88bc-0ad126f6e0af&amp;as-searchtext=laptop&amp;page=8\">8</a><a class=\"cn++Ap\" href=\"/search?q=laptop&amp;sid=6bo%2Cb5g&amp;as=on&amp;as-show=on&amp;otracker=AS_QueryStore_OrganicAutoSuggest_1_3_na_na_na&amp;otracker1=AS_QueryStore_OrganicAutoSuggest_1_3_na_na_na&amp;as-pos=1&amp;as-type=RECENT&amp;suggestionId=laptop%7CLaptops&amp;requestId=f61bf5d7-f7a7-4adb-88bc-0ad126f6e0af&amp;as-searchtext=laptop&amp;page=9\">9</a><a class=\"cn++Ap\" href=\"/search?q=laptop&amp;sid=6bo%2Cb5g&amp;as=on&amp;as-show=on&amp;otracker=AS_QueryStore_OrganicAutoSuggest_1_3_na_na_na&amp;otracker1=AS_QueryStore_OrganicAutoSuggest_1_3_na_na_na&amp;as-pos=1&amp;as-type=RECENT&amp;suggestionId=laptop%7CLaptops&amp;requestId=f61bf5d7-f7a7-4adb-88bc-0ad126f6e0af&amp;as-searchtext=laptop&amp;page=10\">10</a><a class=\"_9QVEpD\" href=\"/search?q=laptop&amp;sid=6bo%2Cb5g&amp;as=on&amp;as-show=on&amp;otracker=AS_QueryStore_OrganicAutoSuggest_1_3_na_na_na&amp;otracker1=AS_QueryStore_OrganicAutoSuggest_1_3_na_na_na&amp;as-pos=1&amp;as-type=RECENT&amp;suggestionId=laptop%7CLaptops&amp;requestId=f61bf5d7-f7a7-4adb-88bc-0ad126f6e0af&amp;as-searchtext=laptop&amp;page=2\"><span>Next</span></a></nav><span class=\"TEAQU1\"></span></div></div></div><div class=\"cPHDOP col-12-12\" style=\"margin:10px 0px 0px 0px\"><div class=\"b5p4CI\"><span class=\"H+18AT\">Did you find what you were looking for?</span><div class=\"c6QpTS oWf9LO\"><span class=\"WZkjSk eQ1o1C\">Yes</span><span class=\"WZkjSk eQ1o1C\">No</span></div></div></div></div></div><div class=\"cPHDOP col-12-12\" style=\"padding:16px 0px 0px 0px\"><div class=\"Pg+ADy -u2ZnE row\"><div class=\"naMJjQ\">Reviews for Popular Laptops</div><div class=\"ybB1XH\"><div class=\"MohBBj\"><div class=\"Ld8TWM\"><div class=\"_4WELSP\" style=\"height:150px;width:150px\"><img loading=\"lazy\" class=\"DByuf4\" alt=\"Acer Aspire Lite AMD Ryzen 7 Octa Core 5700U - (16 GB/1 TB SSD/Windows 11 Home) AL15-41 Thin and Light Laptop\" src=\"https://rukminim2.flixcart.com/image/300/300/xif0q/computer/u/p/m/-original-imah2pf2u98xefzx.jpeg?q=90\"/></div></div><div class=\"_8zhCRP\"><a target=\"_blank\" rel=\"noopener noreferrer\" href=\"/acer-aspire-lite-amd-ryzen-7-octa-core-5700u-16-gb-1-tb-ssd-windows-11-home-al15-41-thin-light-laptop/p/itma7c2fa5113beb?pid=COMHY74JXWVWVKFV&amp;marketplace=FLIPKART\"><div class=\"kv0tEm\"><div>1. Acer Aspire Lite AMD Ryzen ...</div></div><div class=\"sRoN4i\"><div class=\"XQDdHH\">4<img src=\"data:image/svg+xml;base64,PHN2ZyB4bWxucz0iaHR0cDovL3d3dy53My5vcmcvMjAwMC9zdmciIHdpZHRoPSIxMyIgaGVpZ2h0PSIxMiI+PHBhdGggZmlsbD0iI0ZGRiIgZD0iTTYuNSA5LjQzOWwtMy42NzQgMi4yMy45NC00LjI2LTMuMjEtMi44ODMgNC4yNTQtLjQwNEw2LjUuMTEybDEuNjkgNC4wMSA0LjI1NC40MDQtMy4yMSAyLjg4Mi45NCA0LjI2eiIvPjwvc3ZnPg==\" class=\"Rza2QY\"/></div><span class=\"Bz-crL\"><span>41 Ratings</span><span><span class=\"_8O4+-w\">&amp;</span><span>1 Reviews</span></span></span></div><div class=\"Xrs8Tf\"><div class=\"hl05eU\"><div class=\"Nx9bqj OQ4U3k\">₹44,991</div><div class=\"UkUFwK WMQHm1\"><span>38% off</span></div></div></div></a><ul class=\"akQAfe\"><li class=\"Ov4d6Q\">AMD Ryzen 7 Octa Core Processor</li><li class=\"Ov4d6Q\">16 GB DDR4 RAM</li><li class=\"Ov4d6Q\">64 bit Windows 11 Operating System</li></ul></div></div><div class=\"vQjHak\"><div class=\"VEuN0R\">Most Helpful Review</div><div class=\"col\"><div class=\"col EPCmJX xJgaqh\"><div class=\"row\"><div class=\"XQDdHH Czs3gR Ga3i8K\">2<img src=\"data:image/svg+xml;base64,PHN2ZyB4bWxucz0iaHR0cDovL3d3dy53My5vcmcvMjAwMC9zdmciIHdpZHRoPSIxMyIgaGVpZ2h0PSIxMiI+PHBhdGggZmlsbD0iI0ZGRiIgZD0iTTYuNSA5LjQzOWwtMy42NzQgMi4yMy45NC00LjI2LTMuMjEtMi44ODMgNC4yNTQtLjQwNEw2LjUuMTEybDEuNjkgNC4wMSA0LjI1NC40MDQtMy4yMSAyLjg4Mi45NCA0LjI2eiIvPjwvc3ZnPg==\" class=\"Rza2QY\"/></div><p class=\"z9E0IG\">Moderate</p></div><div class=\"row\"><div class=\"ZmyHeo\"><div><div class=\"\">Keyboard verry cheap quality</div><span class=\"wTYmpv\"><span>Read full review</span></span></div></div></div><div class=\"row gHqwa8\"><div class=\"row\"><p class=\"_2NsDsF AwS1CA\">Flipkart Customer</p><svg width=\"14\" height=\"14\" viewBox=\"0 0 12 12\" xmlns=\"http://www.w3.org/2000/svg\" class=\"VjlQyz\"><g><circle cx=\"6\" cy=\"6\" r=\"6\" fill=\"#878787\"></circle><path stroke=\"#FFF\" stroke-width=\"1.5\" d=\"M3 6l2 2 4-4\" fill=\"#878787\"></path></g></svg><p id=\"review-1022ee53-0917-4ea8-8779-3dd2c1bf56b7\" class=\"MztJPv\"><span>Certified Buyer</span></p><p class=\"_2NsDsF\">2 months ago</p></div></div></div></div></div><div class=\"vQjHak\"><div class=\"VEuN0R\">Recent Review</div><div class=\"col\"><div class=\"col EPCmJX xJgaqh\"><div class=\"row\"><div class=\"XQDdHH Czs3gR Ga3i8K\">2<img src=\"data:image/svg+xml;base64,PHN2ZyB4bWxucz0iaHR0cDovL3d3dy53My5vcmcvMjAwMC9zdmciIHdpZHRoPSIxMyIgaGVpZ2h0PSIxMiI+PHBhdGggZmlsbD0iI0ZGRiIgZD0iTTYuNSA5LjQzOWwtMy42NzQgMi4yMy45NC00LjI2LTMuMjEtMi44ODMgNC4yNTQtLjQwNEw2LjUuMTEybDEuNjkgNC4wMSA0LjI1NC40MDQtMy4yMSAyLjg4Mi45NCA0LjI2eiIvPjwvc3ZnPg==\" class=\"Rza2QY\"/></div><p class=\"z9E0IG\">Moderate</p></div><div class=\"row\"><div class=\"ZmyHeo\"><div><div class=\"\">Keyboard verry cheap quality</div><span class=\"wTYmpv\"><span>Read full review</span></span></div></div></div><div class=\"row gHqwa8\"><div class=\"row\"><p class=\"_2NsDsF AwS1CA\">Flipkart Customer</p><svg width=\"14\" height=\"14\" viewBox=\"0 0 12 12\" xmlns=\"http://www.w3.org/2000/svg\" class=\"VjlQyz\"><g><circle cx=\"6\" cy=\"6\" r=\"6\" fill=\"#878787\"></circle><path stroke=\"#FFF\" stroke-width=\"1.5\" d=\"M3 6l2 2 4-4\" fill=\"#878787\"></path></g></svg><p id=\"review-1022ee53-0917-4ea8-8779-3dd2c1bf56b7\" class=\"MztJPv\"><span>Certified Buyer</span></p><p class=\"_2NsDsF\">2 months ago</p></div></div></div></div></div></div><div class=\"ybB1XH\"><div class=\"MohBBj\"><div class=\"Ld8TWM\"><div class=\"_4WELSP\" style=\"height:150px;width:150px\"><img loading=\"lazy\" class=\"DByuf4\" alt=\"Apple 2020 Macbook Air Apple M1 - (8 GB/256 GB SSD/Mac OS Big Sur) MGN63HN/A\" src=\"https://rukminim2.flixcart.com/image/300/300/kp5sya80/screen-guard/tempered-glass/o/v/n/apple-macbook-air-m1-13-3-inch-lightwings-original-imag3gh5xftgbpg3.jpeg?q=90\"/></div></div><div class=\"_8zhCRP\"><a target=\"_blank\" rel=\"noopener noreferrer\" href=\"/apple-2020-macbook-air-m1-8-gb-256-gb-ssd-mac-os-big-sur-mgn63hn-a/p/itm3c872f9e67bc6?pid=COMFXEKMGNHZYFH9&amp;marketplace=FLIPKART\"><div class=\"kv0tEm\"><div>2. Apple 2020 Macbook Air Appl...</div></div><div class=\"sRoN4i\"><div class=\"XQDdHH\">4.7<img src=\"data:image/svg+xml;base64,PHN2ZyB4bWxucz0iaHR0cDovL3d3dy53My5vcmcvMjAwMC9zdmciIHdpZHRoPSIxMyIgaGVpZ2h0PSIxMiI+PHBhdGggZmlsbD0iI0ZGRiIgZD0iTTYuNSA5LjQzOWwtMy42NzQgMi4yMy45NC00LjI2LTMuMjEtMi44ODMgNC4yNTQtLjQwNEw2LjUuMTEybDEuNjkgNC4wMSA0LjI1NC40MDQtMy4yMSAyLjg4Mi45NCA0LjI2eiIvPjwvc3ZnPg==\" class=\"Rza2QY\"/></div><span class=\"Bz-crL\"><span>16,565 Ratings</span><span><span class=\"_8O4+-w\">&amp;</span><span>1,323 Reviews</span></span></span></div><div class=\"Xrs8Tf\"><div class=\"hl05eU\"><div class=\"Nx9bqj OQ4U3k\">₹73,990</div><div class=\"UkUFwK WMQHm1\"><span>17% off</span></div></div></div></a><ul class=\"akQAfe\"><li class=\"Ov4d6Q\">Apple M1 Processor</li><li class=\"Ov4d6Q\">8 GB DDR4 RAM</li><li class=\"Ov4d6Q\">Mac OS Operating System</li></ul></div></div><div class=\"vQjHak\"><div class=\"VEuN0R\">Most Helpful Review</div><div class=\"col\"><div class=\"col EPCmJX xJgaqh\"><div class=\"row\"><div class=\"XQDdHH Ga3i8K\">4<img src=\"data:image/svg+xml;base64,PHN2ZyB4bWxucz0iaHR0cDovL3d3dy53My5vcmcvMjAwMC9zdmciIHdpZHRoPSIxMyIgaGVpZ2h0PSIxMiI+PHBhdGggZmlsbD0iI0ZGRiIgZD0iTTYuNSA5LjQzOWwtMy42NzQgMi4yMy45NC00LjI2LTMuMjEtMi44ODMgNC4yNTQtLjQwNEw2LjUuMTEybDEuNjkgNC4wMSA0LjI1NC40MDQtMy4yMSAyLjg4Mi45NCA0LjI2eiIvPjwvc3ZnPg==\" class=\"Rza2QY\"/></div><p class=\"z9E0IG\">Good choice</p></div><div class=\"row\"><div class=\"ZmyHeo\"><div><div class=\"\">Value for money product...<br/><br/>But no one said this major issue on every mac. If I touch or rub the mac body while charging, I can feel some electric sensation ...</div><span class=\"b4x-fr\"><span>Read full review</span></span></div></div></div><div class=\"row gHqwa8\"><div class=\"row\"><p class=\"_2NsDsF AwS1CA\">Shankar G</p><svg width=\"14\" height=\"14\" viewBox=\"0 0 12 12\" xmlns=\"http://www.w3.org/2000/svg\" class=\"VjlQyz\"><g><circle cx=\"6\" cy=\"6\" r=\"6\" fill=\"#878787\"></circle><path stroke=\"#FFF\" stroke-width=\"1.5\" d=\"M3 6l2 2 4-4\" fill=\"#878787\"></path></g></svg><p id=\"review-bb95a895-c248-47f4-96a3-3e9dde198804\" class=\"MztJPv\"><span>Certified Buyer</span></p><p class=\"_2NsDsF\">Mar, 2023</p></div></div></div></div></div><div class=\"vQjHak\"><div class=\"VEuN0R\">Recent Review</div><div class=\"col\"><div class=\"col EPCmJX xJgaqh\"><div class=\"row\"><div class=\"XQDdHH Ga3i8K\">5<img src=\"data:image/svg+xml;base64,PHN2ZyB4bWxucz0iaHR0cDovL3d3dy53My5vcmcvMjAwMC9zdmciIHdpZHRoPSIxMyIgaGVpZ2h0PSIxMiI+PHBhdGggZmlsbD0iI0ZGRiIgZD0iTTYuNSA5LjQzOWwtMy42NzQgMi4yMy45NC00LjI2LTMuMjEtMi44ODMgNC4yNTQtLjQwNEw2LjUuMTEybDEuNjkgNC4wMSA0LjI1NC40MDQtMy4yMSAyLjg4Mi45NCA0LjI2eiIvPjwvc3ZnPg==\" class=\"Rza2QY\"/></div><p class=\"z9E0IG\">Perfect product!</p></div><div class=\"row\"><div class=\"ZmyHeo\"><div><div class=\"\">The battery is literally Amazing.</div><span class=\"wTYmpv\"><span>Read full review</span></span></div></div></div><div class=\"row gHqwa8\"><div class=\"row\"><p class=\"_2NsDsF AwS1CA\">Pranshu</p><svg width=\"14\" height=\"14\" viewBox=\"0 0 12 12\" xmlns=\"http://www.w3.org/2000/svg\" class=\"VjlQyz\"><g><circle cx=\"6\" cy=\"6\" r=\"6\" fill=\"#878787\"></circle><path stroke=\"#FFF\" stroke-width=\"1.5\" d=\"M3 6l2 2 4-4\" fill=\"#878787\"></path></g></svg><p id=\"review-00de101c-4000-4431-8a4b-165d1ab983f1\" class=\"MztJPv\"><span>Certified Buyer</span></p><p class=\"_2NsDsF\">4 days ago</p></div></div></div></div></div></div><div class=\"ybB1XH\"><div class=\"MohBBj\"><div class=\"Ld8TWM\"><div class=\"_4WELSP\" style=\"height:150px;width:150px\"><img loading=\"lazy\" class=\"DByuf4\" alt=\"HP Chromebook MediaTek MT8183 - (4 GB/32 GB EMMC Storage/Chrome OS) 11MK G9 EE Chromebook Laptop\" src=\"https://rukminim2.flixcart.com/image/300/300/xif0q/computer/8/o/l/11mk-g9-chromebook-hp-original-imagz7seah6zvmw9.jpeg?q=90\"/></div></div><div class=\"_8zhCRP\"><a target=\"_blank\" rel=\"noopener noreferrer\" href=\"/hp-chromebook-mediatek-mt8183-4-gb-32-gb-emmc-storage-chrome-os-11mk-g9-ee-laptop/p/itmbcfcbc0ab424f?pid=COMGZFFXXHNVC5A5&amp;marketplace=FLIPKART\"><div class=\"kv0tEm\"><div>3. HP Chromebook MediaTek MT81...</div></div><div class=\"sRoN4i\"><div class=\"XQDdHH\">3.8<img src=\"data:image/svg+xml;base64,PHN2ZyB4bWxucz0iaHR0cDovL3d3dy53My5vcmcvMjAwMC9zdmciIHdpZHRoPSIxMyIgaGVpZ2h0PSIxMiI+PHBhdGggZmlsbD0iI0ZGRiIgZD0iTTYuNSA5LjQzOWwtMy42NzQgMi4yMy45NC00LjI2LTMuMjEtMi44ODMgNC4yNTQtLjQwNEw2LjUuMTEybDEuNjkgNC4wMSA0LjI1NC40MDQtMy4yMSAyLjg4Mi45NCA0LjI2eiIvPjwvc3ZnPg==\" class=\"Rza2QY\"/></div><span class=\"Bz-crL\"><span>5,555 Ratings</span><span><span class=\"_8O4+-w\">&amp;</span><span>495 Reviews</span></span></span></div><div class=\"Xrs8Tf\"><div class=\"hl05eU\"><div class=\"Nx9bqj OQ4U3k\">₹11,990</div><div class=\"UkUFwK WMQHm1\"><span>65% off</span></div></div></div></a><ul class=\"akQAfe\"><li class=\"Ov4d6Q\">MediaTek MT8183 Processor</li><li class=\"Ov4d6Q\">4 GB LPDDR4X RAM</li><li class=\"Ov4d6Q\">Chrome Operating System</li></ul></div></div><div class=\"vQjHak\"><div class=\"VEuN0R\">Most Helpful Review</div><div class=\"col\"><div class=\"col EPCmJX xJgaqh\"><div class=\"row\"><div class=\"XQDdHH Ga3i8K\">4<img src=\"data:image/svg+xml;base64,PHN2ZyB4bWxucz0iaHR0cDovL3d3dy53My5vcmcvMjAwMC9zdmciIHdpZHRoPSIxMyIgaGVpZ2h0PSIxMiI+PHBhdGggZmlsbD0iI0ZGRiIgZD0iTTYuNSA5LjQzOWwtMy42NzQgMi4yMy45NC00LjI2LTMuMjEtMi44ODMgNC4yNTQtLjQwNEw2LjUuMTEybDEuNjkgNC4wMSA0LjI1NC40MDQtMy4yMSAyLjg4Mi45NCA0LjI2eiIvPjwvc3ZnPg==\" class=\"Rza2QY\"/></div><p class=\"z9E0IG\">Good quality product</p></div><div class=\"row\"><div class=\"ZmyHeo\"><div><div class=\"\">Having used this device for about 10 days, the difference between a smartphone and a laptop gets even more blurred! This is not a power workhorse machine and...</div><span class=\"b4x-fr\"><span>Read full review</span></span></div></div></div><div class=\"row gHqwa8\"><div class=\"row\"><p class=\"_2NsDsF AwS1CA\">Gurumoorthy</p><svg width=\"14\" height=\"14\" viewBox=\"0 0 12 12\" xmlns=\"http://www.w3.org/2000/svg\" class=\"VjlQyz\"><g><circle cx=\"6\" cy=\"6\" r=\"6\" fill=\"#878787\"></circle><path stroke=\"#FFF\" stroke-width=\"1.5\" d=\"M3 6l2 2 4-4\" fill=\"#878787\"></path></g></svg><p id=\"review-3f7ff461-dcec-40bd-b298-38b1a12458d8\" class=\"MztJPv\"><span>Certified Buyer</span></p><p class=\"_2NsDsF\">May, 2021</p></div></div></div></div></div><div class=\"vQjHak\"><div class=\"VEuN0R\">Recent Review</div><div class=\"col\"><div class=\"col EPCmJX xJgaqh\"><div class=\"row\"><div class=\"XQDdHH Ga3i8K\">5<img src=\"data:image/svg+xml;base64,PHN2ZyB4bWxucz0iaHR0cDovL3d3dy53My5vcmcvMjAwMC9zdmciIHdpZHRoPSIxMyIgaGVpZ2h0PSIxMiI+PHBhdGggZmlsbD0iI0ZGRiIgZD0iTTYuNSA5LjQzOWwtMy42NzQgMi4yMy45NC00LjI2LTMuMjEtMi44ODMgNC4yNTQtLjQwNEw2LjUuMTEybDEuNjkgNC4wMSA0LjI1NC40MDQtMy4yMSAyLjg4Mi45NCA0LjI2eiIvPjwvc3ZnPg==\" class=\"Rza2QY\"/></div><p class=\"z9E0IG\">Perfect product!</p></div><div class=\"row\"><div class=\"ZmyHeo\"><div><div class=\"\">Veri good product so many people whom I suggested or they want to purchase it.<br/>Some people want to work once on it after that they want to buy from .very goo...</div><span class=\"b4x-fr\"><span>Read full review</span></span></div></div></div><div class=\"row gHqwa8\"><div class=\"row\"><p class=\"_2NsDsF AwS1CA\">Sahil Kumar</p><svg width=\"14\" height=\"14\" viewBox=\"0 0 12 12\" xmlns=\"http://www.w3.org/2000/svg\" class=\"VjlQyz\"><g><circle cx=\"6\" cy=\"6\" r=\"6\" fill=\"#878787\"></circle><path stroke=\"#FFF\" stroke-width=\"1.5\" d=\"M3 6l2 2 4-4\" fill=\"#878787\"></path></g></svg><p id=\"review-c0662090-a42e-435b-97f1-111491f7c68e\" class=\"MztJPv\"><span>Certified Buyer</span></p><p class=\"_2NsDsF\">2 days ago</p></div></div></div></div></div></div><div class=\"ybB1XH\"><div class=\"MohBBj\"><div class=\"Ld8TWM\"><div class=\"_4WELSP\" style=\"height:150px;width:150px\"><img loading=\"lazy\" class=\"DByuf4\" alt=\"HP Laptop AMD Ryzen 3 Quad Core 5300U - (8 GB/512 GB SSD/Windows 11 Home) 15s- eq2212AU Thin and Light Laptop\" src=\"https://rukminim2.flixcart.com/image/300/300/xif0q/computer/v/h/a/-original-imagwy8dtkyhrehe.jpeg?q=90\"/></div></div><div class=\"_8zhCRP\"><a target=\"_blank\" rel=\"noopener noreferrer\" href=\"/hp-laptop-amd-ryzen-3-quad-core-5300u-8-gb-512-gb-ssd-windows-11-home-15s-eq2212au-thin-light/p/itmedd9f415e3db2?pid=COMGHAGN3U9FJH39&amp;marketplace=FLIPKART\"><div class=\"kv0tEm\"><div>4. HP Laptop AMD Ryzen 3 Quad ...</div></div><div class=\"sRoN4i\"><div class=\"XQDdHH\">4.3<img src=\"data:image/svg+xml;base64,PHN2ZyB4bWxucz0iaHR0cDovL3d3dy53My5vcmcvMjAwMC9zdmciIHdpZHRoPSIxMyIgaGVpZ2h0PSIxMiI+PHBhdGggZmlsbD0iI0ZGRiIgZD0iTTYuNSA5LjQzOWwtMy42NzQgMi4yMy45NC00LjI2LTMuMjEtMi44ODMgNC4yNTQtLjQwNEw2LjUuMTEybDEuNjkgNC4wMSA0LjI1NC40MDQtMy4yMSAyLjg4Mi45NCA0LjI2eiIvPjwvc3ZnPg==\" class=\"Rza2QY\"/></div><span class=\"Bz-crL\"><span>4,167 Ratings</span><span><span class=\"_8O4+-w\">&amp;</span><span>480 Reviews</span></span></span></div><div class=\"Xrs8Tf\"><div class=\"hl05eU\"><div class=\"Nx9bqj OQ4U3k\">₹30,979</div><div class=\"UkUFwK WMQHm1\"><span>30% off</span></div></div></div></a><ul class=\"akQAfe\"><li class=\"Ov4d6Q\">AMD Ryzen 3 Quad Core Processor</li><li class=\"Ov4d6Q\">8 GB DDR4 RAM</li><li class=\"Ov4d6Q\">Windows 11 Operating System</li></ul></div></div><div class=\"vQjHak\"><div class=\"VEuN0R\">Most Helpful Review</div><div class=\"col\"><div class=\"col EPCmJX xJgaqh\"><div class=\"row\"><div class=\"XQDdHH Ga3i8K\">5<img src=\"data:image/svg+xml;base64,PHN2ZyB4bWxucz0iaHR0cDovL3d3dy53My5vcmcvMjAwMC9zdmciIHdpZHRoPSIxMyIgaGVpZ2h0PSIxMiI+PHBhdGggZmlsbD0iI0ZGRiIgZD0iTTYuNSA5LjQzOWwtMy42NzQgMi4yMy45NC00LjI2LTMuMjEtMi44ODMgNC4yNTQtLjQwNEw2LjUuMTEybDEuNjkgNC4wMSA0LjI1NC40MDQtMy4yMSAyLjg4Mi45NCA0LjI2eiIvPjwvc3ZnPg==\" class=\"Rza2QY\"/></div><p class=\"z9E0IG\">Don\\'t Thing too Much</p></div><div class=\"row\"><div class=\"ZmyHeo\"><div><div class=\"\">Its around 4 months I am using this laptop , It is working very smooth. I have build amy first website through this laptop. My devlopment experience is too g...</div><span class=\"b4x-fr\"><span>Read full review</span></span></div></div></div><div class=\"row gHqwa8\"><div class=\"row\"><p class=\"_2NsDsF AwS1CA\">SUVAM SARKAR</p><svg width=\"14\" height=\"14\" viewBox=\"0 0 12 12\" xmlns=\"http://www.w3.org/2000/svg\" class=\"VjlQyz\"><g><circle cx=\"6\" cy=\"6\" r=\"6\" fill=\"#878787\"></circle><path stroke=\"#FFF\" stroke-width=\"1.5\" d=\"M3 6l2 2 4-4\" fill=\"#878787\"></path></g></svg><p id=\"review-78a37e6c-6741-4a9e-a6da-4efbb76227b2\" class=\"MztJPv\"><span>Certified Buyer</span></p><p class=\"_2NsDsF\">Aug, 2022</p></div></div></div></div></div><div class=\"vQjHak\"><div class=\"VEuN0R\">Recent Review</div><div class=\"col\"><div class=\"col EPCmJX xJgaqh\"><div class=\"row\"><div class=\"XQDdHH Js30Fc Ga3i8K\">1<img src=\"data:image/svg+xml;base64,PHN2ZyB4bWxucz0iaHR0cDovL3d3dy53My5vcmcvMjAwMC9zdmciIHdpZHRoPSIxMyIgaGVpZ2h0PSIxMiI+PHBhdGggZmlsbD0iI0ZGRiIgZD0iTTYuNSA5LjQzOWwtMy42NzQgMi4yMy45NC00LjI2LTMuMjEtMi44ODMgNC4yNTQtLjQwNEw2LjUuMTEybDEuNjkgNC4wMSA0LjI1NC40MDQtMy4yMSAyLjg4Mi45NCA0LjI2eiIvPjwvc3ZnPg==\" class=\"Rza2QY\"/></div><p class=\"z9E0IG\">Terrible product</p></div><div class=\"row\"><div class=\"ZmyHeo\"><div><div class=\"\">I had received it yesterday but today its not turning on. Worst experience.  What should I do now .</div><span class=\"wTYmpv\"><span>Read full review</span></span></div></div></div><div class=\"row gHqwa8\"><div class=\"row\"><p class=\"_2NsDsF AwS1CA\">Bhaskar Das</p><svg width=\"14\" height=\"14\" viewBox=\"0 0 12 12\" xmlns=\"http://www.w3.org/2000/svg\" class=\"VjlQyz\"><g><circle cx=\"6\" cy=\"6\" r=\"6\" fill=\"#878787\"></circle><path stroke=\"#FFF\" stroke-width=\"1.5\" d=\"M3 6l2 2 4-4\" fill=\"#878787\"></path></g></svg><p id=\"review-eabbd7eb-0fb5-4f61-94ac-c3f03d33df0b\" class=\"MztJPv\"><span>Certified Buyer</span></p><p class=\"_2NsDsF\">2 days ago</p></div></div></div></div></div></div><div class=\"ybB1XH\"><div class=\"MohBBj\"><div class=\"Ld8TWM\"><div class=\"_4WELSP\" style=\"height:150px;width:150px\"><img loading=\"lazy\" class=\"DByuf4\" alt=\"DELL Intel Core i3 12th Gen 1215U - (8 GB/512 GB SSD/Windows 11 Home) New Inspiron 15 Laptop Thin and Light Laptop\" src=\"https://rukminim2.flixcart.com/image/300/300/xif0q/computer/n/o/s/-original-imaghzah9mjvukjz.jpeg?q=90\"/></div></div><div class=\"_8zhCRP\"><a target=\"_blank\" rel=\"noopener noreferrer\" href=\"/dell-intel-core-i3-12th-gen-1215u-8-gb-512-gb-ssd-windows-11-home-new-inspiron-15-laptop-thin-light/p/itm06ea674a3bd5b?pid=COMGJ75HCCFJS8AE&amp;marketplace=FLIPKART\"><div class=\"kv0tEm\"><div>5. DELL Intel Core i3 12th Gen...</div></div><div class=\"sRoN4i\"><div class=\"XQDdHH\">4.1<img src=\"data:image/svg+xml;base64,PHN2ZyB4bWxucz0iaHR0cDovL3d3dy53My5vcmcvMjAwMC9zdmciIHdpZHRoPSIxMyIgaGVpZ2h0PSIxMiI+PHBhdGggZmlsbD0iI0ZGRiIgZD0iTTYuNSA5LjQzOWwtMy42NzQgMi4yMy45NC00LjI2LTMuMjEtMi44ODMgNC4yNTQtLjQwNEw2LjUuMTEybDEuNjkgNC4wMSA0LjI1NC40MDQtMy4yMSAyLjg4Mi45NCA0LjI2eiIvPjwvc3ZnPg==\" class=\"Rza2QY\"/></div><span class=\"Bz-crL\"><span>1,829 Ratings</span><span><span class=\"_8O4+-w\">&amp;</span><span>199 Reviews</span></span></span></div><div class=\"Xrs8Tf\"><div class=\"hl05eU\"><div class=\"Nx9bqj OQ4U3k\">₹35,590</div><div class=\"UkUFwK WMQHm1\"><span>28% off</span></div></div></div></a><ul class=\"akQAfe\"><li class=\"Ov4d6Q\">Processor: Intel i3-1215U (Base- 0.9 GHz &amp; Turbo up to 4.40 GHz) 6 Cores</li><li class=\"Ov4d6Q\">RAM &amp; Storage: 8GB DDR4 &amp; 512GB SSD</li><li class=\"Ov4d6Q\">Graphics &amp; Keyboard: Integrated &amp; Standard Keyboard</li></ul></div></div><div class=\"vQjHak\"><div class=\"VEuN0R\">Most Helpful Review</div><div class=\"col\"><div class=\"col EPCmJX xJgaqh\"><div class=\"row\"><div class=\"XQDdHH Ga3i8K\">5<img src=\"data:image/svg+xml;base64,PHN2ZyB4bWxucz0iaHR0cDovL3d3dy53My5vcmcvMjAwMC9zdmciIHdpZHRoPSIxMyIgaGVpZ2h0PSIxMiI+PHBhdGggZmlsbD0iI0ZGRiIgZD0iTTYuNSA5LjQzOWwtMy42NzQgMi4yMy45NC00LjI2LTMuMjEtMi44ODMgNC4yNTQtLjQwNEw2LjUuMTEybDEuNjkgNC4wMSA0LjI1NC40MDQtMy4yMSAyLjg4Mi45NCA0LjI2eiIvPjwvc3ZnPg==\" class=\"Rza2QY\"/></div><p class=\"z9E0IG\">Classy product</p></div><div class=\"row\"><div class=\"ZmyHeo\"><div><div class=\"\">This product is awasam with this price range. Dell always gives you value for money product.</div><span class=\"wTYmpv\"><span>Read full review</span></span></div></div></div><div class=\"row gHqwa8\"><div class=\"row\"><p class=\"_2NsDsF AwS1CA\">Pankaj Bhakat</p><svg width=\"14\" height=\"14\" viewBox=\"0 0 12 12\" xmlns=\"http://www.w3.org/2000/svg\" class=\"VjlQyz\"><g><circle cx=\"6\" cy=\"6\" r=\"6\" fill=\"#878787\"></circle><path stroke=\"#FFF\" stroke-width=\"1.5\" d=\"M3 6l2 2 4-4\" fill=\"#878787\"></path></g></svg><p id=\"review-b319d9dc-9a1a-4adc-b68c-128eb015bf50\" class=\"MztJPv\"><span>Certified Buyer</span></p><p class=\"_2NsDsF\">Jul, 2023</p></div></div></div></div></div><div class=\"vQjHak\"><div class=\"VEuN0R\">Recent Review</div><div class=\"col\"><div class=\"col EPCmJX xJgaqh\"><div class=\"row\"><div class=\"XQDdHH Ga3i8K\">5<img src=\"data:image/svg+xml;base64,PHN2ZyB4bWxucz0iaHR0cDovL3d3dy53My5vcmcvMjAwMC9zdmciIHdpZHRoPSIxMyIgaGVpZ2h0PSIxMiI+PHBhdGggZmlsbD0iI0ZGRiIgZD0iTTYuNSA5LjQzOWwtMy42NzQgMi4yMy45NC00LjI2LTMuMjEtMi44ODMgNC4yNTQtLjQwNEw2LjUuMTEybDEuNjkgNC4wMSA0LjI1NC40MDQtMy4yMSAyLjg4Mi45NCA0LjI2eiIvPjwvc3ZnPg==\" class=\"Rza2QY\"/></div><p class=\"z9E0IG\">Awesome</p></div><div class=\"row\"><div class=\"ZmyHeo\"><div><div class=\"\">The product cost is little extra.it</div><span class=\"wTYmpv\"><span>Read full review</span></span></div></div></div><div class=\"row gHqwa8\"><div class=\"row\"><p class=\"_2NsDsF AwS1CA\">anurag chhabra</p><svg width=\"14\" height=\"14\" viewBox=\"0 0 12 12\" xmlns=\"http://www.w3.org/2000/svg\" class=\"VjlQyz\"><g><circle cx=\"6\" cy=\"6\" r=\"6\" fill=\"#878787\"></circle><path stroke=\"#FFF\" stroke-width=\"1.5\" d=\"M3 6l2 2 4-4\" fill=\"#878787\"></path></g></svg><p id=\"review-df2efd16-f9c0-4b6a-aeb3-d54edcecb03f\" class=\"MztJPv\"><span>Certified Buyer</span></p><p class=\"_2NsDsF\">4 days ago</p></div></div></div></div></div></div></div></div><div class=\"cPHDOP col-12-12\"></div></div><footer class=\"+NQyZq\"><div class=\"xLsVdV\"><div class=\"row\"><div class=\"col gu12 QVgdtd\"></div></div><div><div class=\"_8K2S+t row\"><div class=\"bowO0w\"><div class=\"AZc3lB\">ABOUT</div><a href=\"/helpcentre?otracker=undefined_footer_navlinks\" class=\"bXmsT+\">Contact Us</a><a href=\"https://corporate.flipkart.net/corporate-home\" class=\"bXmsT+\">About Us</a><a href=\"https://www.flipkartcareers.com/?otracker=undefined_footer_navlinks\" class=\"bXmsT+\">Careers</a><a href=\"http://stories.flipkart.com/?otracker=undefined_footer_navlinks\" class=\"bXmsT+\">Flipkart Stories</a><a href=\"http://stories.flipkart.com/category/top-stories/news/\" class=\"bXmsT+\">Press</a><a href=\"/corporate-information\" class=\"bXmsT+\">Corporate Information</a></div><div class=\"bowO0w\"><div class=\"AZc3lB\">GROUP COMPANIES</div><a href=\"https://www.myntra.com/\" target=\"_blank\" title=\"Myntra\" class=\"bXmsT+\" rel=\"noopener noreferrer\">Myntra</a><a href=\"https://www.cleartrip.com/\" target=\"_blank\" title=\"Cleartrip: #1 Site for Booking Flights Tickets, Buses &amp; Hotels Online\" class=\"bXmsT+\" rel=\"noopener noreferrer\">Cleartrip</a><a href=\"https://www.shopsy.in/\" target=\"_blank\" title=\"Shopsy\" class=\"bXmsT+\" rel=\"noopener noreferrer\">Shopsy</a></div><div class=\"bowO0w\"><div class=\"AZc3lB\">HELP</div><a href=\"/pages/payments\" class=\"bXmsT+\">Payments</a><a href=\"/pages/shipping\" class=\"bXmsT+\">Shipping</a><a href=\"/helpcentre?catalog=55c9c6edb000002e002c1701&amp;view=CATALOG\" class=\"bXmsT+\">Cancellation &amp; Returns</a><a href=\"/helpcentre?catalog=55c9c8e2b0000023002c1702&amp;view=CATALOG\" class=\"bXmsT+\">FAQ</a><a href=\"https://seller.flipkart.com/fiv?otracker=undefined_footer_navlinks\" class=\"bXmsT+\">Report Infringement</a></div><div class=\"bowO0w\"><div class=\"AZc3lB\">CONSUMER POLICY</div><a href=\"/pages/returnpolicy?otracker=undefined_footer_navlinks\" class=\"bXmsT+\">Cancellation &amp; Returns</a><a href=\"/pages/terms?otracker=undefined_footer_navlinks\" class=\"bXmsT+\">Terms Of Use</a><a href=\"/pages/paymentsecurity?otracker=undefined_footer_navlinks\" class=\"bXmsT+\">Security</a><a href=\"/pages/privacypolicy?otracker=undefined_footer_navlinks\" class=\"bXmsT+\">Privacy</a><a href=\"/sitemap?otracker=undefined_footer_navlinks\" class=\"bXmsT+\">Sitemap</a><a href=\"/pages/grievance-redressal-mechanism?otracker=undefined_footer_navlinks\" class=\"bXmsT+\">Grievance Redressal</a><a href=\"/pages/ewaste-compliance-tnc?otracker=undefined_footer_navlinks\" class=\"bXmsT+\">EPR Compliance</a></div><div class=\"bowO0w address\"><div class=\"_8W+7ID\"><div class=\"AZc3lB\"><span>Mail Us:</span></div><div class=\"iE4xEP\"><div class=\"aL22KS\"><div class=\"KalC6f iE4xEP\"><p>Flipkart Internet Private Limited, </p>\\n<p> Buildings Alyssa, Begonia &amp; </p>\\n<p> Clove Embassy Tech Village, </p>\\n<p> Outer Ring Road, Devarabeesanahalli Village, </p>\\n<p> Bengaluru, 560103, </p>\\n<p> Karnataka, India</p>\\n</div></div></div><div class=\"AZc3lB\">Social</div><div class=\"mK8LcN\"><span class=\"RbqUpy\"><a href=\"https://www.facebook.com/flipkart\"><img src=\"data:image/svg+xml;base64,PHN2ZyB3aWR0aD0iMjUiIGhlaWdodD0iMjQiIHZpZXdCb3g9IjAgMCAyNSAyNCIgZmlsbD0ibm9uZSIgeG1sbnM9Imh0dHA6Ly93d3cudzMub3JnLzIwMDAvc3ZnIj4KPHBhdGggZD0iTTEyLjkzMzEgMjFDMTcuOTAzNyAyMSAyMS45MzMxIDE2Ljk3MDYgMjEuOTMzMSAxMkMyMS45MzMxIDcuMDI5NDQgMTcuOTAzNyAzIDEyLjkzMzEgM0M3Ljk2MjU0IDMgMy45MzMxMSA3LjAyOTQ0IDMuOTMzMTEgMTJDMy45MzMxMSAxNi45NzA2IDcuOTYyNTQgMjEgMTIuOTMzMSAyMVoiIHN0cm9rZT0id2hpdGUiIHN0cm9rZS13aWR0aD0iMS41IiBzdHJva2UtbGluZWNhcD0icm91bmQiIHN0cm9rZS1saW5lam9pbj0icm91bmQiLz4KPHBhdGggZD0iTTE2LjY4MzEgOC4yNUgxNS4xODMxQzE0LjU4NjQgOC4yNSAxNC4wMTQxIDguNDg3MDUgMTMuNTkyMSA4LjkwOTAxQzEzLjE3MDIgOS4zMzA5NyAxMi45MzMxIDkuOTAzMjYgMTIuOTMzMSAxMC41VjIxIiBzdHJva2U9IndoaXRlIiBzdHJva2Utd2lkdGg9IjEuNSIgc3Ryb2tlLWxpbmVjYXA9InJvdW5kIiBzdHJva2UtbGluZWpvaW49InJvdW5kIi8+CjxwYXRoIGQ9Ik05LjkzMzExIDEzLjVIMTUuOTMzMSIgc3Ryb2tlPSJ3aGl0ZSIgc3Ryb2tlLXdpZHRoPSIxLjUiIHN0cm9rZS1saW5lY2FwPSJyb3VuZCIgc3Ryb2tlLWxpbmVqb2luPSJyb3VuZCIvPgo8L3N2Zz4K\" height=\"24\" width=\"24\"/></a></span><span class=\"RbqUpy\"><a href=\"https://www.twitter.com/flipkart\"><img src=\"data:image/svg+xml;base64,PHN2ZyB3aWR0aD0iMjQiIGhlaWdodD0iMjQiIHZpZXdCb3g9IjAgMCAyNCAyNCIgZmlsbD0ibm9uZSIgeG1sbnM9Imh0dHA6Ly93d3cudzMub3JnLzIwMDAvc3ZnIj4KPGcgY2xpcC1wYXRoPSJ1cmwoI2NsaXAwXzE4M18yMCkiPgo8cGF0aCBkPSJNMTMuNTQzNiAxMC42MTc5TDIwLjA5NzEgM0gxOC41NDQxTDEyLjg1MzcgOS42MTQ0OEw4LjMwODg3IDNIMy4wNjY4OUw5LjkzOTY0IDEzLjAwMjNMMy4wNjY4OSAyMC45OTA4SDQuNjE5OTRMMTAuNjI5MSAxNC4wMDU2TDE1LjQyODggMjAuOTkwOEgyMC42NzA4TDEzLjU0MzIgMTAuNjE3OUgxMy41NDM2Wk0xMS40MTY1IDEzLjA5MDRMMTAuNzIwMiAxMi4wOTQ0TDUuMTc5NTMgNC4xNjkxMUg3LjU2NDkxTDEyLjAzNjMgMTAuNTY1MUwxMi43MzI2IDExLjU2MTFMMTguNTQ0OCAxOS44NzQ4SDE2LjE1OTVMMTEuNDE2NSAxMy4wOTA4VjEzLjA5MDRaIiBmaWxsPSJ3aGl0ZSIvPgo8L2c+CjxkZWZzPgo8Y2xpcFBhdGggaWQ9ImNsaXAwXzE4M18yMCI+CjxyZWN0IHg9IjMuMDY2ODkiIHk9IjMiIHdpZHRoPSIxNy42MDM5IiBoZWlnaHQ9IjE4IiByeD0iMC4yIiBmaWxsPSJ3aGl0ZSIvPgo8L2NsaXBQYXRoPgo8L2RlZnM+Cjwvc3ZnPgo=\" height=\"24\" width=\"24\"/></a></span><span class=\"RbqUpy\"><a href=\"https://www.youtube.com/flipkart\"><img src=\"//static-assets-web.flixcart.com/fk-p-linchpin-web/fk-cp-zion/img/YoutubeLogo_958b78.svg\" height=\"24\" width=\"24\"/></a></span></div></div></div><div class=\"bowO0w address\"><div class=\"QYRYF-\"><div class=\"AZc3lB\"><span>Registered Office Address:</span></div><div class=\"iE4xEP\"><div class=\"aL22KS\"><div class=\"KalC6f iE4xEP\"><p>Flipkart Internet Private Limited, </p>\\n<p> Buildings Alyssa, Begonia &amp; </p>\\n<p> Clove Embassy Tech Village, </p>\\n<p> Outer Ring Road, Devarabeesanahalli Village, </p>\\n<p> Bengaluru, 560103, </p>\\n<p> Karnataka, India </p>\\n<p> CIN : U51109KA2012PTC066107 </p>\\n<p> Telephone: <a href=\"tel:044-45614700\">044-45614700</a> / <a href=\"tel:044-67415800\">044-67415800</a></p>\\n</div></div></div></div></div></div><div><div class=\"pXtEV2\"><div><img src=\"data:image/svg+xml;base64,PHN2ZyB4bWxucz0iaHR0cDovL3d3dy53My5vcmcvMjAwMC9zdmciIHdpZHRoPSIxNiIgaGVpZ2h0PSIxNSIgdmlld0JveD0iMCAwIDE2IDE1Ij4KICAgIDxkZWZzPgogICAgICAgIDxsaW5lYXJHcmFkaWVudCBpZD0iYSIgeDE9IjAlIiB4Mj0iODYuODc2JSIgeTE9IjAlIiB5Mj0iODAuMjAyJSI+CiAgICAgICAgICAgIDxzdG9wIG9mZnNldD0iMCUiIHN0b3AtY29sb3I9IiNGRkQ4MDAiLz4KICAgICAgICAgICAgPHN0b3Agb2Zmc2V0PSIxMDAlIiBzdG9wLWNvbG9yPSIjRkZBRjAwIi8+CiAgICAgICAgPC9saW5lYXJHcmFkaWVudD4KICAgIDwvZGVmcz4KICAgIDxnIGZpbGw9Im5vbmUiIGZpbGwtcnVsZT0iZXZlbm9kZCI+CiAgICAgICAgPHBhdGggZD0iTS0yLTJoMjB2MjBILTJ6Ii8+CiAgICAgICAgPHBhdGggZmlsbD0idXJsKCNhKSIgZmlsbC1ydWxlPSJub256ZXJvIiBkPSJNMTUuOTMgNS42MTRoLTIuOTQ4VjQuMTRjMC0uODE4LS42NTUtMS40NzMtMS40NzMtMS40NzNIOC41NmMtLjgxNyAwLTEuNDczLjY1NS0xLjQ3MyAxLjQ3M3YxLjQ3NEg0LjE0Yy0uODE4IDAtMS40NjYuNjU2LTEuNDY2IDEuNDc0bC0uMDA3IDguMTA1YzAgLjgxOC42NTUgMS40NzQgMS40NzMgMS40NzRoMTEuNzljLjgxOCAwIDEuNDc0LS42NTYgMS40NzQtMS40NzRWNy4wODhjMC0uODE4LS42NTYtMS40NzQtMS40NzQtMS40NzR6bS00LjQyMSAwSDguNTZWNC4xNGgyLjk0OHYxLjQ3NHoiIHRyYW5zZm9ybT0idHJhbnNsYXRlKC0yIC0yKSIvPgogICAgPC9nPgo8L3N2Zz4K\"/><a href=\"https://seller.flipkart.com/?utm_source=fkwebsite&amp;utm_medium=websitedirect\"><span class=\"XqVBP0\">Become a Seller</span></a></div><div><img src=\"data:image/svg+xml;base64,PHN2ZyB4bWxucz0iaHR0cDovL3d3dy53My5vcmcvMjAwMC9zdmciIHdpZHRoPSIxNSIgaGVpZ2h0PSIxNSIgdmlld0JveD0iMCAwIDE1IDE1Ij4KICAgIDxkZWZzPgogICAgICAgIDxsaW5lYXJHcmFkaWVudCBpZD0iYSIgeDE9IjAlIiB4Mj0iODYuODc2JSIgeTE9IjAlIiB5Mj0iODAuMjAyJSI+CiAgICAgICAgICAgIDxzdG9wIG9mZnNldD0iMCUiIHN0b3AtY29sb3I9IiNGRkQ4MDAiLz4KICAgICAgICAgICAgPHN0b3Agb2Zmc2V0PSIxMDAlIiBzdG9wLWNvbG9yPSIjRkZBRjAwIi8+CiAgICAgICAgPC9saW5lYXJHcmFkaWVudD4KICAgIDwvZGVmcz4KICAgIDxnIGZpbGw9Im5vbmUiIGZpbGwtcnVsZT0iZXZlbm9kZCI+CiAgICAgICAgPHBhdGggZD0iTS0zLTNoMjB2MjBILTN6Ii8+CiAgICAgICAgPHBhdGggZmlsbD0idXJsKCNhKSIgZmlsbC1ydWxlPSJub256ZXJvIiBkPSJNMTAuNDkyIDNDNi4zNTMgMyAzIDYuMzYgMyAxMC41YzAgNC4xNCAzLjM1MyA3LjUgNy40OTIgNy41QzE0LjY0IDE4IDE4IDE0LjY0IDE4IDEwLjUgMTggNi4zNiAxNC42NCAzIDEwLjQ5MiAzem0zLjE4IDEyTDEwLjUgMTMuMDg4IDcuMzI3IDE1bC44NC0zLjYwN0w1LjM3IDguOTdsMy42OS0uMzE1TDEwLjUgNS4yNWwxLjQ0IDMuMzk4IDMuNjkuMzE1LTIuNzk4IDIuNDIyLjg0IDMuNjE1eiIgdHJhbnNmb3JtPSJ0cmFuc2xhdGUoLTMgLTMpIi8+CiAgICA8L2c+Cjwvc3ZnPgo=\"/><a href=\"https://brands.flipkart.com\"><span class=\"XqVBP0\">Advertise</span></a></div><div><img src=\"data:image/svg+xml;base64,PHN2ZyB4bWxucz0iaHR0cDovL3d3dy53My5vcmcvMjAwMC9zdmciIHdpZHRoPSIxOCIgaGVpZ2h0PSIxNyIgdmlld0JveD0iMCAwIDE4IDE3Ij4KICAgIDxkZWZzPgogICAgICAgIDxsaW5lYXJHcmFkaWVudCBpZD0iYSIgeDE9IjAlIiB4Mj0iODYuODc2JSIgeTE9IjAlIiB5Mj0iODAuMjAyJSI+CiAgICAgICAgICAgIDxzdG9wIG9mZnNldD0iMCUiIHN0b3AtY29sb3I9IiNGRkQ4MDAiLz4KICAgICAgICAgICAgPHN0b3Agb2Zmc2V0PSIxMDAlIiBzdG9wLWNvbG9yPSIjRkZBRjAwIi8+CiAgICAgICAgPC9saW5lYXJHcmFkaWVudD4KICAgIDwvZGVmcz4KICAgIDxnIGZpbGw9Im5vbmUiIGZpbGwtcnVsZT0iZXZlbm9kZCI+CiAgICAgICAgPHBhdGggZD0iTS0xLTFoMjB2MjBILTF6Ii8+CiAgICAgICAgPHBhdGggZmlsbD0idXJsKCNhKSIgZmlsbC1ydWxlPSJub256ZXJvIiBkPSJNMTYuNjY3IDVIMTQuODVjLjA5Mi0uMjU4LjE1LS41NDIuMTUtLjgzM2EyLjQ5NyAyLjQ5NyAwIDAgMC00LjU4My0xLjM3NUwxMCAzLjM1bC0uNDE3LS41NjdBMi41MSAyLjUxIDAgMCAwIDcuNSAxLjY2N2EyLjQ5NyAyLjQ5NyAwIDAgMC0yLjUgMi41YzAgLjI5MS4wNTguNTc1LjE1LjgzM0gzLjMzM2MtLjkyNSAwLTEuNjU4Ljc0Mi0xLjY1OCAxLjY2N2wtLjAwOCA5LjE2NkExLjY2IDEuNjYgMCAwIDAgMy4zMzMgMTcuNWgxMy4zMzRhMS42NiAxLjY2IDAgMCAwIDEuNjY2LTEuNjY3VjYuNjY3QTEuNjYgMS42NiAwIDAgMCAxNi42NjcgNXptMCA2LjY2N0gzLjMzM3YtNWg0LjIzNEw1LjgzMyA5LjAyNWwxLjM1Ljk3NSAxLjk4NC0yLjdMMTAgNi4xNjdsLjgzMyAxLjEzMyAxLjk4NCAyLjcgMS4zNS0uOTc1LTEuNzM0LTIuMzU4aDQuMjM0djV6IiB0cmFuc2Zvcm09InRyYW5zbGF0ZSgtMSAtMSkiLz4KICAgIDwvZz4KPC9zdmc+Cg==\"/><a href=\"/the-gift-card-store?otracker=undefined_footer_footer_navlinks\"><span class=\"XqVBP0\">Gift Cards</span></a></div><div><img src=\"data:image/svg+xml;base64,PHN2ZyB4bWxucz0iaHR0cDovL3d3dy53My5vcmcvMjAwMC9zdmciIHdpZHRoPSIxNSIgaGVpZ2h0PSIxNSIgdmlld0JveD0iMCAwIDE1IDE1Ij4KICAgIDxkZWZzPgogICAgICAgIDxsaW5lYXJHcmFkaWVudCBpZD0iYSIgeDE9IjAlIiB4Mj0iODYuODc2JSIgeTE9IjAlIiB5Mj0iODAuMjAyJSI+CiAgICAgICAgICAgIDxzdG9wIG9mZnNldD0iMCUiIHN0b3AtY29sb3I9IiNGRkQ4MDAiLz4KICAgICAgICAgICAgPHN0b3Agb2Zmc2V0PSIxMDAlIiBzdG9wLWNvbG9yPSIjRkZBRjAwIi8+CiAgICAgICAgPC9saW5lYXJHcmFkaWVudD4KICAgIDwvZGVmcz4KICAgIDxnIGZpbGw9Im5vbmUiIGZpbGwtcnVsZT0iZXZlbm9kZCI+CiAgICAgICAgPHBhdGggZD0iTS0yLTNoMjB2MjBILTJ6Ii8+CiAgICAgICAgPHBhdGggZmlsbD0idXJsKCNhKSIgZmlsbC1ydWxlPSJub256ZXJvIiBkPSJNOS41IDNDNS4zNiAzIDIgNi4zNiAyIDEwLjUgMiAxNC42NCA1LjM2IDE4IDkuNSAxOGM0LjE0IDAgNy41LTMuMzYgNy41LTcuNUMxNyA2LjM2IDEzLjY0IDMgOS41IDN6bS43NSAxMi43NWgtMS41di0xLjVoMS41djEuNXptMS41NTMtNS44MTNsLS42NzYuNjljLS41NC41NDgtLjg3Ny45OTgtLjg3NyAyLjEyM2gtMS41di0uMzc1YzAtLjgyNS4zMzgtMS41NzUuODc3LTIuMTIzbC45My0uOTQ1Yy4yNzgtLjI3LjQ0My0uNjQ1LjQ0My0xLjA1NyAwLS44MjUtLjY3NS0xLjUtMS41LTEuNVM4IDcuNDI1IDggOC4yNUg2LjVhMyAzIDAgMSAxIDYgMGMwIC42Ni0uMjcgMS4yNi0uNjk3IDEuNjg4eiIgdHJhbnNmb3JtPSJ0cmFuc2xhdGUoLTIgLTMpIi8+CiAgICA8L2c+Cjwvc3ZnPgo=\"/><a href=\"/helpcentre?otracker=undefined_footer_footer_navlinks\"><span class=\"XqVBP0\">Help Center</span></a></div><span class=\"T8+RtG\">© 2007-<!-- -->2024<!-- --> <span>Flipkart.com</span></span><img src=\"//static-assets-web.flixcart.com/fk-p-linchpin-web/fk-cp-zion/img/payment-method_69e7ec.svg\"/></div></div></div></div></footer><div class=\"XiSiPK AqhsUa\"><div class=\"sRIueJ\"><svg width=\"16\" height=\"27\" viewBox=\"0 0 16 27\" xmlns=\"http://www.w3.org/2000/svg\" class=\"jY-KQI\"><path d=\"M16 23.207L6.11 13.161 16 3.093 12.955 0 0 13.161l12.955 13.161z\" fill=\"#fff\" class=\"laqJUS\"></path></svg><span>Back to top</span></div></div></div></div> <script type=\"application/ld+json\" nonce=\"17317376633127312378\" id=\"jsonLD\">{\"@context\":\"http://schema.org\",\"@type\":\"ItemList\",\"itemListElement\":[{\"@type\":\"ListItem\",\"position\":1,\"url\":\"https://www.flipkart.com/apple-2020-macbook-air-m1-8-gb-256-gb-ssd-mac-os-big-sur-mgn63hn-a/p/itm3c872f9e67bc6?pid=COMFXEKMGNHZYFH9&lid=LSTCOMFXEKMGNHZYFH9P56X45&marketplace=FLIPKART&q=laptop&store=6bo%2Fb5g&spotlightTagId=BestsellerId_6bo%2Fb5g\",\"name\":\"Apple 2020 Macbook Air Apple M1 - (8 GB/256 GB SSD/Mac OS Big Sur) MGN63HN/A\"},{\"@type\":\"ListItem\",\"position\":2,\"url\":\"https://www.flipkart.com/lenovo-amd-ryzen-3-quad-core-7330u-8-gb-512-gb-ssd-windows-11-home-thinkbook-15-g5-thin-light-laptop/p/itm65936d217ef8a?pid=COMGT82X9NYWSXQ7&lid=LSTCOMGT82X9NYWSXQ7FXFDP2&marketplace=FLIPKART&q=laptop&store=6bo%2Fb5g\",\"name\":\"Lenovo AMD Ryzen 3 Quad Core 7330U - (8 GB/512 GB SSD/Windows 11 Home) ThinkBook 15 G5 Thin and Light Laptop\"},{\"@type\":\"ListItem\",\"position\":3,\"url\":\"https://www.flipkart.com/dell-inspiron-3520-intel-core-i3-12th-gen-1215u-8-gb-512-gb-ssd-windows-11-home-new-15-laptop-thin-light/p/itm2d6ee1804748f?pid=COMGJ75HJGFDJ6JN&lid=LSTCOMGJ75HJGFDJ6JNLUHPRY&marketplace=FLIPKART&q=laptop&store=6bo%2Fb5g&spotlightTagId=BestsellerId_6bo%2Fb5g\",\"name\":\"DELL Inspiron 3520 Intel Core i3 12th Gen 1215U - (8 GB/512 GB SSD/Windows 11 Home) New Inspiron 15 Laptop Thin and Light Laptop\"},{\"@type\":\"ListItem\",\"position\":4,\"url\":\"https://www.flipkart.com/hp-laptop-amd-ryzen-3-quad-core-5300u-8-gb-512-gb-ssd-windows-11-home-15s-eq2212au-thin-light/p/itmedd9f415e3db2?pid=COMGHAGN3U9FJH39&lid=LSTCOMGHAGN3U9FJH39LOH9CD&marketplace=FLIPKART&q=laptop&store=6bo%2Fb5g\",\"name\":\"HP Laptop AMD Ryzen 3 Quad Core 5300U - (8 GB/512 GB SSD/Windows 11 Home) 15s- eq2212AU Thin and Light Laptop\"},{\"@type\":\"ListItem\",\"position\":5,\"url\":\"https://www.flipkart.com/hp-amd-ryzen-5-hexa-core-5500u-16-gb-512-gb-ssd-windows-11-home-15s-eq2182au-thin-light-laptop/p/itm2f070129053ed?pid=COMGFRHGDB9G3Z9C&lid=LSTCOMGFRHGDB9G3Z9CBGKRA6&marketplace=FLIPKART&q=laptop&store=6bo%2Fb5g\",\"name\":\"HP AMD Ryzen 5 Hexa Core 5500U - (16 GB/512 GB SSD/Windows 11 Home) 15s- eq2182AU Thin and Light Laptop\"},{\"@type\":\"ListItem\",\"position\":6,\"url\":\"https://www.flipkart.com/lenovo-amd-ryzen-7-octa-core-7730u-16-gb-512-gb-ssd-windows-11-home-v15-g4-thin-light-laptop/p/itm0ed77e73122ed?pid=COMHFEJKB4ENJGYN&lid=LSTCOMHFEJKB4ENJGYNAK0YOS&marketplace=FLIPKART&q=laptop&store=6bo%2Fb5g\",\"name\":\"Lenovo AMD Ryzen 7 Octa Core 7730U - (16 GB/512 GB SSD/Windows 11 Home) V15 G4 Thin and Light Laptop\"},{\"@type\":\"ListItem\",\"position\":7,\"url\":\"https://www.flipkart.com/hp-chromebook-mediatek-mt8183-4-gb-32-gb-emmc-storage-chrome-os-11mk-g9-ee-laptop/p/itmbcfcbc0ab424f?pid=COMGZFFXXHNVC5A5&lid=LSTCOMGZFFXXHNVC5A5R113PX&marketplace=FLIPKART&q=laptop&store=6bo%2Fb5g&spotlightTagId=BestsellerId_6bo%2Fb5g\",\"name\":\"HP Chromebook MediaTek MT8183 - (4 GB/32 GB EMMC Storage/Chrome OS) 11MK G9 EE Chromebook Laptop\"},{\"@type\":\"ListItem\",\"position\":8,\"url\":\"https://www.flipkart.com/chuwi-intel-core-i5-10th-gen-1035g1-16-gb-512-gb-ssd-windows-11-home-corebook-x-grey-laptop/p/itm575d2115bdd15?pid=COMGVGAWPAQFKPJZ&lid=LSTCOMGVGAWPAQFKPJZCYW6TC&marketplace=FLIPKART&q=laptop&store=6bo%2Fb5g\",\"name\":\"CHUWI Intel Core i5 10th Gen 1035G1 - (16 GB/512 GB SSD/Windows 11 Home) CoreBook X Grey Laptop\"},{\"@type\":\"ListItem\",\"position\":9,\"url\":\"https://www.flipkart.com/msi-modern-14-amd-ryzen-5-hexa-core-7530u-16-gb-512-gb-ssd-windows-11-home-c7m-062in-thin-light-laptop/p/itm491f6c86ff75c?pid=COMGMV6VNCJ7TTYV&lid=LSTCOMGMV6VNCJ7TTYVJYI44H&marketplace=FLIPKART&q=laptop&store=6bo%2Fb5g\",\"name\":\"MSI Modern 14 AMD Ryzen 5 Hexa Core 7530U - (16 GB/512 GB SSD/Windows 11 Home) Modern 14 C7M-062IN Thin and Light Laptop\"},{\"@type\":\"ListItem\",\"position\":10,\"url\":\"https://www.flipkart.com/lenovo-ideapad-slim-1-amd-ryzen-5-hexa-core-5500u-16-gb-512-gb-ssd-windows-11-home-15alc7-thin-light-laptop/p/itm4a6035f502270?pid=COMGN2YDSFGGXYG3&lid=LSTCOMGN2YDSFGGXYG3MJBCRU&marketplace=FLIPKART&q=laptop&store=6bo%2Fb5g\",\"name\":\"Lenovo IdeaPad Slim 1 AMD Ryzen 5 Hexa Core 5500U - (16 GB/512 GB SSD/Windows 11 Home) 15ALC7 Thin and Light Laptop\"}]}</script> <script type=\"application/ld+json\" nonce=\"17317376633127312378\" id=\"jsonLD\">{}</script><script type=\"application/ld+json\" nonce=\"17317376633127312378\">{\\n    \"@context\": \"http://schema.org\",\\n    \"@type\": \"WebSite\",\\n    \"url\": \"http://www.flipkart.com/\",\\n    \"potentialAction\": [{\\n        \"@type\": \"SearchAction\",\\n        \"target\": \"http://www.flipkart.com/search?q={search_term_string}\",\\n        \"query-input\": \"required name=search_term_string\"\\n        },{\\n        \"@type\": \"SearchAction\",\\n        \"target\": \"android-app://com.flipkart.android/flipkart/de_sq_seg_-search.flipkart.com-_{search_term_string}\",\\n        \"query-input\": \"required name=search_term_string\"\\n    }]\\n}</script><script nonce=\"17317376633127312378\" id=\"is_script\">window.__INITIAL_STATE__ = {};</script> <link data-chunk=\"NavMenu\" rel=\"stylesheet\" href=\"//static-assets-web.flixcart.com/fk-p-linchpin-web/fk-cp-zion/css/NavMenu.chunk.3b0c6b.css\">\\n<link data-chunk=\"SearchFeedback\" rel=\"stylesheet\" href=\"//static-assets-web.flixcart.com/fk-p-linchpin-web/fk-cp-zion/css/SearchFeedback.chunk.50a83f.css\"> <script id=\"__LOADABLE_REQUIRED_CHUNKS__\" type=\"application/json\">[131,207]</script><script id=\"__LOADABLE_REQUIRED_CHUNKS___ext\" type=\"application/json\">{\"namedChunks\":[\"NavMenu\",\"SearchFeedback\"]}</script>\\n<script async data-chunk=\"NavMenu\" src=\"//static-assets-web.flixcart.com/fk-p-linchpin-web/fk-cp-zion/js/NavMenu.chunk.7dccf88b.js\"></script>\\n<script async data-chunk=\"SearchFeedback\" src=\"//static-assets-web.flixcart.com/fk-p-linchpin-web/fk-cp-zion/js/SearchFeedback.chunk.df9a5ee9.js\"></script><script nonce=\"17317376633127312378\">window.omniture={tpv:[],tl:[]};window.omniture.trackPageView=function(){window.omniture.tpv.push(arguments)};window.omniture.trackLink=function(){window.omniture.tl.push(arguments)}\\n\\n    if(window.location.host === \\'www.flipkart.com\\' || /\\\\.store\\\\.flipkart\\\\.com/i.test(window.location.host)){\\n        window.s_account = \"flipkart-prd\"; //omniture account id\\n    }else{\\n        window.s_account = \"flipkart-prd-test\";\\n    }\\n    window.s_isDesktop = true;</script><script nonce=\"17317376633127312378\">function isMobile(){\\n\\t\\tif (!!(navigator.userAgentData && navigator.userAgentData.mobile) || navigator.userAgent.indexOf(\"Mobile\") !== -1){\\n\\t\\t\\treturn true;\\n\\t\\t}\\n\\t\\telse {\\n\\t\\t\\treturn false;\\n\\t\\t}\\n\\t}\\n\\n\\tif (\\'serviceWorker\\' in navigator && !isMobile()) {\\n\\t\\tnavigator.serviceWorker.register(\\'/sw.js\\').then(function(registration) {\\n\\t\\t\\tconsole.log(\\'ServiceWorker registration successful with scope: \\', registration.scope);\\n\\t\\t\\tnavigator.onLine && navigator.serviceWorker.controller && navigator.serviceWorker.controller.postMessage(\\'BANDWIDTH_COMPUTE\\');\\n\\t\\t\\tnavigator.serviceWorker.addEventListener(\\'message\\', function (event) {\\n\\t\\t\\t\\ttry {\\n\\t\\t\\t\\t\\tconst bandwidthData = JSON.parse(event.data);\\n\\t\\t\\t\\t\\tif (bandwidthData && bandwidthData.data) {\\n\\t\\t\\t\\t\\t\\twindow.bandwidth = bandwidthData.data.downlink + \\'_\\' + bandwidthData.data.computeMethod + \\'_\\' + bandwidthData.data.effectiveType + \\'_\\' + bandwidthData.data.type;\\n\\t\\t\\t\\t\\t}\\n\\t\\t\\t\\t}catch(err) {\\n\\t\\t\\t\\t\\tconsole.error(\\'JSON.parse failed:\\', err);\\n\\t\\t\\t\\t}\\n\\t\\t\\t});\\n\\t\\t})\\n\\t\\t.catch(function(err) {\\n\\t\\t\\tconsole.log(\\'%c ServiceWorker registration failed: \\', \"color:red;\", err);\\n\\t\\t});\\n\\t} else if(\\'serviceWorker\\' in navigator && isMobile()){\\n        navigator.serviceWorker.getRegistration().then(function(registration) {\\n            var serviceWorkerUnregistered=false;\\n            if(registration) {\\n                registration.unregister();\\n                serviceWorkerUnregistered=true;\\n            }\\n            serviceWorkerUnregistered && window.location.reload();\\n        });\\n    }</script> <script src=\"///www/linchpin/batman-returns/omni/omni16.js\" defer=\"defer\" async nonce=\"17317376633127312378\" id=\"omni_script\"></script>  </body></html>'"
      ]
     },
     "execution_count": 23,
     "metadata": {},
     "output_type": "execute_result"
    }
   ],
   "source": [
    "htmlCode"
   ]
  },
  {
   "cell_type": "code",
   "execution_count": 24,
   "id": "a07fc47d",
   "metadata": {},
   "outputs": [
    {
     "name": "stdout",
     "output_type": "stream",
     "text": [
      "₹73,990\n"
     ]
    }
   ],
   "source": [
    "# Price\n",
    "\n",
    "price = soup.find('div', attrs={'class' : 'Nx9bqj _4b5DiR'})\n",
    "\n",
    "print(price.text)"
   ]
  },
  {
   "cell_type": "code",
   "execution_count": 26,
   "id": "c6d4082d",
   "metadata": {},
   "outputs": [
    {
     "name": "stdout",
     "output_type": "stream",
     "text": [
      "₹73,990\n",
      "₹31,990\n",
      "₹35,990\n",
      "₹30,979\n",
      "₹40,990\n",
      "₹40,990\n",
      "₹11,990\n",
      "₹24,990\n",
      "₹36,990\n",
      "₹38,990\n",
      "₹35,590\n",
      "₹44,991\n",
      "₹65,990\n",
      "₹35,991\n",
      "₹46,990\n",
      "₹72,490\n",
      "₹27,989\n",
      "₹49,491\n",
      "₹40,990\n",
      "₹20,990\n",
      "₹31,950\n",
      "₹46,691\n",
      "₹50,990\n",
      "₹36,990\n"
     ]
    }
   ],
   "source": [
    "prices = soup.find_all('div', attrs = {'class' : 'Nx9bqj _4b5DiR'})\n",
    "\n",
    "for i in prices:\n",
    "    print(i.text)"
   ]
  },
  {
   "cell_type": "code",
   "execution_count": 99,
   "id": "fccb40a8",
   "metadata": {},
   "outputs": [],
   "source": [
    "# Scrapping the Web Page\n",
    "\n",
    "title = []\n",
    "rating = []\n",
    "price = []\n",
    "features = []\n",
    "\n",
    "for i in range(1, 27):\n",
    "    URL = 'https://www.flipkart.com/search?q=laptop&sid=6bo%2Cb5g&as=on&as-show=on&otracker=AS_QueryStore_OrganicAutoSuggest_1_3_na_na_na&otracker1=AS_QueryStore_OrganicAutoSuggest_1_3_na_na_na&as-pos=1&as-type=RECENT&suggestionId=laptop%7CLaptops&requestId=f61bf5d7-f7a7-4adb-88bc-0ad126f6e0af&as-searchtext=laptop&page={}'. format(i)\n",
    "    \n",
    "    page = requests.get(URL)\n",
    "    htmlCode = page.text\n",
    "    \n",
    "    soup = BeautifulSoup(htmlCode)\n",
    "    \n",
    "    for x in soup.find_all('div', attrs={'class' : 'DOjaWF YJG4Cf'}):\n",
    "\n",
    "        product = x.find('div', attrs={'class' : 'KzDlHZ'})\n",
    "        if product is None:\n",
    "            title.append(np.NaN)\n",
    "        else:\n",
    "            title.append(product.text)\n",
    "\n",
    "        mrp = x.find('div', attrs={'class' : 'Nx9bqj _4b5DiR'})\n",
    "        if mrp is None:\n",
    "            price.append(np.NaN)\n",
    "        else:\n",
    "            price.append(mrp.text)\n",
    "\n",
    "        rate = x.find('div', attrs={'class' : 'XQDdHH'})\n",
    "        if rate is None:\n",
    "            rating.append(np.NaN)\n",
    "        else:\n",
    "            rating.append(rate.text)\n",
    "\n",
    "        f = x.find('ul', attrs={'class' : 'G4BRas'})\n",
    "        if f is None:\n",
    "            features.append(np.NaN)\n",
    "        else:\n",
    "            features.append(f.text)"
   ]
  },
  {
   "cell_type": "code",
   "execution_count": 100,
   "id": "c74ce945",
   "metadata": {},
   "outputs": [
    {
     "name": "stdout",
     "output_type": "stream",
     "text": [
      "24\n",
      "24\n",
      "24\n",
      "24\n",
      "['₹73,990', '₹35,990', '₹81,690', '₹42,990', '₹39,990', '₹42,990', '₹35,990', '₹39,990', '₹45,490', '₹59,490', '₹57,250', '₹1,07,490', '₹87,490', '₹49,990', '₹68,999', '₹48,990', '₹49,990', '₹1,02,990', '₹29,990', '₹31,990', '₹48,990', '₹60,390', '₹36,680', '₹31,990']\n"
     ]
    }
   ],
   "source": [
    "print(len(title))\n",
    "print(len(price))\n",
    "print(len(rating))\n",
    "print(len(features))\n",
    "print(price)"
   ]
  },
  {
   "cell_type": "markdown",
   "id": "0aff1898",
   "metadata": {},
   "source": [
    "## Create a DataFrame and save it in CSV file"
   ]
  },
  {
   "cell_type": "code",
   "execution_count": 54,
   "id": "3ba9fb3e",
   "metadata": {},
   "outputs": [],
   "source": [
    "df = pd.DataFrame({'Product' : title, 'Rating' : rating, 'MRP' : price, 'Feature' : features})"
   ]
  },
  {
   "cell_type": "code",
   "execution_count": 55,
   "id": "af7c8eb5",
   "metadata": {},
   "outputs": [
    {
     "data": {
      "text/html": [
       "<div>\n",
       "<style scoped>\n",
       "    .dataframe tbody tr th:only-of-type {\n",
       "        vertical-align: middle;\n",
       "    }\n",
       "\n",
       "    .dataframe tbody tr th {\n",
       "        vertical-align: top;\n",
       "    }\n",
       "\n",
       "    .dataframe thead th {\n",
       "        text-align: right;\n",
       "    }\n",
       "</style>\n",
       "<table border=\"1\" class=\"dataframe\">\n",
       "  <thead>\n",
       "    <tr style=\"text-align: right;\">\n",
       "      <th></th>\n",
       "      <th>Product</th>\n",
       "      <th>Rating</th>\n",
       "      <th>MRP</th>\n",
       "      <th>Feature</th>\n",
       "    </tr>\n",
       "  </thead>\n",
       "  <tbody>\n",
       "    <tr>\n",
       "      <th>0</th>\n",
       "      <td>Lenovo AMD Ryzen 3 Quad Core 7330U - (8 GB/512...</td>\n",
       "      <td>4.3</td>\n",
       "      <td>₹31,990</td>\n",
       "      <td>AMD Ryzen 3 Quad Core Processor8 GB DDR4 RAMWi...</td>\n",
       "    </tr>\n",
       "    <tr>\n",
       "      <th>1</th>\n",
       "      <td>HP 15s AMD Ryzen 3 Quad Core 7320U - (8 GB/512...</td>\n",
       "      <td>4.3</td>\n",
       "      <td>₹34,490</td>\n",
       "      <td>AMD Ryzen 3 Quad Core Processor8 GB LPDDR5 RAM...</td>\n",
       "    </tr>\n",
       "    <tr>\n",
       "      <th>2</th>\n",
       "      <td>ZEBRONICS Pro Series Z Intel Core i5 12th Gen ...</td>\n",
       "      <td>3.8</td>\n",
       "      <td>₹33,990</td>\n",
       "      <td>Intel Core i5 Processor (12th Gen)8 GB DDR4 RA...</td>\n",
       "    </tr>\n",
       "    <tr>\n",
       "      <th>3</th>\n",
       "      <td>CHUWI Intel Celeron Dual Core 11th Gen N4020 -...</td>\n",
       "      <td>3.7</td>\n",
       "      <td>₹18,990</td>\n",
       "      <td>Intel Celeron Dual Core Processor (11th Gen)8 ...</td>\n",
       "    </tr>\n",
       "    <tr>\n",
       "      <th>4</th>\n",
       "      <td>HP Chromebook Intel Celeron Dual Core N4020 - ...</td>\n",
       "      <td>3.8</td>\n",
       "      <td>₹17,990</td>\n",
       "      <td>Intel Celeron Dual Core Processor4 GB LPDDR4 R...</td>\n",
       "    </tr>\n",
       "  </tbody>\n",
       "</table>\n",
       "</div>"
      ],
      "text/plain": [
       "                                             Product Rating      MRP  \\\n",
       "0  Lenovo AMD Ryzen 3 Quad Core 7330U - (8 GB/512...    4.3  ₹31,990   \n",
       "1  HP 15s AMD Ryzen 3 Quad Core 7320U - (8 GB/512...    4.3  ₹34,490   \n",
       "2  ZEBRONICS Pro Series Z Intel Core i5 12th Gen ...    3.8  ₹33,990   \n",
       "3  CHUWI Intel Celeron Dual Core 11th Gen N4020 -...    3.7  ₹18,990   \n",
       "4  HP Chromebook Intel Celeron Dual Core N4020 - ...    3.8  ₹17,990   \n",
       "\n",
       "                                             Feature  \n",
       "0  AMD Ryzen 3 Quad Core Processor8 GB DDR4 RAMWi...  \n",
       "1  AMD Ryzen 3 Quad Core Processor8 GB LPDDR5 RAM...  \n",
       "2  Intel Core i5 Processor (12th Gen)8 GB DDR4 RA...  \n",
       "3  Intel Celeron Dual Core Processor (11th Gen)8 ...  \n",
       "4  Intel Celeron Dual Core Processor4 GB LPDDR4 R...  "
      ]
     },
     "execution_count": 55,
     "metadata": {},
     "output_type": "execute_result"
    }
   ],
   "source": [
    "df.head()"
   ]
  },
  {
   "cell_type": "code",
   "execution_count": 57,
   "id": "625398ec",
   "metadata": {},
   "outputs": [
    {
     "data": {
      "text/plain": [
       "(25, 4)"
      ]
     },
     "execution_count": 57,
     "metadata": {},
     "output_type": "execute_result"
    }
   ],
   "source": [
    "df.shape"
   ]
  },
  {
   "cell_type": "code",
   "execution_count": 58,
   "id": "6db708da",
   "metadata": {},
   "outputs": [
    {
     "name": "stdout",
     "output_type": "stream",
     "text": [
      "<class 'pandas.core.frame.DataFrame'>\n",
      "RangeIndex: 25 entries, 0 to 24\n",
      "Data columns (total 4 columns):\n",
      " #   Column   Non-Null Count  Dtype \n",
      "---  ------   --------------  ----- \n",
      " 0   Product  25 non-null     object\n",
      " 1   Rating   25 non-null     object\n",
      " 2   MRP      25 non-null     object\n",
      " 3   Feature  25 non-null     object\n",
      "dtypes: object(4)\n",
      "memory usage: 932.0+ bytes\n"
     ]
    }
   ],
   "source": [
    "df.info()"
   ]
  },
  {
   "cell_type": "code",
   "execution_count": 59,
   "id": "033ae273",
   "metadata": {},
   "outputs": [],
   "source": [
    "df.to_csv('Laptop_Details.csv', index = False)"
   ]
  },
  {
   "cell_type": "markdown",
   "id": "860c2f4c",
   "metadata": {},
   "source": [
    "## Extracting the Details using Regex"
   ]
  },
  {
   "cell_type": "code",
   "execution_count": 60,
   "id": "d699ab94",
   "metadata": {},
   "outputs": [],
   "source": [
    "import re"
   ]
  },
  {
   "cell_type": "code",
   "execution_count": 61,
   "id": "32f89ff2",
   "metadata": {},
   "outputs": [],
   "source": [
    "# print(df['Feature'][0])\n",
    "# print(df['Feature'][2])\n",
    "# print(df['Feature'][6])"
   ]
  },
  {
   "cell_type": "code",
   "execution_count": 62,
   "id": "e87f811d",
   "metadata": {},
   "outputs": [
    {
     "data": {
      "text/html": [
       "<div>\n",
       "<style scoped>\n",
       "    .dataframe tbody tr th:only-of-type {\n",
       "        vertical-align: middle;\n",
       "    }\n",
       "\n",
       "    .dataframe tbody tr th {\n",
       "        vertical-align: top;\n",
       "    }\n",
       "\n",
       "    .dataframe thead th {\n",
       "        text-align: right;\n",
       "    }\n",
       "</style>\n",
       "<table border=\"1\" class=\"dataframe\">\n",
       "  <thead>\n",
       "    <tr style=\"text-align: right;\">\n",
       "      <th></th>\n",
       "      <th>Product</th>\n",
       "      <th>Rating</th>\n",
       "      <th>MRP</th>\n",
       "      <th>Feature</th>\n",
       "    </tr>\n",
       "  </thead>\n",
       "  <tbody>\n",
       "    <tr>\n",
       "      <th>0</th>\n",
       "      <td>Lenovo AMD Ryzen 3 Quad Core 7330U - (8 GB/512...</td>\n",
       "      <td>4.3</td>\n",
       "      <td>₹31,990</td>\n",
       "      <td>AMD Ryzen 3 Quad Core Processor8 GB DDR4 RAMWi...</td>\n",
       "    </tr>\n",
       "    <tr>\n",
       "      <th>1</th>\n",
       "      <td>HP 15s AMD Ryzen 3 Quad Core 7320U - (8 GB/512...</td>\n",
       "      <td>4.3</td>\n",
       "      <td>₹34,490</td>\n",
       "      <td>AMD Ryzen 3 Quad Core Processor8 GB LPDDR5 RAM...</td>\n",
       "    </tr>\n",
       "    <tr>\n",
       "      <th>2</th>\n",
       "      <td>ZEBRONICS Pro Series Z Intel Core i5 12th Gen ...</td>\n",
       "      <td>3.8</td>\n",
       "      <td>₹33,990</td>\n",
       "      <td>Intel Core i5 Processor (12th Gen)8 GB DDR4 RA...</td>\n",
       "    </tr>\n",
       "    <tr>\n",
       "      <th>3</th>\n",
       "      <td>CHUWI Intel Celeron Dual Core 11th Gen N4020 -...</td>\n",
       "      <td>3.7</td>\n",
       "      <td>₹18,990</td>\n",
       "      <td>Intel Celeron Dual Core Processor (11th Gen)8 ...</td>\n",
       "    </tr>\n",
       "    <tr>\n",
       "      <th>4</th>\n",
       "      <td>HP Chromebook Intel Celeron Dual Core N4020 - ...</td>\n",
       "      <td>3.8</td>\n",
       "      <td>₹17,990</td>\n",
       "      <td>Intel Celeron Dual Core Processor4 GB LPDDR4 R...</td>\n",
       "    </tr>\n",
       "  </tbody>\n",
       "</table>\n",
       "</div>"
      ],
      "text/plain": [
       "                                             Product Rating      MRP  \\\n",
       "0  Lenovo AMD Ryzen 3 Quad Core 7330U - (8 GB/512...    4.3  ₹31,990   \n",
       "1  HP 15s AMD Ryzen 3 Quad Core 7320U - (8 GB/512...    4.3  ₹34,490   \n",
       "2  ZEBRONICS Pro Series Z Intel Core i5 12th Gen ...    3.8  ₹33,990   \n",
       "3  CHUWI Intel Celeron Dual Core 11th Gen N4020 -...    3.7  ₹18,990   \n",
       "4  HP Chromebook Intel Celeron Dual Core N4020 - ...    3.8  ₹17,990   \n",
       "\n",
       "                                             Feature  \n",
       "0  AMD Ryzen 3 Quad Core Processor8 GB DDR4 RAMWi...  \n",
       "1  AMD Ryzen 3 Quad Core Processor8 GB LPDDR5 RAM...  \n",
       "2  Intel Core i5 Processor (12th Gen)8 GB DDR4 RA...  \n",
       "3  Intel Celeron Dual Core Processor (11th Gen)8 ...  \n",
       "4  Intel Celeron Dual Core Processor4 GB LPDDR4 R...  "
      ]
     },
     "execution_count": 62,
     "metadata": {},
     "output_type": "execute_result"
    }
   ],
   "source": [
    "df.head()"
   ]
  },
  {
   "cell_type": "code",
   "execution_count": 63,
   "id": "083bbcde",
   "metadata": {},
   "outputs": [],
   "source": [
    "# Processor Information\n",
    "\n",
    "regex = r'^[AMD|Intel][\\s\\w]+Processor'\n",
    "\n",
    "df['Processor'] = df['Feature'].apply(lambda x : re.compile(regex).findall(x))"
   ]
  },
  {
   "cell_type": "code",
   "execution_count": 64,
   "id": "f6005b0c",
   "metadata": {},
   "outputs": [
    {
     "data": {
      "text/html": [
       "<div>\n",
       "<style scoped>\n",
       "    .dataframe tbody tr th:only-of-type {\n",
       "        vertical-align: middle;\n",
       "    }\n",
       "\n",
       "    .dataframe tbody tr th {\n",
       "        vertical-align: top;\n",
       "    }\n",
       "\n",
       "    .dataframe thead th {\n",
       "        text-align: right;\n",
       "    }\n",
       "</style>\n",
       "<table border=\"1\" class=\"dataframe\">\n",
       "  <thead>\n",
       "    <tr style=\"text-align: right;\">\n",
       "      <th></th>\n",
       "      <th>Product</th>\n",
       "      <th>Rating</th>\n",
       "      <th>MRP</th>\n",
       "      <th>Feature</th>\n",
       "      <th>Processor</th>\n",
       "    </tr>\n",
       "  </thead>\n",
       "  <tbody>\n",
       "    <tr>\n",
       "      <th>0</th>\n",
       "      <td>Lenovo AMD Ryzen 3 Quad Core 7330U - (8 GB/512...</td>\n",
       "      <td>4.3</td>\n",
       "      <td>₹31,990</td>\n",
       "      <td>AMD Ryzen 3 Quad Core Processor8 GB DDR4 RAMWi...</td>\n",
       "      <td>[AMD Ryzen 3 Quad Core Processor]</td>\n",
       "    </tr>\n",
       "    <tr>\n",
       "      <th>1</th>\n",
       "      <td>HP 15s AMD Ryzen 3 Quad Core 7320U - (8 GB/512...</td>\n",
       "      <td>4.3</td>\n",
       "      <td>₹34,490</td>\n",
       "      <td>AMD Ryzen 3 Quad Core Processor8 GB LPDDR5 RAM...</td>\n",
       "      <td>[AMD Ryzen 3 Quad Core Processor]</td>\n",
       "    </tr>\n",
       "    <tr>\n",
       "      <th>2</th>\n",
       "      <td>ZEBRONICS Pro Series Z Intel Core i5 12th Gen ...</td>\n",
       "      <td>3.8</td>\n",
       "      <td>₹33,990</td>\n",
       "      <td>Intel Core i5 Processor (12th Gen)8 GB DDR4 RA...</td>\n",
       "      <td>[Intel Core i5 Processor]</td>\n",
       "    </tr>\n",
       "    <tr>\n",
       "      <th>3</th>\n",
       "      <td>CHUWI Intel Celeron Dual Core 11th Gen N4020 -...</td>\n",
       "      <td>3.7</td>\n",
       "      <td>₹18,990</td>\n",
       "      <td>Intel Celeron Dual Core Processor (11th Gen)8 ...</td>\n",
       "      <td>[Intel Celeron Dual Core Processor]</td>\n",
       "    </tr>\n",
       "    <tr>\n",
       "      <th>4</th>\n",
       "      <td>HP Chromebook Intel Celeron Dual Core N4020 - ...</td>\n",
       "      <td>3.8</td>\n",
       "      <td>₹17,990</td>\n",
       "      <td>Intel Celeron Dual Core Processor4 GB LPDDR4 R...</td>\n",
       "      <td>[Intel Celeron Dual Core Processor]</td>\n",
       "    </tr>\n",
       "  </tbody>\n",
       "</table>\n",
       "</div>"
      ],
      "text/plain": [
       "                                             Product Rating      MRP  \\\n",
       "0  Lenovo AMD Ryzen 3 Quad Core 7330U - (8 GB/512...    4.3  ₹31,990   \n",
       "1  HP 15s AMD Ryzen 3 Quad Core 7320U - (8 GB/512...    4.3  ₹34,490   \n",
       "2  ZEBRONICS Pro Series Z Intel Core i5 12th Gen ...    3.8  ₹33,990   \n",
       "3  CHUWI Intel Celeron Dual Core 11th Gen N4020 -...    3.7  ₹18,990   \n",
       "4  HP Chromebook Intel Celeron Dual Core N4020 - ...    3.8  ₹17,990   \n",
       "\n",
       "                                             Feature  \\\n",
       "0  AMD Ryzen 3 Quad Core Processor8 GB DDR4 RAMWi...   \n",
       "1  AMD Ryzen 3 Quad Core Processor8 GB LPDDR5 RAM...   \n",
       "2  Intel Core i5 Processor (12th Gen)8 GB DDR4 RA...   \n",
       "3  Intel Celeron Dual Core Processor (11th Gen)8 ...   \n",
       "4  Intel Celeron Dual Core Processor4 GB LPDDR4 R...   \n",
       "\n",
       "                             Processor  \n",
       "0    [AMD Ryzen 3 Quad Core Processor]  \n",
       "1    [AMD Ryzen 3 Quad Core Processor]  \n",
       "2            [Intel Core i5 Processor]  \n",
       "3  [Intel Celeron Dual Core Processor]  \n",
       "4  [Intel Celeron Dual Core Processor]  "
      ]
     },
     "execution_count": 64,
     "metadata": {},
     "output_type": "execute_result"
    }
   ],
   "source": [
    "df.head()"
   ]
  },
  {
   "cell_type": "code",
   "execution_count": 65,
   "id": "2000adff",
   "metadata": {},
   "outputs": [],
   "source": [
    "# RAM Information\n",
    "\n",
    "regex = r'[\\d]+[\\s]+GB[\\s\\w]+RAM'\n",
    "\n",
    "df['RAM'] = df['Feature'].apply(lambda x : re.compile(regex).findall(x))"
   ]
  },
  {
   "cell_type": "code",
   "execution_count": 66,
   "id": "2765422a",
   "metadata": {},
   "outputs": [
    {
     "data": {
      "text/html": [
       "<div>\n",
       "<style scoped>\n",
       "    .dataframe tbody tr th:only-of-type {\n",
       "        vertical-align: middle;\n",
       "    }\n",
       "\n",
       "    .dataframe tbody tr th {\n",
       "        vertical-align: top;\n",
       "    }\n",
       "\n",
       "    .dataframe thead th {\n",
       "        text-align: right;\n",
       "    }\n",
       "</style>\n",
       "<table border=\"1\" class=\"dataframe\">\n",
       "  <thead>\n",
       "    <tr style=\"text-align: right;\">\n",
       "      <th></th>\n",
       "      <th>Product</th>\n",
       "      <th>Rating</th>\n",
       "      <th>MRP</th>\n",
       "      <th>Feature</th>\n",
       "      <th>Processor</th>\n",
       "      <th>RAM</th>\n",
       "    </tr>\n",
       "  </thead>\n",
       "  <tbody>\n",
       "    <tr>\n",
       "      <th>0</th>\n",
       "      <td>Lenovo AMD Ryzen 3 Quad Core 7330U - (8 GB/512...</td>\n",
       "      <td>4.3</td>\n",
       "      <td>₹31,990</td>\n",
       "      <td>AMD Ryzen 3 Quad Core Processor8 GB DDR4 RAMWi...</td>\n",
       "      <td>[AMD Ryzen 3 Quad Core Processor]</td>\n",
       "      <td>[8 GB DDR4 RAM]</td>\n",
       "    </tr>\n",
       "    <tr>\n",
       "      <th>1</th>\n",
       "      <td>HP 15s AMD Ryzen 3 Quad Core 7320U - (8 GB/512...</td>\n",
       "      <td>4.3</td>\n",
       "      <td>₹34,490</td>\n",
       "      <td>AMD Ryzen 3 Quad Core Processor8 GB LPDDR5 RAM...</td>\n",
       "      <td>[AMD Ryzen 3 Quad Core Processor]</td>\n",
       "      <td>[8 GB LPDDR5 RAM]</td>\n",
       "    </tr>\n",
       "    <tr>\n",
       "      <th>2</th>\n",
       "      <td>ZEBRONICS Pro Series Z Intel Core i5 12th Gen ...</td>\n",
       "      <td>3.8</td>\n",
       "      <td>₹33,990</td>\n",
       "      <td>Intel Core i5 Processor (12th Gen)8 GB DDR4 RA...</td>\n",
       "      <td>[Intel Core i5 Processor]</td>\n",
       "      <td>[8 GB DDR4 RAM]</td>\n",
       "    </tr>\n",
       "    <tr>\n",
       "      <th>3</th>\n",
       "      <td>CHUWI Intel Celeron Dual Core 11th Gen N4020 -...</td>\n",
       "      <td>3.7</td>\n",
       "      <td>₹18,990</td>\n",
       "      <td>Intel Celeron Dual Core Processor (11th Gen)8 ...</td>\n",
       "      <td>[Intel Celeron Dual Core Processor]</td>\n",
       "      <td>[8 GB DDR4 RAM]</td>\n",
       "    </tr>\n",
       "    <tr>\n",
       "      <th>4</th>\n",
       "      <td>HP Chromebook Intel Celeron Dual Core N4020 - ...</td>\n",
       "      <td>3.8</td>\n",
       "      <td>₹17,990</td>\n",
       "      <td>Intel Celeron Dual Core Processor4 GB LPDDR4 R...</td>\n",
       "      <td>[Intel Celeron Dual Core Processor]</td>\n",
       "      <td>[4 GB LPDDR4 RAM]</td>\n",
       "    </tr>\n",
       "  </tbody>\n",
       "</table>\n",
       "</div>"
      ],
      "text/plain": [
       "                                             Product Rating      MRP  \\\n",
       "0  Lenovo AMD Ryzen 3 Quad Core 7330U - (8 GB/512...    4.3  ₹31,990   \n",
       "1  HP 15s AMD Ryzen 3 Quad Core 7320U - (8 GB/512...    4.3  ₹34,490   \n",
       "2  ZEBRONICS Pro Series Z Intel Core i5 12th Gen ...    3.8  ₹33,990   \n",
       "3  CHUWI Intel Celeron Dual Core 11th Gen N4020 -...    3.7  ₹18,990   \n",
       "4  HP Chromebook Intel Celeron Dual Core N4020 - ...    3.8  ₹17,990   \n",
       "\n",
       "                                             Feature  \\\n",
       "0  AMD Ryzen 3 Quad Core Processor8 GB DDR4 RAMWi...   \n",
       "1  AMD Ryzen 3 Quad Core Processor8 GB LPDDR5 RAM...   \n",
       "2  Intel Core i5 Processor (12th Gen)8 GB DDR4 RA...   \n",
       "3  Intel Celeron Dual Core Processor (11th Gen)8 ...   \n",
       "4  Intel Celeron Dual Core Processor4 GB LPDDR4 R...   \n",
       "\n",
       "                             Processor                RAM  \n",
       "0    [AMD Ryzen 3 Quad Core Processor]    [8 GB DDR4 RAM]  \n",
       "1    [AMD Ryzen 3 Quad Core Processor]  [8 GB LPDDR5 RAM]  \n",
       "2            [Intel Core i5 Processor]    [8 GB DDR4 RAM]  \n",
       "3  [Intel Celeron Dual Core Processor]    [8 GB DDR4 RAM]  \n",
       "4  [Intel Celeron Dual Core Processor]  [4 GB LPDDR4 RAM]  "
      ]
     },
     "execution_count": 66,
     "metadata": {},
     "output_type": "execute_result"
    }
   ],
   "source": [
    "df.head()"
   ]
  },
  {
   "cell_type": "code",
   "execution_count": 67,
   "id": "e03a0d59",
   "metadata": {},
   "outputs": [],
   "source": [
    "#df['Feature'][0]\n",
    "# df['Feature'][2]"
   ]
  },
  {
   "cell_type": "code",
   "execution_count": 68,
   "id": "14c73977",
   "metadata": {},
   "outputs": [],
   "source": [
    "import re\n",
    "\n",
    "# Assuming 'df' is your DataFrame and 'Feature' is the column containing the information\n",
    "\n",
    "# Define a regex pattern to match both operating system variations\n",
    "regex = r'Windows 11 Operating System|64 bit Windows 11 Operating System'\n",
    "\n",
    "# Function to extract OS information\n",
    "def extract_os_info(text):\n",
    "    matches = re.compile(regex).findall(text)\n",
    "    if matches:\n",
    "        return ', '.join(matches)\n",
    "    else:\n",
    "        return 'OS information not found'\n",
    "\n",
    "# Apply the regex pattern to extract OS information\n",
    "df['OS'] = df['Feature'].apply(extract_os_info)"
   ]
  },
  {
   "cell_type": "code",
   "execution_count": 69,
   "id": "781936f0",
   "metadata": {},
   "outputs": [
    {
     "data": {
      "text/html": [
       "<div>\n",
       "<style scoped>\n",
       "    .dataframe tbody tr th:only-of-type {\n",
       "        vertical-align: middle;\n",
       "    }\n",
       "\n",
       "    .dataframe tbody tr th {\n",
       "        vertical-align: top;\n",
       "    }\n",
       "\n",
       "    .dataframe thead th {\n",
       "        text-align: right;\n",
       "    }\n",
       "</style>\n",
       "<table border=\"1\" class=\"dataframe\">\n",
       "  <thead>\n",
       "    <tr style=\"text-align: right;\">\n",
       "      <th></th>\n",
       "      <th>Product</th>\n",
       "      <th>Rating</th>\n",
       "      <th>MRP</th>\n",
       "      <th>Feature</th>\n",
       "      <th>Processor</th>\n",
       "      <th>RAM</th>\n",
       "      <th>OS</th>\n",
       "    </tr>\n",
       "  </thead>\n",
       "  <tbody>\n",
       "    <tr>\n",
       "      <th>0</th>\n",
       "      <td>Lenovo AMD Ryzen 3 Quad Core 7330U - (8 GB/512...</td>\n",
       "      <td>4.3</td>\n",
       "      <td>₹31,990</td>\n",
       "      <td>AMD Ryzen 3 Quad Core Processor8 GB DDR4 RAMWi...</td>\n",
       "      <td>[AMD Ryzen 3 Quad Core Processor]</td>\n",
       "      <td>[8 GB DDR4 RAM]</td>\n",
       "      <td>Windows 11 Operating System</td>\n",
       "    </tr>\n",
       "    <tr>\n",
       "      <th>1</th>\n",
       "      <td>HP 15s AMD Ryzen 3 Quad Core 7320U - (8 GB/512...</td>\n",
       "      <td>4.3</td>\n",
       "      <td>₹34,490</td>\n",
       "      <td>AMD Ryzen 3 Quad Core Processor8 GB LPDDR5 RAM...</td>\n",
       "      <td>[AMD Ryzen 3 Quad Core Processor]</td>\n",
       "      <td>[8 GB LPDDR5 RAM]</td>\n",
       "      <td>64 bit Windows 11 Operating System</td>\n",
       "    </tr>\n",
       "    <tr>\n",
       "      <th>2</th>\n",
       "      <td>ZEBRONICS Pro Series Z Intel Core i5 12th Gen ...</td>\n",
       "      <td>3.8</td>\n",
       "      <td>₹33,990</td>\n",
       "      <td>Intel Core i5 Processor (12th Gen)8 GB DDR4 RA...</td>\n",
       "      <td>[Intel Core i5 Processor]</td>\n",
       "      <td>[8 GB DDR4 RAM]</td>\n",
       "      <td>Windows 11 Operating System</td>\n",
       "    </tr>\n",
       "    <tr>\n",
       "      <th>3</th>\n",
       "      <td>CHUWI Intel Celeron Dual Core 11th Gen N4020 -...</td>\n",
       "      <td>3.7</td>\n",
       "      <td>₹18,990</td>\n",
       "      <td>Intel Celeron Dual Core Processor (11th Gen)8 ...</td>\n",
       "      <td>[Intel Celeron Dual Core Processor]</td>\n",
       "      <td>[8 GB DDR4 RAM]</td>\n",
       "      <td>64 bit Windows 11 Operating System</td>\n",
       "    </tr>\n",
       "    <tr>\n",
       "      <th>4</th>\n",
       "      <td>HP Chromebook Intel Celeron Dual Core N4020 - ...</td>\n",
       "      <td>3.8</td>\n",
       "      <td>₹17,990</td>\n",
       "      <td>Intel Celeron Dual Core Processor4 GB LPDDR4 R...</td>\n",
       "      <td>[Intel Celeron Dual Core Processor]</td>\n",
       "      <td>[4 GB LPDDR4 RAM]</td>\n",
       "      <td>OS information not found</td>\n",
       "    </tr>\n",
       "  </tbody>\n",
       "</table>\n",
       "</div>"
      ],
      "text/plain": [
       "                                             Product Rating      MRP  \\\n",
       "0  Lenovo AMD Ryzen 3 Quad Core 7330U - (8 GB/512...    4.3  ₹31,990   \n",
       "1  HP 15s AMD Ryzen 3 Quad Core 7320U - (8 GB/512...    4.3  ₹34,490   \n",
       "2  ZEBRONICS Pro Series Z Intel Core i5 12th Gen ...    3.8  ₹33,990   \n",
       "3  CHUWI Intel Celeron Dual Core 11th Gen N4020 -...    3.7  ₹18,990   \n",
       "4  HP Chromebook Intel Celeron Dual Core N4020 - ...    3.8  ₹17,990   \n",
       "\n",
       "                                             Feature  \\\n",
       "0  AMD Ryzen 3 Quad Core Processor8 GB DDR4 RAMWi...   \n",
       "1  AMD Ryzen 3 Quad Core Processor8 GB LPDDR5 RAM...   \n",
       "2  Intel Core i5 Processor (12th Gen)8 GB DDR4 RA...   \n",
       "3  Intel Celeron Dual Core Processor (11th Gen)8 ...   \n",
       "4  Intel Celeron Dual Core Processor4 GB LPDDR4 R...   \n",
       "\n",
       "                             Processor                RAM  \\\n",
       "0    [AMD Ryzen 3 Quad Core Processor]    [8 GB DDR4 RAM]   \n",
       "1    [AMD Ryzen 3 Quad Core Processor]  [8 GB LPDDR5 RAM]   \n",
       "2            [Intel Core i5 Processor]    [8 GB DDR4 RAM]   \n",
       "3  [Intel Celeron Dual Core Processor]    [8 GB DDR4 RAM]   \n",
       "4  [Intel Celeron Dual Core Processor]  [4 GB LPDDR4 RAM]   \n",
       "\n",
       "                                   OS  \n",
       "0         Windows 11 Operating System  \n",
       "1  64 bit Windows 11 Operating System  \n",
       "2         Windows 11 Operating System  \n",
       "3  64 bit Windows 11 Operating System  \n",
       "4            OS information not found  "
      ]
     },
     "execution_count": 69,
     "metadata": {},
     "output_type": "execute_result"
    }
   ],
   "source": [
    "df.head()"
   ]
  },
  {
   "cell_type": "code",
   "execution_count": 70,
   "id": "483f32c3",
   "metadata": {},
   "outputs": [],
   "source": [
    "# Storage\n",
    "\n",
    "regex = r'[\\d]+\\s(?:GB|TB)\\s(?:HDD|SSD)'\n",
    "\n",
    "df['Storage'] = df['Feature'].apply(lambda x : re.compile(regex).findall(x))"
   ]
  },
  {
   "cell_type": "code",
   "execution_count": 71,
   "id": "6844fbcd",
   "metadata": {},
   "outputs": [
    {
     "data": {
      "text/html": [
       "<div>\n",
       "<style scoped>\n",
       "    .dataframe tbody tr th:only-of-type {\n",
       "        vertical-align: middle;\n",
       "    }\n",
       "\n",
       "    .dataframe tbody tr th {\n",
       "        vertical-align: top;\n",
       "    }\n",
       "\n",
       "    .dataframe thead th {\n",
       "        text-align: right;\n",
       "    }\n",
       "</style>\n",
       "<table border=\"1\" class=\"dataframe\">\n",
       "  <thead>\n",
       "    <tr style=\"text-align: right;\">\n",
       "      <th></th>\n",
       "      <th>Product</th>\n",
       "      <th>Rating</th>\n",
       "      <th>MRP</th>\n",
       "      <th>Feature</th>\n",
       "      <th>Processor</th>\n",
       "      <th>RAM</th>\n",
       "      <th>OS</th>\n",
       "      <th>Storage</th>\n",
       "    </tr>\n",
       "  </thead>\n",
       "  <tbody>\n",
       "    <tr>\n",
       "      <th>0</th>\n",
       "      <td>Lenovo AMD Ryzen 3 Quad Core 7330U - (8 GB/512...</td>\n",
       "      <td>4.3</td>\n",
       "      <td>₹31,990</td>\n",
       "      <td>AMD Ryzen 3 Quad Core Processor8 GB DDR4 RAMWi...</td>\n",
       "      <td>[AMD Ryzen 3 Quad Core Processor]</td>\n",
       "      <td>[8 GB DDR4 RAM]</td>\n",
       "      <td>Windows 11 Operating System</td>\n",
       "      <td>[512 GB SSD]</td>\n",
       "    </tr>\n",
       "    <tr>\n",
       "      <th>1</th>\n",
       "      <td>HP 15s AMD Ryzen 3 Quad Core 7320U - (8 GB/512...</td>\n",
       "      <td>4.3</td>\n",
       "      <td>₹34,490</td>\n",
       "      <td>AMD Ryzen 3 Quad Core Processor8 GB LPDDR5 RAM...</td>\n",
       "      <td>[AMD Ryzen 3 Quad Core Processor]</td>\n",
       "      <td>[8 GB LPDDR5 RAM]</td>\n",
       "      <td>64 bit Windows 11 Operating System</td>\n",
       "      <td>[512 GB SSD]</td>\n",
       "    </tr>\n",
       "    <tr>\n",
       "      <th>2</th>\n",
       "      <td>ZEBRONICS Pro Series Z Intel Core i5 12th Gen ...</td>\n",
       "      <td>3.8</td>\n",
       "      <td>₹33,990</td>\n",
       "      <td>Intel Core i5 Processor (12th Gen)8 GB DDR4 RA...</td>\n",
       "      <td>[Intel Core i5 Processor]</td>\n",
       "      <td>[8 GB DDR4 RAM]</td>\n",
       "      <td>Windows 11 Operating System</td>\n",
       "      <td>[512 GB SSD]</td>\n",
       "    </tr>\n",
       "    <tr>\n",
       "      <th>3</th>\n",
       "      <td>CHUWI Intel Celeron Dual Core 11th Gen N4020 -...</td>\n",
       "      <td>3.7</td>\n",
       "      <td>₹18,990</td>\n",
       "      <td>Intel Celeron Dual Core Processor (11th Gen)8 ...</td>\n",
       "      <td>[Intel Celeron Dual Core Processor]</td>\n",
       "      <td>[8 GB DDR4 RAM]</td>\n",
       "      <td>64 bit Windows 11 Operating System</td>\n",
       "      <td>[256 GB SSD]</td>\n",
       "    </tr>\n",
       "    <tr>\n",
       "      <th>4</th>\n",
       "      <td>HP Chromebook Intel Celeron Dual Core N4020 - ...</td>\n",
       "      <td>3.8</td>\n",
       "      <td>₹17,990</td>\n",
       "      <td>Intel Celeron Dual Core Processor4 GB LPDDR4 R...</td>\n",
       "      <td>[Intel Celeron Dual Core Processor]</td>\n",
       "      <td>[4 GB LPDDR4 RAM]</td>\n",
       "      <td>OS information not found</td>\n",
       "      <td>[]</td>\n",
       "    </tr>\n",
       "  </tbody>\n",
       "</table>\n",
       "</div>"
      ],
      "text/plain": [
       "                                             Product Rating      MRP  \\\n",
       "0  Lenovo AMD Ryzen 3 Quad Core 7330U - (8 GB/512...    4.3  ₹31,990   \n",
       "1  HP 15s AMD Ryzen 3 Quad Core 7320U - (8 GB/512...    4.3  ₹34,490   \n",
       "2  ZEBRONICS Pro Series Z Intel Core i5 12th Gen ...    3.8  ₹33,990   \n",
       "3  CHUWI Intel Celeron Dual Core 11th Gen N4020 -...    3.7  ₹18,990   \n",
       "4  HP Chromebook Intel Celeron Dual Core N4020 - ...    3.8  ₹17,990   \n",
       "\n",
       "                                             Feature  \\\n",
       "0  AMD Ryzen 3 Quad Core Processor8 GB DDR4 RAMWi...   \n",
       "1  AMD Ryzen 3 Quad Core Processor8 GB LPDDR5 RAM...   \n",
       "2  Intel Core i5 Processor (12th Gen)8 GB DDR4 RA...   \n",
       "3  Intel Celeron Dual Core Processor (11th Gen)8 ...   \n",
       "4  Intel Celeron Dual Core Processor4 GB LPDDR4 R...   \n",
       "\n",
       "                             Processor                RAM  \\\n",
       "0    [AMD Ryzen 3 Quad Core Processor]    [8 GB DDR4 RAM]   \n",
       "1    [AMD Ryzen 3 Quad Core Processor]  [8 GB LPDDR5 RAM]   \n",
       "2            [Intel Core i5 Processor]    [8 GB DDR4 RAM]   \n",
       "3  [Intel Celeron Dual Core Processor]    [8 GB DDR4 RAM]   \n",
       "4  [Intel Celeron Dual Core Processor]  [4 GB LPDDR4 RAM]   \n",
       "\n",
       "                                   OS       Storage  \n",
       "0         Windows 11 Operating System  [512 GB SSD]  \n",
       "1  64 bit Windows 11 Operating System  [512 GB SSD]  \n",
       "2         Windows 11 Operating System  [512 GB SSD]  \n",
       "3  64 bit Windows 11 Operating System  [256 GB SSD]  \n",
       "4            OS information not found            []  "
      ]
     },
     "execution_count": 71,
     "metadata": {},
     "output_type": "execute_result"
    }
   ],
   "source": [
    "df.head()"
   ]
  },
  {
   "cell_type": "code",
   "execution_count": 72,
   "id": "76de2710",
   "metadata": {},
   "outputs": [],
   "source": [
    "# Brand\n",
    "\n",
    "regex = r'^\\w+'\n",
    "\n",
    "df['Brand'] = df['Product'].apply(lambda x : re.compile(regex).findall(x))"
   ]
  },
  {
   "cell_type": "code",
   "execution_count": 73,
   "id": "2bb94c5e",
   "metadata": {},
   "outputs": [
    {
     "data": {
      "text/html": [
       "<div>\n",
       "<style scoped>\n",
       "    .dataframe tbody tr th:only-of-type {\n",
       "        vertical-align: middle;\n",
       "    }\n",
       "\n",
       "    .dataframe tbody tr th {\n",
       "        vertical-align: top;\n",
       "    }\n",
       "\n",
       "    .dataframe thead th {\n",
       "        text-align: right;\n",
       "    }\n",
       "</style>\n",
       "<table border=\"1\" class=\"dataframe\">\n",
       "  <thead>\n",
       "    <tr style=\"text-align: right;\">\n",
       "      <th></th>\n",
       "      <th>Product</th>\n",
       "      <th>Rating</th>\n",
       "      <th>MRP</th>\n",
       "      <th>Feature</th>\n",
       "      <th>Processor</th>\n",
       "      <th>RAM</th>\n",
       "      <th>OS</th>\n",
       "      <th>Storage</th>\n",
       "      <th>Brand</th>\n",
       "    </tr>\n",
       "  </thead>\n",
       "  <tbody>\n",
       "    <tr>\n",
       "      <th>0</th>\n",
       "      <td>Lenovo AMD Ryzen 3 Quad Core 7330U - (8 GB/512...</td>\n",
       "      <td>4.3</td>\n",
       "      <td>₹31,990</td>\n",
       "      <td>AMD Ryzen 3 Quad Core Processor8 GB DDR4 RAMWi...</td>\n",
       "      <td>[AMD Ryzen 3 Quad Core Processor]</td>\n",
       "      <td>[8 GB DDR4 RAM]</td>\n",
       "      <td>Windows 11 Operating System</td>\n",
       "      <td>[512 GB SSD]</td>\n",
       "      <td>[Lenovo]</td>\n",
       "    </tr>\n",
       "    <tr>\n",
       "      <th>1</th>\n",
       "      <td>HP 15s AMD Ryzen 3 Quad Core 7320U - (8 GB/512...</td>\n",
       "      <td>4.3</td>\n",
       "      <td>₹34,490</td>\n",
       "      <td>AMD Ryzen 3 Quad Core Processor8 GB LPDDR5 RAM...</td>\n",
       "      <td>[AMD Ryzen 3 Quad Core Processor]</td>\n",
       "      <td>[8 GB LPDDR5 RAM]</td>\n",
       "      <td>64 bit Windows 11 Operating System</td>\n",
       "      <td>[512 GB SSD]</td>\n",
       "      <td>[HP]</td>\n",
       "    </tr>\n",
       "    <tr>\n",
       "      <th>2</th>\n",
       "      <td>ZEBRONICS Pro Series Z Intel Core i5 12th Gen ...</td>\n",
       "      <td>3.8</td>\n",
       "      <td>₹33,990</td>\n",
       "      <td>Intel Core i5 Processor (12th Gen)8 GB DDR4 RA...</td>\n",
       "      <td>[Intel Core i5 Processor]</td>\n",
       "      <td>[8 GB DDR4 RAM]</td>\n",
       "      <td>Windows 11 Operating System</td>\n",
       "      <td>[512 GB SSD]</td>\n",
       "      <td>[ZEBRONICS]</td>\n",
       "    </tr>\n",
       "    <tr>\n",
       "      <th>3</th>\n",
       "      <td>CHUWI Intel Celeron Dual Core 11th Gen N4020 -...</td>\n",
       "      <td>3.7</td>\n",
       "      <td>₹18,990</td>\n",
       "      <td>Intel Celeron Dual Core Processor (11th Gen)8 ...</td>\n",
       "      <td>[Intel Celeron Dual Core Processor]</td>\n",
       "      <td>[8 GB DDR4 RAM]</td>\n",
       "      <td>64 bit Windows 11 Operating System</td>\n",
       "      <td>[256 GB SSD]</td>\n",
       "      <td>[CHUWI]</td>\n",
       "    </tr>\n",
       "    <tr>\n",
       "      <th>4</th>\n",
       "      <td>HP Chromebook Intel Celeron Dual Core N4020 - ...</td>\n",
       "      <td>3.8</td>\n",
       "      <td>₹17,990</td>\n",
       "      <td>Intel Celeron Dual Core Processor4 GB LPDDR4 R...</td>\n",
       "      <td>[Intel Celeron Dual Core Processor]</td>\n",
       "      <td>[4 GB LPDDR4 RAM]</td>\n",
       "      <td>OS information not found</td>\n",
       "      <td>[]</td>\n",
       "      <td>[HP]</td>\n",
       "    </tr>\n",
       "  </tbody>\n",
       "</table>\n",
       "</div>"
      ],
      "text/plain": [
       "                                             Product Rating      MRP  \\\n",
       "0  Lenovo AMD Ryzen 3 Quad Core 7330U - (8 GB/512...    4.3  ₹31,990   \n",
       "1  HP 15s AMD Ryzen 3 Quad Core 7320U - (8 GB/512...    4.3  ₹34,490   \n",
       "2  ZEBRONICS Pro Series Z Intel Core i5 12th Gen ...    3.8  ₹33,990   \n",
       "3  CHUWI Intel Celeron Dual Core 11th Gen N4020 -...    3.7  ₹18,990   \n",
       "4  HP Chromebook Intel Celeron Dual Core N4020 - ...    3.8  ₹17,990   \n",
       "\n",
       "                                             Feature  \\\n",
       "0  AMD Ryzen 3 Quad Core Processor8 GB DDR4 RAMWi...   \n",
       "1  AMD Ryzen 3 Quad Core Processor8 GB LPDDR5 RAM...   \n",
       "2  Intel Core i5 Processor (12th Gen)8 GB DDR4 RA...   \n",
       "3  Intel Celeron Dual Core Processor (11th Gen)8 ...   \n",
       "4  Intel Celeron Dual Core Processor4 GB LPDDR4 R...   \n",
       "\n",
       "                             Processor                RAM  \\\n",
       "0    [AMD Ryzen 3 Quad Core Processor]    [8 GB DDR4 RAM]   \n",
       "1    [AMD Ryzen 3 Quad Core Processor]  [8 GB LPDDR5 RAM]   \n",
       "2            [Intel Core i5 Processor]    [8 GB DDR4 RAM]   \n",
       "3  [Intel Celeron Dual Core Processor]    [8 GB DDR4 RAM]   \n",
       "4  [Intel Celeron Dual Core Processor]  [4 GB LPDDR4 RAM]   \n",
       "\n",
       "                                   OS       Storage        Brand  \n",
       "0         Windows 11 Operating System  [512 GB SSD]     [Lenovo]  \n",
       "1  64 bit Windows 11 Operating System  [512 GB SSD]         [HP]  \n",
       "2         Windows 11 Operating System  [512 GB SSD]  [ZEBRONICS]  \n",
       "3  64 bit Windows 11 Operating System  [256 GB SSD]      [CHUWI]  \n",
       "4            OS information not found            []         [HP]  "
      ]
     },
     "execution_count": 73,
     "metadata": {},
     "output_type": "execute_result"
    }
   ],
   "source": [
    "df.head()"
   ]
  },
  {
   "cell_type": "markdown",
   "id": "5bc94f71",
   "metadata": {},
   "source": [
    "## Cleaning the Data"
   ]
  },
  {
   "cell_type": "code",
   "execution_count": 74,
   "id": "30dcebda",
   "metadata": {},
   "outputs": [
    {
     "name": "stdout",
     "output_type": "stream",
     "text": [
      "<class 'pandas.core.frame.DataFrame'>\n",
      "RangeIndex: 25 entries, 0 to 24\n",
      "Data columns (total 9 columns):\n",
      " #   Column     Non-Null Count  Dtype \n",
      "---  ------     --------------  ----- \n",
      " 0   Product    25 non-null     object\n",
      " 1   Rating     25 non-null     object\n",
      " 2   MRP        25 non-null     object\n",
      " 3   Feature    25 non-null     object\n",
      " 4   Processor  25 non-null     object\n",
      " 5   RAM        25 non-null     object\n",
      " 6   OS         25 non-null     object\n",
      " 7   Storage    25 non-null     object\n",
      " 8   Brand      25 non-null     object\n",
      "dtypes: object(9)\n",
      "memory usage: 1.9+ KB\n"
     ]
    }
   ],
   "source": [
    "df.info()"
   ]
  },
  {
   "cell_type": "code",
   "execution_count": 75,
   "id": "c9815695",
   "metadata": {},
   "outputs": [
    {
     "data": {
      "text/plain": [
       "Product      0\n",
       "Rating       0\n",
       "MRP          0\n",
       "Feature      0\n",
       "Processor    0\n",
       "RAM          0\n",
       "OS           0\n",
       "Storage      0\n",
       "Brand        0\n",
       "dtype: int64"
      ]
     },
     "execution_count": 75,
     "metadata": {},
     "output_type": "execute_result"
    }
   ],
   "source": [
    "# Missing Values\n",
    "\n",
    "df.isnull().sum()"
   ]
  },
  {
   "cell_type": "code",
   "execution_count": 76,
   "id": "1bc7abde",
   "metadata": {},
   "outputs": [
    {
     "name": "stdout",
     "output_type": "stream",
     "text": [
      "['Intel Celeron Dual Core Processor']\n",
      "<class 'list'>\n"
     ]
    }
   ],
   "source": [
    "print(df['Processor'][4])\n",
    "\n",
    "print(type(df['Processor'][3]))"
   ]
  },
  {
   "cell_type": "code",
   "execution_count": 77,
   "id": "8e2ac387",
   "metadata": {},
   "outputs": [],
   "source": [
    "df.Processor = df.Processor.apply(lambda x : ''.join(x))\n",
    "df.RAM = df.RAM.apply(lambda x : ''.join(x))\n",
    "df.OS = df.OS.apply(lambda x : ''.join(x))\n",
    "df.Storage = df.Storage.apply(lambda x : ''.join(x))\n",
    "df.Brand = df.Brand.apply(lambda x : ''.join(x))"
   ]
  },
  {
   "cell_type": "code",
   "execution_count": 78,
   "id": "32d5cbea",
   "metadata": {},
   "outputs": [
    {
     "data": {
      "text/html": [
       "<div>\n",
       "<style scoped>\n",
       "    .dataframe tbody tr th:only-of-type {\n",
       "        vertical-align: middle;\n",
       "    }\n",
       "\n",
       "    .dataframe tbody tr th {\n",
       "        vertical-align: top;\n",
       "    }\n",
       "\n",
       "    .dataframe thead th {\n",
       "        text-align: right;\n",
       "    }\n",
       "</style>\n",
       "<table border=\"1\" class=\"dataframe\">\n",
       "  <thead>\n",
       "    <tr style=\"text-align: right;\">\n",
       "      <th></th>\n",
       "      <th>Product</th>\n",
       "      <th>Rating</th>\n",
       "      <th>MRP</th>\n",
       "      <th>Feature</th>\n",
       "      <th>Processor</th>\n",
       "      <th>RAM</th>\n",
       "      <th>OS</th>\n",
       "      <th>Storage</th>\n",
       "      <th>Brand</th>\n",
       "    </tr>\n",
       "  </thead>\n",
       "  <tbody>\n",
       "    <tr>\n",
       "      <th>0</th>\n",
       "      <td>Lenovo AMD Ryzen 3 Quad Core 7330U - (8 GB/512...</td>\n",
       "      <td>4.3</td>\n",
       "      <td>₹31,990</td>\n",
       "      <td>AMD Ryzen 3 Quad Core Processor8 GB DDR4 RAMWi...</td>\n",
       "      <td>AMD Ryzen 3 Quad Core Processor</td>\n",
       "      <td>8 GB DDR4 RAM</td>\n",
       "      <td>Windows 11 Operating System</td>\n",
       "      <td>512 GB SSD</td>\n",
       "      <td>Lenovo</td>\n",
       "    </tr>\n",
       "    <tr>\n",
       "      <th>1</th>\n",
       "      <td>HP 15s AMD Ryzen 3 Quad Core 7320U - (8 GB/512...</td>\n",
       "      <td>4.3</td>\n",
       "      <td>₹34,490</td>\n",
       "      <td>AMD Ryzen 3 Quad Core Processor8 GB LPDDR5 RAM...</td>\n",
       "      <td>AMD Ryzen 3 Quad Core Processor</td>\n",
       "      <td>8 GB LPDDR5 RAM</td>\n",
       "      <td>64 bit Windows 11 Operating System</td>\n",
       "      <td>512 GB SSD</td>\n",
       "      <td>HP</td>\n",
       "    </tr>\n",
       "    <tr>\n",
       "      <th>2</th>\n",
       "      <td>ZEBRONICS Pro Series Z Intel Core i5 12th Gen ...</td>\n",
       "      <td>3.8</td>\n",
       "      <td>₹33,990</td>\n",
       "      <td>Intel Core i5 Processor (12th Gen)8 GB DDR4 RA...</td>\n",
       "      <td>Intel Core i5 Processor</td>\n",
       "      <td>8 GB DDR4 RAM</td>\n",
       "      <td>Windows 11 Operating System</td>\n",
       "      <td>512 GB SSD</td>\n",
       "      <td>ZEBRONICS</td>\n",
       "    </tr>\n",
       "    <tr>\n",
       "      <th>3</th>\n",
       "      <td>CHUWI Intel Celeron Dual Core 11th Gen N4020 -...</td>\n",
       "      <td>3.7</td>\n",
       "      <td>₹18,990</td>\n",
       "      <td>Intel Celeron Dual Core Processor (11th Gen)8 ...</td>\n",
       "      <td>Intel Celeron Dual Core Processor</td>\n",
       "      <td>8 GB DDR4 RAM</td>\n",
       "      <td>64 bit Windows 11 Operating System</td>\n",
       "      <td>256 GB SSD</td>\n",
       "      <td>CHUWI</td>\n",
       "    </tr>\n",
       "    <tr>\n",
       "      <th>4</th>\n",
       "      <td>HP Chromebook Intel Celeron Dual Core N4020 - ...</td>\n",
       "      <td>3.8</td>\n",
       "      <td>₹17,990</td>\n",
       "      <td>Intel Celeron Dual Core Processor4 GB LPDDR4 R...</td>\n",
       "      <td>Intel Celeron Dual Core Processor</td>\n",
       "      <td>4 GB LPDDR4 RAM</td>\n",
       "      <td>OS information not found</td>\n",
       "      <td></td>\n",
       "      <td>HP</td>\n",
       "    </tr>\n",
       "  </tbody>\n",
       "</table>\n",
       "</div>"
      ],
      "text/plain": [
       "                                             Product Rating      MRP  \\\n",
       "0  Lenovo AMD Ryzen 3 Quad Core 7330U - (8 GB/512...    4.3  ₹31,990   \n",
       "1  HP 15s AMD Ryzen 3 Quad Core 7320U - (8 GB/512...    4.3  ₹34,490   \n",
       "2  ZEBRONICS Pro Series Z Intel Core i5 12th Gen ...    3.8  ₹33,990   \n",
       "3  CHUWI Intel Celeron Dual Core 11th Gen N4020 -...    3.7  ₹18,990   \n",
       "4  HP Chromebook Intel Celeron Dual Core N4020 - ...    3.8  ₹17,990   \n",
       "\n",
       "                                             Feature  \\\n",
       "0  AMD Ryzen 3 Quad Core Processor8 GB DDR4 RAMWi...   \n",
       "1  AMD Ryzen 3 Quad Core Processor8 GB LPDDR5 RAM...   \n",
       "2  Intel Core i5 Processor (12th Gen)8 GB DDR4 RA...   \n",
       "3  Intel Celeron Dual Core Processor (11th Gen)8 ...   \n",
       "4  Intel Celeron Dual Core Processor4 GB LPDDR4 R...   \n",
       "\n",
       "                           Processor              RAM  \\\n",
       "0    AMD Ryzen 3 Quad Core Processor    8 GB DDR4 RAM   \n",
       "1    AMD Ryzen 3 Quad Core Processor  8 GB LPDDR5 RAM   \n",
       "2            Intel Core i5 Processor    8 GB DDR4 RAM   \n",
       "3  Intel Celeron Dual Core Processor    8 GB DDR4 RAM   \n",
       "4  Intel Celeron Dual Core Processor  4 GB LPDDR4 RAM   \n",
       "\n",
       "                                   OS     Storage      Brand  \n",
       "0         Windows 11 Operating System  512 GB SSD     Lenovo  \n",
       "1  64 bit Windows 11 Operating System  512 GB SSD         HP  \n",
       "2         Windows 11 Operating System  512 GB SSD  ZEBRONICS  \n",
       "3  64 bit Windows 11 Operating System  256 GB SSD      CHUWI  \n",
       "4            OS information not found                     HP  "
      ]
     },
     "execution_count": 78,
     "metadata": {},
     "output_type": "execute_result"
    }
   ],
   "source": [
    "df.head()"
   ]
  },
  {
   "cell_type": "code",
   "execution_count": 79,
   "id": "b44d8552",
   "metadata": {},
   "outputs": [
    {
     "name": "stdout",
     "output_type": "stream",
     "text": [
      "<class 'pandas.core.frame.DataFrame'>\n",
      "RangeIndex: 25 entries, 0 to 24\n",
      "Data columns (total 9 columns):\n",
      " #   Column     Non-Null Count  Dtype \n",
      "---  ------     --------------  ----- \n",
      " 0   Product    25 non-null     object\n",
      " 1   Rating     25 non-null     object\n",
      " 2   MRP        25 non-null     object\n",
      " 3   Feature    25 non-null     object\n",
      " 4   Processor  25 non-null     object\n",
      " 5   RAM        25 non-null     object\n",
      " 6   OS         25 non-null     object\n",
      " 7   Storage    25 non-null     object\n",
      " 8   Brand      25 non-null     object\n",
      "dtypes: object(9)\n",
      "memory usage: 1.9+ KB\n"
     ]
    }
   ],
   "source": [
    "df.info()"
   ]
  },
  {
   "cell_type": "code",
   "execution_count": 80,
   "id": "6c26cd26",
   "metadata": {},
   "outputs": [],
   "source": [
    "df.MRP = df.MRP.apply(lambda x : x.replace('₹', '').replace(',', '')).astype(float)"
   ]
  },
  {
   "cell_type": "code",
   "execution_count": 81,
   "id": "c17ad0c4",
   "metadata": {},
   "outputs": [
    {
     "data": {
      "text/html": [
       "<div>\n",
       "<style scoped>\n",
       "    .dataframe tbody tr th:only-of-type {\n",
       "        vertical-align: middle;\n",
       "    }\n",
       "\n",
       "    .dataframe tbody tr th {\n",
       "        vertical-align: top;\n",
       "    }\n",
       "\n",
       "    .dataframe thead th {\n",
       "        text-align: right;\n",
       "    }\n",
       "</style>\n",
       "<table border=\"1\" class=\"dataframe\">\n",
       "  <thead>\n",
       "    <tr style=\"text-align: right;\">\n",
       "      <th></th>\n",
       "      <th>Product</th>\n",
       "      <th>Rating</th>\n",
       "      <th>MRP</th>\n",
       "      <th>Feature</th>\n",
       "      <th>Processor</th>\n",
       "      <th>RAM</th>\n",
       "      <th>OS</th>\n",
       "      <th>Storage</th>\n",
       "      <th>Brand</th>\n",
       "    </tr>\n",
       "  </thead>\n",
       "  <tbody>\n",
       "    <tr>\n",
       "      <th>0</th>\n",
       "      <td>Lenovo AMD Ryzen 3 Quad Core 7330U - (8 GB/512...</td>\n",
       "      <td>4.3</td>\n",
       "      <td>31990.0</td>\n",
       "      <td>AMD Ryzen 3 Quad Core Processor8 GB DDR4 RAMWi...</td>\n",
       "      <td>AMD Ryzen 3 Quad Core Processor</td>\n",
       "      <td>8 GB DDR4 RAM</td>\n",
       "      <td>Windows 11 Operating System</td>\n",
       "      <td>512 GB SSD</td>\n",
       "      <td>Lenovo</td>\n",
       "    </tr>\n",
       "    <tr>\n",
       "      <th>1</th>\n",
       "      <td>HP 15s AMD Ryzen 3 Quad Core 7320U - (8 GB/512...</td>\n",
       "      <td>4.3</td>\n",
       "      <td>34490.0</td>\n",
       "      <td>AMD Ryzen 3 Quad Core Processor8 GB LPDDR5 RAM...</td>\n",
       "      <td>AMD Ryzen 3 Quad Core Processor</td>\n",
       "      <td>8 GB LPDDR5 RAM</td>\n",
       "      <td>64 bit Windows 11 Operating System</td>\n",
       "      <td>512 GB SSD</td>\n",
       "      <td>HP</td>\n",
       "    </tr>\n",
       "    <tr>\n",
       "      <th>2</th>\n",
       "      <td>ZEBRONICS Pro Series Z Intel Core i5 12th Gen ...</td>\n",
       "      <td>3.8</td>\n",
       "      <td>33990.0</td>\n",
       "      <td>Intel Core i5 Processor (12th Gen)8 GB DDR4 RA...</td>\n",
       "      <td>Intel Core i5 Processor</td>\n",
       "      <td>8 GB DDR4 RAM</td>\n",
       "      <td>Windows 11 Operating System</td>\n",
       "      <td>512 GB SSD</td>\n",
       "      <td>ZEBRONICS</td>\n",
       "    </tr>\n",
       "    <tr>\n",
       "      <th>3</th>\n",
       "      <td>CHUWI Intel Celeron Dual Core 11th Gen N4020 -...</td>\n",
       "      <td>3.7</td>\n",
       "      <td>18990.0</td>\n",
       "      <td>Intel Celeron Dual Core Processor (11th Gen)8 ...</td>\n",
       "      <td>Intel Celeron Dual Core Processor</td>\n",
       "      <td>8 GB DDR4 RAM</td>\n",
       "      <td>64 bit Windows 11 Operating System</td>\n",
       "      <td>256 GB SSD</td>\n",
       "      <td>CHUWI</td>\n",
       "    </tr>\n",
       "    <tr>\n",
       "      <th>4</th>\n",
       "      <td>HP Chromebook Intel Celeron Dual Core N4020 - ...</td>\n",
       "      <td>3.8</td>\n",
       "      <td>17990.0</td>\n",
       "      <td>Intel Celeron Dual Core Processor4 GB LPDDR4 R...</td>\n",
       "      <td>Intel Celeron Dual Core Processor</td>\n",
       "      <td>4 GB LPDDR4 RAM</td>\n",
       "      <td>OS information not found</td>\n",
       "      <td></td>\n",
       "      <td>HP</td>\n",
       "    </tr>\n",
       "  </tbody>\n",
       "</table>\n",
       "</div>"
      ],
      "text/plain": [
       "                                             Product Rating      MRP  \\\n",
       "0  Lenovo AMD Ryzen 3 Quad Core 7330U - (8 GB/512...    4.3  31990.0   \n",
       "1  HP 15s AMD Ryzen 3 Quad Core 7320U - (8 GB/512...    4.3  34490.0   \n",
       "2  ZEBRONICS Pro Series Z Intel Core i5 12th Gen ...    3.8  33990.0   \n",
       "3  CHUWI Intel Celeron Dual Core 11th Gen N4020 -...    3.7  18990.0   \n",
       "4  HP Chromebook Intel Celeron Dual Core N4020 - ...    3.8  17990.0   \n",
       "\n",
       "                                             Feature  \\\n",
       "0  AMD Ryzen 3 Quad Core Processor8 GB DDR4 RAMWi...   \n",
       "1  AMD Ryzen 3 Quad Core Processor8 GB LPDDR5 RAM...   \n",
       "2  Intel Core i5 Processor (12th Gen)8 GB DDR4 RA...   \n",
       "3  Intel Celeron Dual Core Processor (11th Gen)8 ...   \n",
       "4  Intel Celeron Dual Core Processor4 GB LPDDR4 R...   \n",
       "\n",
       "                           Processor              RAM  \\\n",
       "0    AMD Ryzen 3 Quad Core Processor    8 GB DDR4 RAM   \n",
       "1    AMD Ryzen 3 Quad Core Processor  8 GB LPDDR5 RAM   \n",
       "2            Intel Core i5 Processor    8 GB DDR4 RAM   \n",
       "3  Intel Celeron Dual Core Processor    8 GB DDR4 RAM   \n",
       "4  Intel Celeron Dual Core Processor  4 GB LPDDR4 RAM   \n",
       "\n",
       "                                   OS     Storage      Brand  \n",
       "0         Windows 11 Operating System  512 GB SSD     Lenovo  \n",
       "1  64 bit Windows 11 Operating System  512 GB SSD         HP  \n",
       "2         Windows 11 Operating System  512 GB SSD  ZEBRONICS  \n",
       "3  64 bit Windows 11 Operating System  256 GB SSD      CHUWI  \n",
       "4            OS information not found                     HP  "
      ]
     },
     "execution_count": 81,
     "metadata": {},
     "output_type": "execute_result"
    }
   ],
   "source": [
    "df.head()"
   ]
  },
  {
   "cell_type": "code",
   "execution_count": 82,
   "id": "d5f07979",
   "metadata": {},
   "outputs": [
    {
     "name": "stdout",
     "output_type": "stream",
     "text": [
      "<class 'pandas.core.frame.DataFrame'>\n",
      "RangeIndex: 25 entries, 0 to 24\n",
      "Data columns (total 9 columns):\n",
      " #   Column     Non-Null Count  Dtype  \n",
      "---  ------     --------------  -----  \n",
      " 0   Product    25 non-null     object \n",
      " 1   Rating     25 non-null     object \n",
      " 2   MRP        25 non-null     float64\n",
      " 3   Feature    25 non-null     object \n",
      " 4   Processor  25 non-null     object \n",
      " 5   RAM        25 non-null     object \n",
      " 6   OS         25 non-null     object \n",
      " 7   Storage    25 non-null     object \n",
      " 8   Brand      25 non-null     object \n",
      "dtypes: float64(1), object(8)\n",
      "memory usage: 1.9+ KB\n"
     ]
    }
   ],
   "source": [
    "df.info()"
   ]
  },
  {
   "cell_type": "code",
   "execution_count": 83,
   "id": "cc27d794",
   "metadata": {},
   "outputs": [],
   "source": [
    "df = df.drop('Feature', axis=1)"
   ]
  },
  {
   "cell_type": "code",
   "execution_count": 84,
   "id": "3221a5c8",
   "metadata": {},
   "outputs": [
    {
     "data": {
      "text/html": [
       "<div>\n",
       "<style scoped>\n",
       "    .dataframe tbody tr th:only-of-type {\n",
       "        vertical-align: middle;\n",
       "    }\n",
       "\n",
       "    .dataframe tbody tr th {\n",
       "        vertical-align: top;\n",
       "    }\n",
       "\n",
       "    .dataframe thead th {\n",
       "        text-align: right;\n",
       "    }\n",
       "</style>\n",
       "<table border=\"1\" class=\"dataframe\">\n",
       "  <thead>\n",
       "    <tr style=\"text-align: right;\">\n",
       "      <th></th>\n",
       "      <th>Product</th>\n",
       "      <th>Rating</th>\n",
       "      <th>MRP</th>\n",
       "      <th>Processor</th>\n",
       "      <th>RAM</th>\n",
       "      <th>OS</th>\n",
       "      <th>Storage</th>\n",
       "      <th>Brand</th>\n",
       "    </tr>\n",
       "  </thead>\n",
       "  <tbody>\n",
       "    <tr>\n",
       "      <th>0</th>\n",
       "      <td>Lenovo AMD Ryzen 3 Quad Core 7330U - (8 GB/512...</td>\n",
       "      <td>4.3</td>\n",
       "      <td>31990.0</td>\n",
       "      <td>AMD Ryzen 3 Quad Core Processor</td>\n",
       "      <td>8 GB DDR4 RAM</td>\n",
       "      <td>Windows 11 Operating System</td>\n",
       "      <td>512 GB SSD</td>\n",
       "      <td>Lenovo</td>\n",
       "    </tr>\n",
       "    <tr>\n",
       "      <th>1</th>\n",
       "      <td>HP 15s AMD Ryzen 3 Quad Core 7320U - (8 GB/512...</td>\n",
       "      <td>4.3</td>\n",
       "      <td>34490.0</td>\n",
       "      <td>AMD Ryzen 3 Quad Core Processor</td>\n",
       "      <td>8 GB LPDDR5 RAM</td>\n",
       "      <td>64 bit Windows 11 Operating System</td>\n",
       "      <td>512 GB SSD</td>\n",
       "      <td>HP</td>\n",
       "    </tr>\n",
       "    <tr>\n",
       "      <th>2</th>\n",
       "      <td>ZEBRONICS Pro Series Z Intel Core i5 12th Gen ...</td>\n",
       "      <td>3.8</td>\n",
       "      <td>33990.0</td>\n",
       "      <td>Intel Core i5 Processor</td>\n",
       "      <td>8 GB DDR4 RAM</td>\n",
       "      <td>Windows 11 Operating System</td>\n",
       "      <td>512 GB SSD</td>\n",
       "      <td>ZEBRONICS</td>\n",
       "    </tr>\n",
       "    <tr>\n",
       "      <th>3</th>\n",
       "      <td>CHUWI Intel Celeron Dual Core 11th Gen N4020 -...</td>\n",
       "      <td>3.7</td>\n",
       "      <td>18990.0</td>\n",
       "      <td>Intel Celeron Dual Core Processor</td>\n",
       "      <td>8 GB DDR4 RAM</td>\n",
       "      <td>64 bit Windows 11 Operating System</td>\n",
       "      <td>256 GB SSD</td>\n",
       "      <td>CHUWI</td>\n",
       "    </tr>\n",
       "    <tr>\n",
       "      <th>4</th>\n",
       "      <td>HP Chromebook Intel Celeron Dual Core N4020 - ...</td>\n",
       "      <td>3.8</td>\n",
       "      <td>17990.0</td>\n",
       "      <td>Intel Celeron Dual Core Processor</td>\n",
       "      <td>4 GB LPDDR4 RAM</td>\n",
       "      <td>OS information not found</td>\n",
       "      <td></td>\n",
       "      <td>HP</td>\n",
       "    </tr>\n",
       "  </tbody>\n",
       "</table>\n",
       "</div>"
      ],
      "text/plain": [
       "                                             Product Rating      MRP  \\\n",
       "0  Lenovo AMD Ryzen 3 Quad Core 7330U - (8 GB/512...    4.3  31990.0   \n",
       "1  HP 15s AMD Ryzen 3 Quad Core 7320U - (8 GB/512...    4.3  34490.0   \n",
       "2  ZEBRONICS Pro Series Z Intel Core i5 12th Gen ...    3.8  33990.0   \n",
       "3  CHUWI Intel Celeron Dual Core 11th Gen N4020 -...    3.7  18990.0   \n",
       "4  HP Chromebook Intel Celeron Dual Core N4020 - ...    3.8  17990.0   \n",
       "\n",
       "                           Processor              RAM  \\\n",
       "0    AMD Ryzen 3 Quad Core Processor    8 GB DDR4 RAM   \n",
       "1    AMD Ryzen 3 Quad Core Processor  8 GB LPDDR5 RAM   \n",
       "2            Intel Core i5 Processor    8 GB DDR4 RAM   \n",
       "3  Intel Celeron Dual Core Processor    8 GB DDR4 RAM   \n",
       "4  Intel Celeron Dual Core Processor  4 GB LPDDR4 RAM   \n",
       "\n",
       "                                   OS     Storage      Brand  \n",
       "0         Windows 11 Operating System  512 GB SSD     Lenovo  \n",
       "1  64 bit Windows 11 Operating System  512 GB SSD         HP  \n",
       "2         Windows 11 Operating System  512 GB SSD  ZEBRONICS  \n",
       "3  64 bit Windows 11 Operating System  256 GB SSD      CHUWI  \n",
       "4            OS information not found                     HP  "
      ]
     },
     "execution_count": 84,
     "metadata": {},
     "output_type": "execute_result"
    }
   ],
   "source": [
    "df.head()"
   ]
  },
  {
   "cell_type": "code",
   "execution_count": 85,
   "id": "765c0096",
   "metadata": {},
   "outputs": [
    {
     "data": {
      "text/plain": [
       "Product      0\n",
       "Rating       0\n",
       "MRP          0\n",
       "Processor    0\n",
       "RAM          0\n",
       "OS           0\n",
       "Storage      0\n",
       "Brand        0\n",
       "dtype: int64"
      ]
     },
     "execution_count": 85,
     "metadata": {},
     "output_type": "execute_result"
    }
   ],
   "source": [
    "df.isnull().sum()"
   ]
  },
  {
   "cell_type": "code",
   "execution_count": null,
   "id": "0df6034c",
   "metadata": {},
   "outputs": [],
   "source": []
  },
  {
   "cell_type": "markdown",
   "id": "d22b3f79",
   "metadata": {},
   "source": [
    "## Data Visualisation"
   ]
  },
  {
   "cell_type": "code",
   "execution_count": 86,
   "id": "beae8e11",
   "metadata": {},
   "outputs": [],
   "source": [
    "import matplotlib.pyplot as plt\n",
    "import seaborn as sns\n",
    "import plotly as px"
   ]
  },
  {
   "cell_type": "code",
   "execution_count": 87,
   "id": "e8e755b3",
   "metadata": {},
   "outputs": [
    {
     "data": {
      "text/html": [
       "<div>\n",
       "<style scoped>\n",
       "    .dataframe tbody tr th:only-of-type {\n",
       "        vertical-align: middle;\n",
       "    }\n",
       "\n",
       "    .dataframe tbody tr th {\n",
       "        vertical-align: top;\n",
       "    }\n",
       "\n",
       "    .dataframe thead th {\n",
       "        text-align: right;\n",
       "    }\n",
       "</style>\n",
       "<table border=\"1\" class=\"dataframe\">\n",
       "  <thead>\n",
       "    <tr style=\"text-align: right;\">\n",
       "      <th></th>\n",
       "      <th>Product</th>\n",
       "      <th>Rating</th>\n",
       "      <th>MRP</th>\n",
       "      <th>Processor</th>\n",
       "      <th>RAM</th>\n",
       "      <th>OS</th>\n",
       "      <th>Storage</th>\n",
       "      <th>Brand</th>\n",
       "    </tr>\n",
       "  </thead>\n",
       "  <tbody>\n",
       "    <tr>\n",
       "      <th>0</th>\n",
       "      <td>Lenovo AMD Ryzen 3 Quad Core 7330U - (8 GB/512...</td>\n",
       "      <td>4.3</td>\n",
       "      <td>31990.0</td>\n",
       "      <td>AMD Ryzen 3 Quad Core Processor</td>\n",
       "      <td>8 GB DDR4 RAM</td>\n",
       "      <td>Windows 11 Operating System</td>\n",
       "      <td>512 GB SSD</td>\n",
       "      <td>Lenovo</td>\n",
       "    </tr>\n",
       "    <tr>\n",
       "      <th>1</th>\n",
       "      <td>HP 15s AMD Ryzen 3 Quad Core 7320U - (8 GB/512...</td>\n",
       "      <td>4.3</td>\n",
       "      <td>34490.0</td>\n",
       "      <td>AMD Ryzen 3 Quad Core Processor</td>\n",
       "      <td>8 GB LPDDR5 RAM</td>\n",
       "      <td>64 bit Windows 11 Operating System</td>\n",
       "      <td>512 GB SSD</td>\n",
       "      <td>HP</td>\n",
       "    </tr>\n",
       "    <tr>\n",
       "      <th>2</th>\n",
       "      <td>ZEBRONICS Pro Series Z Intel Core i5 12th Gen ...</td>\n",
       "      <td>3.8</td>\n",
       "      <td>33990.0</td>\n",
       "      <td>Intel Core i5 Processor</td>\n",
       "      <td>8 GB DDR4 RAM</td>\n",
       "      <td>Windows 11 Operating System</td>\n",
       "      <td>512 GB SSD</td>\n",
       "      <td>ZEBRONICS</td>\n",
       "    </tr>\n",
       "    <tr>\n",
       "      <th>3</th>\n",
       "      <td>CHUWI Intel Celeron Dual Core 11th Gen N4020 -...</td>\n",
       "      <td>3.7</td>\n",
       "      <td>18990.0</td>\n",
       "      <td>Intel Celeron Dual Core Processor</td>\n",
       "      <td>8 GB DDR4 RAM</td>\n",
       "      <td>64 bit Windows 11 Operating System</td>\n",
       "      <td>256 GB SSD</td>\n",
       "      <td>CHUWI</td>\n",
       "    </tr>\n",
       "    <tr>\n",
       "      <th>4</th>\n",
       "      <td>HP Chromebook Intel Celeron Dual Core N4020 - ...</td>\n",
       "      <td>3.8</td>\n",
       "      <td>17990.0</td>\n",
       "      <td>Intel Celeron Dual Core Processor</td>\n",
       "      <td>4 GB LPDDR4 RAM</td>\n",
       "      <td>OS information not found</td>\n",
       "      <td></td>\n",
       "      <td>HP</td>\n",
       "    </tr>\n",
       "  </tbody>\n",
       "</table>\n",
       "</div>"
      ],
      "text/plain": [
       "                                             Product Rating      MRP  \\\n",
       "0  Lenovo AMD Ryzen 3 Quad Core 7330U - (8 GB/512...    4.3  31990.0   \n",
       "1  HP 15s AMD Ryzen 3 Quad Core 7320U - (8 GB/512...    4.3  34490.0   \n",
       "2  ZEBRONICS Pro Series Z Intel Core i5 12th Gen ...    3.8  33990.0   \n",
       "3  CHUWI Intel Celeron Dual Core 11th Gen N4020 -...    3.7  18990.0   \n",
       "4  HP Chromebook Intel Celeron Dual Core N4020 - ...    3.8  17990.0   \n",
       "\n",
       "                           Processor              RAM  \\\n",
       "0    AMD Ryzen 3 Quad Core Processor    8 GB DDR4 RAM   \n",
       "1    AMD Ryzen 3 Quad Core Processor  8 GB LPDDR5 RAM   \n",
       "2            Intel Core i5 Processor    8 GB DDR4 RAM   \n",
       "3  Intel Celeron Dual Core Processor    8 GB DDR4 RAM   \n",
       "4  Intel Celeron Dual Core Processor  4 GB LPDDR4 RAM   \n",
       "\n",
       "                                   OS     Storage      Brand  \n",
       "0         Windows 11 Operating System  512 GB SSD     Lenovo  \n",
       "1  64 bit Windows 11 Operating System  512 GB SSD         HP  \n",
       "2         Windows 11 Operating System  512 GB SSD  ZEBRONICS  \n",
       "3  64 bit Windows 11 Operating System  256 GB SSD      CHUWI  \n",
       "4            OS information not found                     HP  "
      ]
     },
     "execution_count": 87,
     "metadata": {},
     "output_type": "execute_result"
    }
   ],
   "source": [
    "df.head()"
   ]
  },
  {
   "cell_type": "code",
   "execution_count": 88,
   "id": "2edc00ee",
   "metadata": {},
   "outputs": [
    {
     "data": {
      "text/plain": [
       "<Axes: xlabel='Brand', ylabel='MRP'>"
      ]
     },
     "execution_count": 88,
     "metadata": {},
     "output_type": "execute_result"
    },
    {
     "data": {
      "image/png": "[encoded data removed]",
      "text/plain": [
       "<Figure size 2000x700 with 1 Axes>"
      ]
     },
     "metadata": {},
     "output_type": "display_data"
    }
   ],
   "source": [
    "plt.figure(figsize=(20, 7))\n",
    "sns.boxplot(x = df.Brand, y = df.MRP)"
   ]
  },
  {
   "cell_type": "code",
   "execution_count": 89,
   "id": "7d5dada5",
   "metadata": {},
   "outputs": [],
   "source": [
    "#observation:\n"
   ]
  },
  {
   "cell_type": "code",
   "execution_count": 90,
   "id": "5e762a51",
   "metadata": {},
   "outputs": [
    {
     "name": "stderr",
     "output_type": "stream",
     "text": [
      "C:\\Users\\DELL\\AppData\\Local\\Temp\\ipykernel_24008\\1617200632.py:2: UserWarning: \n",
      "\n",
      "`distplot` is a deprecated function and will be removed in seaborn v0.14.0.\n",
      "\n",
      "Please adapt your code to use either `displot` (a figure-level function with\n",
      "similar flexibility) or `histplot` (an axes-level function for histograms).\n",
      "\n",
      "For a guide to updating your code to use the new functions, please see\n",
      "https://gist.github.com/mwaskom/de44147ed2974457ad6372750bbe5751\n",
      "\n",
      "  sns.distplot(df.MRP)\n"
     ]
    },
    {
     "data": {
      "text/plain": [
       "<Axes: xlabel='MRP', ylabel='Density'>"
      ]
     },
     "execution_count": 90,
     "metadata": {},
     "output_type": "execute_result"
    },
    {
     "data": {
      "image/png": "[encoded data removed]",
      "text/plain": [
       "<Figure size 1500x500 with 1 Axes>"
      ]
     },
     "metadata": {},
     "output_type": "display_data"
    }
   ],
   "source": [
    "plt.figure(figsize=(15, 5))\n",
    "sns.distplot(df.MRP)"
   ]
  },
  {
   "cell_type": "code",
   "execution_count": 91,
   "id": "c0914add",
   "metadata": {},
   "outputs": [
    {
     "data": {
      "text/plain": [
       "<Axes: xlabel='count', ylabel='Brand'>"
      ]
     },
     "execution_count": 91,
     "metadata": {},
     "output_type": "execute_result"
    },
    {
     "data": {
      "image/png": "[encoded data removed]",
      "text/plain": [
       "<Figure size 2000x500 with 1 Axes>"
      ]
     },
     "metadata": {},
     "output_type": "display_data"
    }
   ],
   "source": [
    "plt.figure(figsize=(20, 5))\n",
    "sns.countplot(df.Brand)"
   ]
  },
  {
   "cell_type": "code",
   "execution_count": 92,
   "id": "65e418e9",
   "metadata": {},
   "outputs": [
    {
     "data": {
      "text/html": [
       "<div>\n",
       "<style scoped>\n",
       "    .dataframe tbody tr th:only-of-type {\n",
       "        vertical-align: middle;\n",
       "    }\n",
       "\n",
       "    .dataframe tbody tr th {\n",
       "        vertical-align: top;\n",
       "    }\n",
       "\n",
       "    .dataframe thead tr th {\n",
       "        text-align: left;\n",
       "    }\n",
       "\n",
       "    .dataframe thead tr:last-of-type th {\n",
       "        text-align: right;\n",
       "    }\n",
       "</style>\n",
       "<table border=\"1\" class=\"dataframe\">\n",
       "  <thead>\n",
       "    <tr>\n",
       "      <th></th>\n",
       "      <th colspan=\"3\" halign=\"left\">MRP</th>\n",
       "    </tr>\n",
       "    <tr>\n",
       "      <th></th>\n",
       "      <th>min</th>\n",
       "      <th>max</th>\n",
       "      <th>mean</th>\n",
       "    </tr>\n",
       "    <tr>\n",
       "      <th>Brand</th>\n",
       "      <th></th>\n",
       "      <th></th>\n",
       "      <th></th>\n",
       "    </tr>\n",
       "  </thead>\n",
       "  <tbody>\n",
       "    <tr>\n",
       "      <th>ASUS</th>\n",
       "      <td>34990.0</td>\n",
       "      <td>54990.0</td>\n",
       "      <td>44990.000000</td>\n",
       "    </tr>\n",
       "    <tr>\n",
       "      <th>Acer</th>\n",
       "      <td>47990.0</td>\n",
       "      <td>47990.0</td>\n",
       "      <td>47990.000000</td>\n",
       "    </tr>\n",
       "    <tr>\n",
       "      <th>Apple</th>\n",
       "      <td>101990.0</td>\n",
       "      <td>101990.0</td>\n",
       "      <td>101990.000000</td>\n",
       "    </tr>\n",
       "    <tr>\n",
       "      <th>CHUWI</th>\n",
       "      <td>18990.0</td>\n",
       "      <td>18990.0</td>\n",
       "      <td>18990.000000</td>\n",
       "    </tr>\n",
       "    <tr>\n",
       "      <th>Colorful</th>\n",
       "      <td>79990.0</td>\n",
       "      <td>79990.0</td>\n",
       "      <td>79990.000000</td>\n",
       "    </tr>\n",
       "    <tr>\n",
       "      <th>DELL</th>\n",
       "      <td>36990.0</td>\n",
       "      <td>57250.0</td>\n",
       "      <td>47120.000000</td>\n",
       "    </tr>\n",
       "    <tr>\n",
       "      <th>HP</th>\n",
       "      <td>17990.0</td>\n",
       "      <td>108900.0</td>\n",
       "      <td>69399.166667</td>\n",
       "    </tr>\n",
       "    <tr>\n",
       "      <th>Lenovo</th>\n",
       "      <td>31990.0</td>\n",
       "      <td>59190.0</td>\n",
       "      <td>51415.000000</td>\n",
       "    </tr>\n",
       "    <tr>\n",
       "      <th>ZEBRONICS</th>\n",
       "      <td>33990.0</td>\n",
       "      <td>33990.0</td>\n",
       "      <td>33990.000000</td>\n",
       "    </tr>\n",
       "  </tbody>\n",
       "</table>\n",
       "</div>"
      ],
      "text/plain": [
       "                MRP                         \n",
       "                min       max           mean\n",
       "Brand                                       \n",
       "ASUS        34990.0   54990.0   44990.000000\n",
       "Acer        47990.0   47990.0   47990.000000\n",
       "Apple      101990.0  101990.0  101990.000000\n",
       "CHUWI       18990.0   18990.0   18990.000000\n",
       "Colorful    79990.0   79990.0   79990.000000\n",
       "DELL        36990.0   57250.0   47120.000000\n",
       "HP          17990.0  108900.0   69399.166667\n",
       "Lenovo      31990.0   59190.0   51415.000000\n",
       "ZEBRONICS   33990.0   33990.0   33990.000000"
      ]
     },
     "execution_count": 92,
     "metadata": {},
     "output_type": "execute_result"
    }
   ],
   "source": [
    "df.groupby(['Brand']).agg({'MRP' : ['min', 'max', 'mean']})"
   ]
  },
  {
   "cell_type": "code",
   "execution_count": 93,
   "id": "d2afb245",
   "metadata": {},
   "outputs": [
    {
     "data": {
      "text/plain": [
       "<Axes: xlabel='Brand'>"
      ]
     },
     "execution_count": 93,
     "metadata": {},
     "output_type": "execute_result"
    },
    {
     "data": {
      "image/png": "[encoded data removed]",
      "text/plain": [
       "<Figure size 1500x500 with 1 Axes>"
      ]
     },
     "metadata": {},
     "output_type": "display_data"
    }
   ],
   "source": [
    "plt.figure(figsize=(15, 5))\n",
    "df.groupby(['Brand'])['MRP'].max().plot(kind = 'bar')"
   ]
  },
  {
   "cell_type": "code",
   "execution_count": 94,
   "id": "584821ef",
   "metadata": {},
   "outputs": [
    {
     "data": {
      "text/plain": [
       "<Axes: xlabel='Brand'>"
      ]
     },
     "execution_count": 94,
     "metadata": {},
     "output_type": "execute_result"
    },
    {
     "data": {
      "image/png": "[encoded data removed]",
      "text/plain": [
       "<Figure size 1500x500 with 1 Axes>"
      ]
     },
     "metadata": {},
     "output_type": "display_data"
    }
   ],
   "source": [
    "plt.figure(figsize=(15, 5))\n",
    "df.groupby(['Brand'])['MRP'].min().plot(kind = 'bar')"
   ]
  },
  {
   "cell_type": "code",
   "execution_count": null,
   "id": "a4eee454",
   "metadata": {},
   "outputs": [],
   "source": []
  },
  {
   "cell_type": "code",
   "execution_count": null,
   "id": "517f50a0",
   "metadata": {},
   "outputs": [],
   "source": []
  },
  {
   "cell_type": "code",
   "execution_count": null,
   "id": "f9a35ed3",
   "metadata": {},
   "outputs": [],
   "source": []
  }
 ],
 "metadata": {
  "kernelspec": {
   "display_name": "Python 3 (ipykernel)",
   "language": "python",
   "name": "python3"
  },
  "language_info": {
   "codemirror_mode": {
    "name": "ipython",
    "version": 3
   },
   "file_extension": ".py",
   "mimetype": "text/x-python",
   "name": "python",
   "nbconvert_exporter": "python",
   "pygments_lexer": "ipython3",
   "version": "3.12.2"
  }
 },
 "nbformat": 4,
 "nbformat_minor": 5
}
